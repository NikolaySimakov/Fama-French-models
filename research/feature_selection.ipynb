{
 "cells": [
  {
   "cell_type": "markdown",
   "metadata": {},
   "source": [
    "#### How to use Boosting\n",
    "\n",
    "`https://keeryang.github.io/papers/Profits_2021Aug28.pdf`"
   ]
  },
  {
   "cell_type": "code",
   "execution_count": 1,
   "metadata": {},
   "outputs": [
    {
     "name": "stderr",
     "output_type": "stream",
     "text": [
      "/Users/daniel/Desktop/Projects/DS/cc/Fama-French-models/.venv/lib/python3.11/site-packages/tqdm/auto.py:21: TqdmWarning: IProgress not found. Please update jupyter and ipywidgets. See https://ipywidgets.readthedocs.io/en/stable/user_install.html\n",
      "  from .autonotebook import tqdm as notebook_tqdm\n"
     ]
    }
   ],
   "source": [
    "import optuna\n",
    "from lightgbm import plot_importance, LGBMRegressor\n",
    "import getFamaFrenchFactors as gff\n",
    "import matplotlib.pyplot as plt\n",
    "\n",
    "import numpy as np\n",
    "import pandas as pd\n",
    "from sklearn.model_selection import train_test_split, cross_val_score\n",
    "from sklearn.metrics import mean_squared_error, r2_score"
   ]
  },
  {
   "cell_type": "code",
   "execution_count": 2,
   "metadata": {},
   "outputs": [
    {
     "data": {
      "text/html": [
       "<div>\n",
       "<style scoped>\n",
       "    .dataframe tbody tr th:only-of-type {\n",
       "        vertical-align: middle;\n",
       "    }\n",
       "\n",
       "    .dataframe tbody tr th {\n",
       "        vertical-align: top;\n",
       "    }\n",
       "\n",
       "    .dataframe thead th {\n",
       "        text-align: right;\n",
       "    }\n",
       "</style>\n",
       "<table border=\"1\" class=\"dataframe\">\n",
       "  <thead>\n",
       "    <tr style=\"text-align: right;\">\n",
       "      <th>Symbol</th>\n",
       "      <th>A</th>\n",
       "      <th>AAL</th>\n",
       "      <th>AAPL</th>\n",
       "      <th>ABBV</th>\n",
       "      <th>ABNB</th>\n",
       "      <th>ABT</th>\n",
       "      <th>ACGL</th>\n",
       "      <th>ACN</th>\n",
       "      <th>ADBE</th>\n",
       "      <th>ADI</th>\n",
       "      <th>...</th>\n",
       "      <th>WTW</th>\n",
       "      <th>WY</th>\n",
       "      <th>WYNN</th>\n",
       "      <th>XEL</th>\n",
       "      <th>XOM</th>\n",
       "      <th>XYL</th>\n",
       "      <th>YUM</th>\n",
       "      <th>ZBH</th>\n",
       "      <th>ZBRA</th>\n",
       "      <th>ZTS</th>\n",
       "    </tr>\n",
       "    <tr>\n",
       "      <th>Date</th>\n",
       "      <th></th>\n",
       "      <th></th>\n",
       "      <th></th>\n",
       "      <th></th>\n",
       "      <th></th>\n",
       "      <th></th>\n",
       "      <th></th>\n",
       "      <th></th>\n",
       "      <th></th>\n",
       "      <th></th>\n",
       "      <th></th>\n",
       "      <th></th>\n",
       "      <th></th>\n",
       "      <th></th>\n",
       "      <th></th>\n",
       "      <th></th>\n",
       "      <th></th>\n",
       "      <th></th>\n",
       "      <th></th>\n",
       "      <th></th>\n",
       "      <th></th>\n",
       "    </tr>\n",
       "  </thead>\n",
       "  <tbody>\n",
       "    <tr>\n",
       "      <th>2010-01-04</th>\n",
       "      <td>20.122227</td>\n",
       "      <td>4.496877</td>\n",
       "      <td>6.470741</td>\n",
       "      <td>NaN</td>\n",
       "      <td>NaN</td>\n",
       "      <td>18.952162</td>\n",
       "      <td>7.994444</td>\n",
       "      <td>32.212460</td>\n",
       "      <td>37.090000</td>\n",
       "      <td>23.694084</td>\n",
       "      <td>...</td>\n",
       "      <td>52.883579</td>\n",
       "      <td>9.905468</td>\n",
       "      <td>41.963718</td>\n",
       "      <td>12.918809</td>\n",
       "      <td>43.185623</td>\n",
       "      <td>NaN</td>\n",
       "      <td>19.158102</td>\n",
       "      <td>52.587051</td>\n",
       "      <td>28.670000</td>\n",
       "      <td>NaN</td>\n",
       "    </tr>\n",
       "    <tr>\n",
       "      <th>2010-01-05</th>\n",
       "      <td>19.903643</td>\n",
       "      <td>5.005957</td>\n",
       "      <td>6.481929</td>\n",
       "      <td>NaN</td>\n",
       "      <td>NaN</td>\n",
       "      <td>18.799042</td>\n",
       "      <td>7.967778</td>\n",
       "      <td>32.411549</td>\n",
       "      <td>37.700001</td>\n",
       "      <td>23.656675</td>\n",
       "      <td>...</td>\n",
       "      <td>52.765053</td>\n",
       "      <td>10.115747</td>\n",
       "      <td>44.515926</td>\n",
       "      <td>12.765595</td>\n",
       "      <td>43.354244</td>\n",
       "      <td>NaN</td>\n",
       "      <td>19.092571</td>\n",
       "      <td>54.251759</td>\n",
       "      <td>28.620001</td>\n",
       "      <td>NaN</td>\n",
       "    </tr>\n",
       "    <tr>\n",
       "      <th>2010-01-06</th>\n",
       "      <td>19.832930</td>\n",
       "      <td>4.798554</td>\n",
       "      <td>6.378825</td>\n",
       "      <td>NaN</td>\n",
       "      <td>NaN</td>\n",
       "      <td>18.903446</td>\n",
       "      <td>7.933333</td>\n",
       "      <td>32.756096</td>\n",
       "      <td>37.619999</td>\n",
       "      <td>23.611784</td>\n",
       "      <td>...</td>\n",
       "      <td>53.614498</td>\n",
       "      <td>10.003899</td>\n",
       "      <td>43.932011</td>\n",
       "      <td>12.790110</td>\n",
       "      <td>43.728970</td>\n",
       "      <td>NaN</td>\n",
       "      <td>18.956089</td>\n",
       "      <td>54.234219</td>\n",
       "      <td>28.400000</td>\n",
       "      <td>NaN</td>\n",
       "    </tr>\n",
       "    <tr>\n",
       "      <th>2010-01-07</th>\n",
       "      <td>19.807215</td>\n",
       "      <td>4.939964</td>\n",
       "      <td>6.367033</td>\n",
       "      <td>NaN</td>\n",
       "      <td>NaN</td>\n",
       "      <td>19.060045</td>\n",
       "      <td>7.886667</td>\n",
       "      <td>32.725471</td>\n",
       "      <td>36.889999</td>\n",
       "      <td>23.424749</td>\n",
       "      <td>...</td>\n",
       "      <td>53.456463</td>\n",
       "      <td>9.959157</td>\n",
       "      <td>44.870213</td>\n",
       "      <td>12.734954</td>\n",
       "      <td>43.591564</td>\n",
       "      <td>NaN</td>\n",
       "      <td>18.950626</td>\n",
       "      <td>55.478374</td>\n",
       "      <td>27.690001</td>\n",
       "      <td>NaN</td>\n",
       "    </tr>\n",
       "    <tr>\n",
       "      <th>2010-01-08</th>\n",
       "      <td>19.800785</td>\n",
       "      <td>4.845691</td>\n",
       "      <td>6.409364</td>\n",
       "      <td>NaN</td>\n",
       "      <td>NaN</td>\n",
       "      <td>19.157482</td>\n",
       "      <td>7.871111</td>\n",
       "      <td>32.595306</td>\n",
       "      <td>36.689999</td>\n",
       "      <td>23.559416</td>\n",
       "      <td>...</td>\n",
       "      <td>53.397202</td>\n",
       "      <td>9.867439</td>\n",
       "      <td>44.548744</td>\n",
       "      <td>12.741086</td>\n",
       "      <td>43.416687</td>\n",
       "      <td>NaN</td>\n",
       "      <td>18.956089</td>\n",
       "      <td>54.313072</td>\n",
       "      <td>27.600000</td>\n",
       "      <td>NaN</td>\n",
       "    </tr>\n",
       "  </tbody>\n",
       "</table>\n",
       "<p>5 rows × 503 columns</p>\n",
       "</div>"
      ],
      "text/plain": [
       "Symbol              A       AAL      AAPL  ABBV  ABNB        ABT      ACGL  \\\n",
       "Date                                                                         \n",
       "2010-01-04  20.122227  4.496877  6.470741   NaN   NaN  18.952162  7.994444   \n",
       "2010-01-05  19.903643  5.005957  6.481929   NaN   NaN  18.799042  7.967778   \n",
       "2010-01-06  19.832930  4.798554  6.378825   NaN   NaN  18.903446  7.933333   \n",
       "2010-01-07  19.807215  4.939964  6.367033   NaN   NaN  19.060045  7.886667   \n",
       "2010-01-08  19.800785  4.845691  6.409364   NaN   NaN  19.157482  7.871111   \n",
       "\n",
       "Symbol            ACN       ADBE        ADI  ...        WTW         WY  \\\n",
       "Date                                         ...                         \n",
       "2010-01-04  32.212460  37.090000  23.694084  ...  52.883579   9.905468   \n",
       "2010-01-05  32.411549  37.700001  23.656675  ...  52.765053  10.115747   \n",
       "2010-01-06  32.756096  37.619999  23.611784  ...  53.614498  10.003899   \n",
       "2010-01-07  32.725471  36.889999  23.424749  ...  53.456463   9.959157   \n",
       "2010-01-08  32.595306  36.689999  23.559416  ...  53.397202   9.867439   \n",
       "\n",
       "Symbol           WYNN        XEL        XOM  XYL        YUM        ZBH  \\\n",
       "Date                                                                     \n",
       "2010-01-04  41.963718  12.918809  43.185623  NaN  19.158102  52.587051   \n",
       "2010-01-05  44.515926  12.765595  43.354244  NaN  19.092571  54.251759   \n",
       "2010-01-06  43.932011  12.790110  43.728970  NaN  18.956089  54.234219   \n",
       "2010-01-07  44.870213  12.734954  43.591564  NaN  18.950626  55.478374   \n",
       "2010-01-08  44.548744  12.741086  43.416687  NaN  18.956089  54.313072   \n",
       "\n",
       "Symbol           ZBRA  ZTS  \n",
       "Date                        \n",
       "2010-01-04  28.670000  NaN  \n",
       "2010-01-05  28.620001  NaN  \n",
       "2010-01-06  28.400000  NaN  \n",
       "2010-01-07  27.690001  NaN  \n",
       "2010-01-08  27.600000  NaN  \n",
       "\n",
       "[5 rows x 503 columns]"
      ]
     },
     "execution_count": 2,
     "metadata": {},
     "output_type": "execute_result"
    }
   ],
   "source": [
    "stocks_df = pd.read_csv('../data/market_data/sp500/sp500_stocks.csv')\n",
    "df = stocks_df.pivot(\n",
    "    index='Date', columns='Symbol', values='Adj Close')\n",
    "\n",
    "df = df.reset_index()\n",
    "df['Date'] = pd.to_datetime(df['Date'])\n",
    "df = df.set_index('Date')\n",
    "\n",
    "df.head()"
   ]
  },
  {
   "cell_type": "code",
   "execution_count": 3,
   "metadata": {},
   "outputs": [],
   "source": [
    "tickers = ['AAPL']"
   ]
  },
  {
   "cell_type": "code",
   "execution_count": 4,
   "metadata": {},
   "outputs": [
    {
     "data": {
      "text/html": [
       "<div>\n",
       "<style scoped>\n",
       "    .dataframe tbody tr th:only-of-type {\n",
       "        vertical-align: middle;\n",
       "    }\n",
       "\n",
       "    .dataframe tbody tr th {\n",
       "        vertical-align: top;\n",
       "    }\n",
       "\n",
       "    .dataframe thead th {\n",
       "        text-align: right;\n",
       "    }\n",
       "</style>\n",
       "<table border=\"1\" class=\"dataframe\">\n",
       "  <thead>\n",
       "    <tr style=\"text-align: right;\">\n",
       "      <th></th>\n",
       "      <th>date_ff_factors</th>\n",
       "      <th>Mkt-RF</th>\n",
       "      <th>SMB</th>\n",
       "      <th>HML</th>\n",
       "      <th>RMW</th>\n",
       "      <th>CMA</th>\n",
       "      <th>RF</th>\n",
       "    </tr>\n",
       "  </thead>\n",
       "  <tbody>\n",
       "    <tr>\n",
       "      <th>0</th>\n",
       "      <td>1963-07-31</td>\n",
       "      <td>-0.0039</td>\n",
       "      <td>-0.0041</td>\n",
       "      <td>-0.0097</td>\n",
       "      <td>0.0068</td>\n",
       "      <td>-0.0118</td>\n",
       "      <td>0.0027</td>\n",
       "    </tr>\n",
       "    <tr>\n",
       "      <th>1</th>\n",
       "      <td>1963-08-31</td>\n",
       "      <td>0.0507</td>\n",
       "      <td>-0.0080</td>\n",
       "      <td>0.0180</td>\n",
       "      <td>0.0036</td>\n",
       "      <td>-0.0035</td>\n",
       "      <td>0.0025</td>\n",
       "    </tr>\n",
       "    <tr>\n",
       "      <th>2</th>\n",
       "      <td>1963-09-30</td>\n",
       "      <td>-0.0157</td>\n",
       "      <td>-0.0052</td>\n",
       "      <td>0.0013</td>\n",
       "      <td>-0.0071</td>\n",
       "      <td>0.0029</td>\n",
       "      <td>0.0027</td>\n",
       "    </tr>\n",
       "    <tr>\n",
       "      <th>3</th>\n",
       "      <td>1963-10-31</td>\n",
       "      <td>0.0253</td>\n",
       "      <td>-0.0139</td>\n",
       "      <td>-0.0010</td>\n",
       "      <td>0.0280</td>\n",
       "      <td>-0.0201</td>\n",
       "      <td>0.0029</td>\n",
       "    </tr>\n",
       "    <tr>\n",
       "      <th>4</th>\n",
       "      <td>1963-11-30</td>\n",
       "      <td>-0.0085</td>\n",
       "      <td>-0.0088</td>\n",
       "      <td>0.0175</td>\n",
       "      <td>-0.0051</td>\n",
       "      <td>0.0224</td>\n",
       "      <td>0.0027</td>\n",
       "    </tr>\n",
       "  </tbody>\n",
       "</table>\n",
       "</div>"
      ],
      "text/plain": [
       "  date_ff_factors  Mkt-RF     SMB     HML     RMW     CMA      RF\n",
       "0      1963-07-31 -0.0039 -0.0041 -0.0097  0.0068 -0.0118  0.0027\n",
       "1      1963-08-31  0.0507 -0.0080  0.0180  0.0036 -0.0035  0.0025\n",
       "2      1963-09-30 -0.0157 -0.0052  0.0013 -0.0071  0.0029  0.0027\n",
       "3      1963-10-31  0.0253 -0.0139 -0.0010  0.0280 -0.0201  0.0029\n",
       "4      1963-11-30 -0.0085 -0.0088  0.0175 -0.0051  0.0224  0.0027"
      ]
     },
     "execution_count": 4,
     "metadata": {},
     "output_type": "execute_result"
    }
   ],
   "source": [
    "ff5 = pd.DataFrame(gff.famaFrench5Factor(frequency='m'))\n",
    "ff5.head()"
   ]
  },
  {
   "cell_type": "code",
   "execution_count": 5,
   "metadata": {},
   "outputs": [],
   "source": [
    "fff = ['Mkt-RF', 'SMB', 'HML', 'RMW', 'CMA']\n",
    "\n",
    "N_lags = 10\n",
    "\n",
    "for f in fff:\n",
    "  for i in range(1, N_lags):\n",
    "    ff5[f'{f}_{i}L'] = ff5[f].shift(-i)\n",
    "    "
   ]
  },
  {
   "cell_type": "code",
   "execution_count": 6,
   "metadata": {},
   "outputs": [],
   "source": [
    "mon = pd.DataFrame(df[tickers[0]]).resample('ME').last()\n",
    "mon_rets = mon.pct_change().dropna()"
   ]
  },
  {
   "cell_type": "code",
   "execution_count": 7,
   "metadata": {},
   "outputs": [
    {
     "data": {
      "text/html": [
       "<div>\n",
       "<style scoped>\n",
       "    .dataframe tbody tr th:only-of-type {\n",
       "        vertical-align: middle;\n",
       "    }\n",
       "\n",
       "    .dataframe tbody tr th {\n",
       "        vertical-align: top;\n",
       "    }\n",
       "\n",
       "    .dataframe thead th {\n",
       "        text-align: right;\n",
       "    }\n",
       "</style>\n",
       "<table border=\"1\" class=\"dataframe\">\n",
       "  <thead>\n",
       "    <tr style=\"text-align: right;\">\n",
       "      <th></th>\n",
       "      <th>Mkt-RF</th>\n",
       "      <th>SMB</th>\n",
       "      <th>HML</th>\n",
       "      <th>RMW</th>\n",
       "      <th>CMA</th>\n",
       "      <th>RF</th>\n",
       "    </tr>\n",
       "  </thead>\n",
       "  <tbody>\n",
       "    <tr>\n",
       "      <th>0</th>\n",
       "      <td>-0.003908</td>\n",
       "      <td>-0.004108</td>\n",
       "      <td>-0.009747</td>\n",
       "      <td>0.006777</td>\n",
       "      <td>-0.011870</td>\n",
       "      <td>0.002696</td>\n",
       "    </tr>\n",
       "    <tr>\n",
       "      <th>1</th>\n",
       "      <td>0.049457</td>\n",
       "      <td>-0.008032</td>\n",
       "      <td>0.017840</td>\n",
       "      <td>0.003594</td>\n",
       "      <td>-0.003506</td>\n",
       "      <td>0.002497</td>\n",
       "    </tr>\n",
       "    <tr>\n",
       "      <th>2</th>\n",
       "      <td>-0.015825</td>\n",
       "      <td>-0.005214</td>\n",
       "      <td>0.001299</td>\n",
       "      <td>-0.007125</td>\n",
       "      <td>0.002896</td>\n",
       "      <td>0.002696</td>\n",
       "    </tr>\n",
       "    <tr>\n",
       "      <th>3</th>\n",
       "      <td>0.024985</td>\n",
       "      <td>-0.013998</td>\n",
       "      <td>-0.001001</td>\n",
       "      <td>0.027615</td>\n",
       "      <td>-0.020305</td>\n",
       "      <td>0.002896</td>\n",
       "    </tr>\n",
       "    <tr>\n",
       "      <th>4</th>\n",
       "      <td>-0.008536</td>\n",
       "      <td>-0.008839</td>\n",
       "      <td>0.017349</td>\n",
       "      <td>-0.005113</td>\n",
       "      <td>0.022153</td>\n",
       "      <td>0.002696</td>\n",
       "    </tr>\n",
       "    <tr>\n",
       "      <th>...</th>\n",
       "      <td>...</td>\n",
       "      <td>...</td>\n",
       "      <td>...</td>\n",
       "      <td>...</td>\n",
       "      <td>...</td>\n",
       "      <td>...</td>\n",
       "    </tr>\n",
       "    <tr>\n",
       "      <th>724</th>\n",
       "      <td>0.084709</td>\n",
       "      <td>-0.001201</td>\n",
       "      <td>0.016267</td>\n",
       "      <td>-0.039885</td>\n",
       "      <td>-0.010050</td>\n",
       "      <td>0.004390</td>\n",
       "    </tr>\n",
       "    <tr>\n",
       "      <th>725</th>\n",
       "      <td>0.047551</td>\n",
       "      <td>0.070645</td>\n",
       "      <td>0.048123</td>\n",
       "      <td>-0.031181</td>\n",
       "      <td>0.013114</td>\n",
       "      <td>0.004291</td>\n",
       "    </tr>\n",
       "    <tr>\n",
       "      <th>726</th>\n",
       "      <td>0.007075</td>\n",
       "      <td>-0.059113</td>\n",
       "      <td>-0.024088</td>\n",
       "      <td>0.006876</td>\n",
       "      <td>-0.009646</td>\n",
       "      <td>0.004689</td>\n",
       "    </tr>\n",
       "    <tr>\n",
       "      <th>727</th>\n",
       "      <td>0.049361</td>\n",
       "      <td>-0.007831</td>\n",
       "      <td>-0.035524</td>\n",
       "      <td>-0.020101</td>\n",
       "      <td>-0.021632</td>\n",
       "      <td>0.004191</td>\n",
       "    </tr>\n",
       "    <tr>\n",
       "      <th>728</th>\n",
       "      <td>0.027907</td>\n",
       "      <td>-0.011668</td>\n",
       "      <td>0.041046</td>\n",
       "      <td>0.014692</td>\n",
       "      <td>0.011731</td>\n",
       "      <td>0.004291</td>\n",
       "    </tr>\n",
       "  </tbody>\n",
       "</table>\n",
       "<p>729 rows × 6 columns</p>\n",
       "</div>"
      ],
      "text/plain": [
       "       Mkt-RF       SMB       HML       RMW       CMA        RF\n",
       "0   -0.003908 -0.004108 -0.009747  0.006777 -0.011870  0.002696\n",
       "1    0.049457 -0.008032  0.017840  0.003594 -0.003506  0.002497\n",
       "2   -0.015825 -0.005214  0.001299 -0.007125  0.002896  0.002696\n",
       "3    0.024985 -0.013998 -0.001001  0.027615 -0.020305  0.002896\n",
       "4   -0.008536 -0.008839  0.017349 -0.005113  0.022153  0.002696\n",
       "..        ...       ...       ...       ...       ...       ...\n",
       "724  0.084709 -0.001201  0.016267 -0.039885 -0.010050  0.004390\n",
       "725  0.047551  0.070645  0.048123 -0.031181  0.013114  0.004291\n",
       "726  0.007075 -0.059113 -0.024088  0.006876 -0.009646  0.004689\n",
       "727  0.049361 -0.007831 -0.035524 -0.020101 -0.021632  0.004191\n",
       "728  0.027907 -0.011668  0.041046  0.014692  0.011731  0.004291\n",
       "\n",
       "[729 rows x 6 columns]"
      ]
     },
     "execution_count": 7,
     "metadata": {},
     "output_type": "execute_result"
    }
   ],
   "source": [
    "import numpy as np\n",
    "\n",
    "# Пример преобразования с использованием логарифма\n",
    "log_transformed_features = np.log1p(\n",
    "    ff5[['Mkt-RF', 'SMB', 'HML', 'RMW', 'CMA', 'RF']])\n",
    "\n",
    "log_transformed_features"
   ]
  },
  {
   "cell_type": "code",
   "execution_count": 8,
   "metadata": {},
   "outputs": [
    {
     "data": {
      "text/html": [
       "<div>\n",
       "<style scoped>\n",
       "    .dataframe tbody tr th:only-of-type {\n",
       "        vertical-align: middle;\n",
       "    }\n",
       "\n",
       "    .dataframe tbody tr th {\n",
       "        vertical-align: top;\n",
       "    }\n",
       "\n",
       "    .dataframe thead th {\n",
       "        text-align: right;\n",
       "    }\n",
       "</style>\n",
       "<table border=\"1\" class=\"dataframe\">\n",
       "  <thead>\n",
       "    <tr style=\"text-align: right;\">\n",
       "      <th></th>\n",
       "      <th>Mkt-RF</th>\n",
       "      <th>SMB</th>\n",
       "      <th>HML</th>\n",
       "      <th>RMW</th>\n",
       "      <th>CMA</th>\n",
       "      <th>RF</th>\n",
       "    </tr>\n",
       "  </thead>\n",
       "  <tbody>\n",
       "    <tr>\n",
       "      <th>0</th>\n",
       "      <td>0.062450</td>\n",
       "      <td>0.064031</td>\n",
       "      <td>0.098489</td>\n",
       "      <td>0.082462</td>\n",
       "      <td>0.108628</td>\n",
       "      <td>0.051962</td>\n",
       "    </tr>\n",
       "    <tr>\n",
       "      <th>1</th>\n",
       "      <td>0.225167</td>\n",
       "      <td>0.089443</td>\n",
       "      <td>0.134164</td>\n",
       "      <td>0.060000</td>\n",
       "      <td>0.059161</td>\n",
       "      <td>0.050000</td>\n",
       "    </tr>\n",
       "    <tr>\n",
       "      <th>2</th>\n",
       "      <td>0.125300</td>\n",
       "      <td>0.072111</td>\n",
       "      <td>0.036056</td>\n",
       "      <td>0.084261</td>\n",
       "      <td>0.053852</td>\n",
       "      <td>0.051962</td>\n",
       "    </tr>\n",
       "    <tr>\n",
       "      <th>3</th>\n",
       "      <td>0.159060</td>\n",
       "      <td>0.117898</td>\n",
       "      <td>0.031623</td>\n",
       "      <td>0.167332</td>\n",
       "      <td>0.141774</td>\n",
       "      <td>0.053852</td>\n",
       "    </tr>\n",
       "    <tr>\n",
       "      <th>4</th>\n",
       "      <td>0.092195</td>\n",
       "      <td>0.093808</td>\n",
       "      <td>0.132288</td>\n",
       "      <td>0.071414</td>\n",
       "      <td>0.149666</td>\n",
       "      <td>0.051962</td>\n",
       "    </tr>\n",
       "    <tr>\n",
       "      <th>...</th>\n",
       "      <td>...</td>\n",
       "      <td>...</td>\n",
       "      <td>...</td>\n",
       "      <td>...</td>\n",
       "      <td>...</td>\n",
       "      <td>...</td>\n",
       "    </tr>\n",
       "    <tr>\n",
       "      <th>724</th>\n",
       "      <td>0.297321</td>\n",
       "      <td>0.034641</td>\n",
       "      <td>0.128062</td>\n",
       "      <td>0.197737</td>\n",
       "      <td>0.100000</td>\n",
       "      <td>0.066332</td>\n",
       "    </tr>\n",
       "    <tr>\n",
       "      <th>725</th>\n",
       "      <td>0.220681</td>\n",
       "      <td>0.270555</td>\n",
       "      <td>0.222036</td>\n",
       "      <td>0.175214</td>\n",
       "      <td>0.114891</td>\n",
       "      <td>0.065574</td>\n",
       "    </tr>\n",
       "    <tr>\n",
       "      <th>726</th>\n",
       "      <td>0.084261</td>\n",
       "      <td>0.239583</td>\n",
       "      <td>0.154272</td>\n",
       "      <td>0.083066</td>\n",
       "      <td>0.097980</td>\n",
       "      <td>0.068557</td>\n",
       "    </tr>\n",
       "    <tr>\n",
       "      <th>727</th>\n",
       "      <td>0.224944</td>\n",
       "      <td>0.088318</td>\n",
       "      <td>0.186815</td>\n",
       "      <td>0.141067</td>\n",
       "      <td>0.146287</td>\n",
       "      <td>0.064807</td>\n",
       "    </tr>\n",
       "    <tr>\n",
       "      <th>728</th>\n",
       "      <td>0.168226</td>\n",
       "      <td>0.107703</td>\n",
       "      <td>0.204695</td>\n",
       "      <td>0.121655</td>\n",
       "      <td>0.108628</td>\n",
       "      <td>0.065574</td>\n",
       "    </tr>\n",
       "  </tbody>\n",
       "</table>\n",
       "<p>729 rows × 6 columns</p>\n",
       "</div>"
      ],
      "text/plain": [
       "       Mkt-RF       SMB       HML       RMW       CMA        RF\n",
       "0    0.062450  0.064031  0.098489  0.082462  0.108628  0.051962\n",
       "1    0.225167  0.089443  0.134164  0.060000  0.059161  0.050000\n",
       "2    0.125300  0.072111  0.036056  0.084261  0.053852  0.051962\n",
       "3    0.159060  0.117898  0.031623  0.167332  0.141774  0.053852\n",
       "4    0.092195  0.093808  0.132288  0.071414  0.149666  0.051962\n",
       "..        ...       ...       ...       ...       ...       ...\n",
       "724  0.297321  0.034641  0.128062  0.197737  0.100000  0.066332\n",
       "725  0.220681  0.270555  0.222036  0.175214  0.114891  0.065574\n",
       "726  0.084261  0.239583  0.154272  0.083066  0.097980  0.068557\n",
       "727  0.224944  0.088318  0.186815  0.141067  0.146287  0.064807\n",
       "728  0.168226  0.107703  0.204695  0.121655  0.108628  0.065574\n",
       "\n",
       "[729 rows x 6 columns]"
      ]
     },
     "execution_count": 8,
     "metadata": {},
     "output_type": "execute_result"
    }
   ],
   "source": [
    "sqrt_transformed_features = np.sqrt(\n",
    "    np.abs(ff5[['Mkt-RF', 'SMB', 'HML', 'RMW', 'CMA', 'RF']]))\n",
    "sqrt_transformed_features"
   ]
  },
  {
   "cell_type": "code",
   "execution_count": 9,
   "metadata": {},
   "outputs": [
    {
     "data": {
      "text/plain": [
       "0      0.089622\n",
       "1      0.204484\n",
       "2      0.145332\n",
       "3      0.106468\n",
       "4      0.132104\n",
       "         ...   \n",
       "724    0.289146\n",
       "725    0.339151\n",
       "726    0.227176\n",
       "727    0.204718\n",
       "728    0.128694\n",
       "Length: 729, dtype: float64"
      ]
     },
     "execution_count": 9,
     "metadata": {},
     "output_type": "execute_result"
    }
   ],
   "source": [
    "mixed_transformed_feature = np.sqrt(np.abs(np.log1p(ff5['Mkt-RF'] + ff5['SMB'])))\n",
    "mixed_transformed_feature"
   ]
  },
  {
   "cell_type": "code",
   "execution_count": 10,
   "metadata": {},
   "outputs": [],
   "source": [
    "squared_features = ff5[['Mkt-RF', 'SMB', 'HML', 'RMW', 'CMA', 'RF']]**2\n",
    "cubed_features = ff5[['Mkt-RF', 'SMB', 'HML', 'RMW', 'CMA', 'RF']]**3"
   ]
  },
  {
   "cell_type": "code",
   "execution_count": 11,
   "metadata": {},
   "outputs": [
    {
     "data": {
      "text/plain": [
       "0           NaN\n",
       "1           NaN\n",
       "2      0.010367\n",
       "3      0.020100\n",
       "4      0.000367\n",
       "         ...   \n",
       "724    0.001367\n",
       "725    0.035067\n",
       "726    0.048067\n",
       "727    0.035467\n",
       "728    0.028667\n",
       "Name: Mkt-RF, Length: 729, dtype: float64"
      ]
     },
     "execution_count": 11,
     "metadata": {},
     "output_type": "execute_result"
    }
   ],
   "source": [
    "Mkt_RF_SMA = ff5['Mkt-RF'].rolling(window=3).mean()\n",
    "Mkt_RF_SMA"
   ]
  },
  {
   "cell_type": "markdown",
   "metadata": {},
   "source": [
    "## Обучение бустинга"
   ]
  },
  {
   "cell_type": "code",
   "execution_count": 12,
   "metadata": {},
   "outputs": [
    {
     "data": {
      "text/html": [
       "<div>\n",
       "<style scoped>\n",
       "    .dataframe tbody tr th:only-of-type {\n",
       "        vertical-align: middle;\n",
       "    }\n",
       "\n",
       "    .dataframe tbody tr th {\n",
       "        vertical-align: top;\n",
       "    }\n",
       "\n",
       "    .dataframe thead th {\n",
       "        text-align: right;\n",
       "    }\n",
       "</style>\n",
       "<table border=\"1\" class=\"dataframe\">\n",
       "  <thead>\n",
       "    <tr style=\"text-align: right;\">\n",
       "      <th></th>\n",
       "      <th>date_ff_factors</th>\n",
       "      <th>Mkt-RF</th>\n",
       "      <th>SMB</th>\n",
       "      <th>HML</th>\n",
       "      <th>RMW</th>\n",
       "      <th>CMA</th>\n",
       "      <th>RF</th>\n",
       "      <th>Mkt-RF_1L</th>\n",
       "      <th>Mkt-RF_2L</th>\n",
       "      <th>Mkt-RF_3L</th>\n",
       "      <th>...</th>\n",
       "      <th>RMW_9L</th>\n",
       "      <th>CMA_1L</th>\n",
       "      <th>CMA_2L</th>\n",
       "      <th>CMA_3L</th>\n",
       "      <th>CMA_4L</th>\n",
       "      <th>CMA_5L</th>\n",
       "      <th>CMA_6L</th>\n",
       "      <th>CMA_7L</th>\n",
       "      <th>CMA_8L</th>\n",
       "      <th>CMA_9L</th>\n",
       "    </tr>\n",
       "  </thead>\n",
       "  <tbody>\n",
       "    <tr>\n",
       "      <th>0</th>\n",
       "      <td>1963-07-31</td>\n",
       "      <td>-0.0039</td>\n",
       "      <td>-0.0041</td>\n",
       "      <td>-0.0097</td>\n",
       "      <td>0.0068</td>\n",
       "      <td>-0.0118</td>\n",
       "      <td>0.0027</td>\n",
       "      <td>0.0507</td>\n",
       "      <td>-0.0157</td>\n",
       "      <td>0.0253</td>\n",
       "      <td>...</td>\n",
       "      <td>-0.0127</td>\n",
       "      <td>-0.0035</td>\n",
       "      <td>0.0029</td>\n",
       "      <td>-0.0201</td>\n",
       "      <td>0.0224</td>\n",
       "      <td>-0.0007</td>\n",
       "      <td>0.0147</td>\n",
       "      <td>0.0091</td>\n",
       "      <td>0.0322</td>\n",
       "      <td>-0.0108</td>\n",
       "    </tr>\n",
       "    <tr>\n",
       "      <th>1</th>\n",
       "      <td>1963-08-31</td>\n",
       "      <td>0.0507</td>\n",
       "      <td>-0.0080</td>\n",
       "      <td>0.0180</td>\n",
       "      <td>0.0036</td>\n",
       "      <td>-0.0035</td>\n",
       "      <td>0.0025</td>\n",
       "      <td>-0.0157</td>\n",
       "      <td>0.0253</td>\n",
       "      <td>-0.0085</td>\n",
       "      <td>...</td>\n",
       "      <td>-0.0016</td>\n",
       "      <td>0.0029</td>\n",
       "      <td>-0.0201</td>\n",
       "      <td>0.0224</td>\n",
       "      <td>-0.0007</td>\n",
       "      <td>0.0147</td>\n",
       "      <td>0.0091</td>\n",
       "      <td>0.0322</td>\n",
       "      <td>-0.0108</td>\n",
       "      <td>0.0017</td>\n",
       "    </tr>\n",
       "    <tr>\n",
       "      <th>2</th>\n",
       "      <td>1963-09-30</td>\n",
       "      <td>-0.0157</td>\n",
       "      <td>-0.0052</td>\n",
       "      <td>0.0013</td>\n",
       "      <td>-0.0071</td>\n",
       "      <td>0.0029</td>\n",
       "      <td>0.0027</td>\n",
       "      <td>0.0253</td>\n",
       "      <td>-0.0085</td>\n",
       "      <td>0.0183</td>\n",
       "      <td>...</td>\n",
       "      <td>-0.0028</td>\n",
       "      <td>-0.0201</td>\n",
       "      <td>0.0224</td>\n",
       "      <td>-0.0007</td>\n",
       "      <td>0.0147</td>\n",
       "      <td>0.0091</td>\n",
       "      <td>0.0322</td>\n",
       "      <td>-0.0108</td>\n",
       "      <td>0.0017</td>\n",
       "      <td>-0.0017</td>\n",
       "    </tr>\n",
       "    <tr>\n",
       "      <th>3</th>\n",
       "      <td>1963-10-31</td>\n",
       "      <td>0.0253</td>\n",
       "      <td>-0.0139</td>\n",
       "      <td>-0.0010</td>\n",
       "      <td>0.0280</td>\n",
       "      <td>-0.0201</td>\n",
       "      <td>0.0029</td>\n",
       "      <td>-0.0085</td>\n",
       "      <td>0.0183</td>\n",
       "      <td>0.0224</td>\n",
       "      <td>...</td>\n",
       "      <td>0.0008</td>\n",
       "      <td>0.0224</td>\n",
       "      <td>-0.0007</td>\n",
       "      <td>0.0147</td>\n",
       "      <td>0.0091</td>\n",
       "      <td>0.0322</td>\n",
       "      <td>-0.0108</td>\n",
       "      <td>0.0017</td>\n",
       "      <td>-0.0017</td>\n",
       "      <td>0.0191</td>\n",
       "    </tr>\n",
       "    <tr>\n",
       "      <th>4</th>\n",
       "      <td>1963-11-30</td>\n",
       "      <td>-0.0085</td>\n",
       "      <td>-0.0088</td>\n",
       "      <td>0.0175</td>\n",
       "      <td>-0.0051</td>\n",
       "      <td>0.0224</td>\n",
       "      <td>0.0027</td>\n",
       "      <td>0.0183</td>\n",
       "      <td>0.0224</td>\n",
       "      <td>0.0154</td>\n",
       "      <td>...</td>\n",
       "      <td>0.0012</td>\n",
       "      <td>-0.0007</td>\n",
       "      <td>0.0147</td>\n",
       "      <td>0.0091</td>\n",
       "      <td>0.0322</td>\n",
       "      <td>-0.0108</td>\n",
       "      <td>0.0017</td>\n",
       "      <td>-0.0017</td>\n",
       "      <td>0.0191</td>\n",
       "      <td>0.0035</td>\n",
       "    </tr>\n",
       "    <tr>\n",
       "      <th>...</th>\n",
       "      <td>...</td>\n",
       "      <td>...</td>\n",
       "      <td>...</td>\n",
       "      <td>...</td>\n",
       "      <td>...</td>\n",
       "      <td>...</td>\n",
       "      <td>...</td>\n",
       "      <td>...</td>\n",
       "      <td>...</td>\n",
       "      <td>...</td>\n",
       "      <td>...</td>\n",
       "      <td>...</td>\n",
       "      <td>...</td>\n",
       "      <td>...</td>\n",
       "      <td>...</td>\n",
       "      <td>...</td>\n",
       "      <td>...</td>\n",
       "      <td>...</td>\n",
       "      <td>...</td>\n",
       "      <td>...</td>\n",
       "      <td>...</td>\n",
       "    </tr>\n",
       "    <tr>\n",
       "      <th>724</th>\n",
       "      <td>2023-11-30</td>\n",
       "      <td>0.0884</td>\n",
       "      <td>-0.0012</td>\n",
       "      <td>0.0164</td>\n",
       "      <td>-0.0391</td>\n",
       "      <td>-0.0100</td>\n",
       "      <td>0.0044</td>\n",
       "      <td>0.0487</td>\n",
       "      <td>0.0071</td>\n",
       "      <td>0.0506</td>\n",
       "      <td>...</td>\n",
       "      <td>NaN</td>\n",
       "      <td>0.0132</td>\n",
       "      <td>-0.0096</td>\n",
       "      <td>-0.0214</td>\n",
       "      <td>0.0118</td>\n",
       "      <td>NaN</td>\n",
       "      <td>NaN</td>\n",
       "      <td>NaN</td>\n",
       "      <td>NaN</td>\n",
       "      <td>NaN</td>\n",
       "    </tr>\n",
       "    <tr>\n",
       "      <th>725</th>\n",
       "      <td>2023-12-31</td>\n",
       "      <td>0.0487</td>\n",
       "      <td>0.0732</td>\n",
       "      <td>0.0493</td>\n",
       "      <td>-0.0307</td>\n",
       "      <td>0.0132</td>\n",
       "      <td>0.0043</td>\n",
       "      <td>0.0071</td>\n",
       "      <td>0.0506</td>\n",
       "      <td>0.0283</td>\n",
       "      <td>...</td>\n",
       "      <td>NaN</td>\n",
       "      <td>-0.0096</td>\n",
       "      <td>-0.0214</td>\n",
       "      <td>0.0118</td>\n",
       "      <td>NaN</td>\n",
       "      <td>NaN</td>\n",
       "      <td>NaN</td>\n",
       "      <td>NaN</td>\n",
       "      <td>NaN</td>\n",
       "      <td>NaN</td>\n",
       "    </tr>\n",
       "    <tr>\n",
       "      <th>726</th>\n",
       "      <td>2024-01-31</td>\n",
       "      <td>0.0071</td>\n",
       "      <td>-0.0574</td>\n",
       "      <td>-0.0238</td>\n",
       "      <td>0.0069</td>\n",
       "      <td>-0.0096</td>\n",
       "      <td>0.0047</td>\n",
       "      <td>0.0506</td>\n",
       "      <td>0.0283</td>\n",
       "      <td>NaN</td>\n",
       "      <td>...</td>\n",
       "      <td>NaN</td>\n",
       "      <td>-0.0214</td>\n",
       "      <td>0.0118</td>\n",
       "      <td>NaN</td>\n",
       "      <td>NaN</td>\n",
       "      <td>NaN</td>\n",
       "      <td>NaN</td>\n",
       "      <td>NaN</td>\n",
       "      <td>NaN</td>\n",
       "      <td>NaN</td>\n",
       "    </tr>\n",
       "    <tr>\n",
       "      <th>727</th>\n",
       "      <td>2024-02-29</td>\n",
       "      <td>0.0506</td>\n",
       "      <td>-0.0078</td>\n",
       "      <td>-0.0349</td>\n",
       "      <td>-0.0199</td>\n",
       "      <td>-0.0214</td>\n",
       "      <td>0.0042</td>\n",
       "      <td>0.0283</td>\n",
       "      <td>NaN</td>\n",
       "      <td>NaN</td>\n",
       "      <td>...</td>\n",
       "      <td>NaN</td>\n",
       "      <td>0.0118</td>\n",
       "      <td>NaN</td>\n",
       "      <td>NaN</td>\n",
       "      <td>NaN</td>\n",
       "      <td>NaN</td>\n",
       "      <td>NaN</td>\n",
       "      <td>NaN</td>\n",
       "      <td>NaN</td>\n",
       "      <td>NaN</td>\n",
       "    </tr>\n",
       "    <tr>\n",
       "      <th>728</th>\n",
       "      <td>2024-03-31</td>\n",
       "      <td>0.0283</td>\n",
       "      <td>-0.0116</td>\n",
       "      <td>0.0419</td>\n",
       "      <td>0.0148</td>\n",
       "      <td>0.0118</td>\n",
       "      <td>0.0043</td>\n",
       "      <td>NaN</td>\n",
       "      <td>NaN</td>\n",
       "      <td>NaN</td>\n",
       "      <td>...</td>\n",
       "      <td>NaN</td>\n",
       "      <td>NaN</td>\n",
       "      <td>NaN</td>\n",
       "      <td>NaN</td>\n",
       "      <td>NaN</td>\n",
       "      <td>NaN</td>\n",
       "      <td>NaN</td>\n",
       "      <td>NaN</td>\n",
       "      <td>NaN</td>\n",
       "      <td>NaN</td>\n",
       "    </tr>\n",
       "  </tbody>\n",
       "</table>\n",
       "<p>729 rows × 52 columns</p>\n",
       "</div>"
      ],
      "text/plain": [
       "    date_ff_factors  Mkt-RF     SMB     HML     RMW     CMA      RF  \\\n",
       "0        1963-07-31 -0.0039 -0.0041 -0.0097  0.0068 -0.0118  0.0027   \n",
       "1        1963-08-31  0.0507 -0.0080  0.0180  0.0036 -0.0035  0.0025   \n",
       "2        1963-09-30 -0.0157 -0.0052  0.0013 -0.0071  0.0029  0.0027   \n",
       "3        1963-10-31  0.0253 -0.0139 -0.0010  0.0280 -0.0201  0.0029   \n",
       "4        1963-11-30 -0.0085 -0.0088  0.0175 -0.0051  0.0224  0.0027   \n",
       "..              ...     ...     ...     ...     ...     ...     ...   \n",
       "724      2023-11-30  0.0884 -0.0012  0.0164 -0.0391 -0.0100  0.0044   \n",
       "725      2023-12-31  0.0487  0.0732  0.0493 -0.0307  0.0132  0.0043   \n",
       "726      2024-01-31  0.0071 -0.0574 -0.0238  0.0069 -0.0096  0.0047   \n",
       "727      2024-02-29  0.0506 -0.0078 -0.0349 -0.0199 -0.0214  0.0042   \n",
       "728      2024-03-31  0.0283 -0.0116  0.0419  0.0148  0.0118  0.0043   \n",
       "\n",
       "     Mkt-RF_1L  Mkt-RF_2L  Mkt-RF_3L  ...  RMW_9L  CMA_1L  CMA_2L  CMA_3L  \\\n",
       "0       0.0507    -0.0157     0.0253  ... -0.0127 -0.0035  0.0029 -0.0201   \n",
       "1      -0.0157     0.0253    -0.0085  ... -0.0016  0.0029 -0.0201  0.0224   \n",
       "2       0.0253    -0.0085     0.0183  ... -0.0028 -0.0201  0.0224 -0.0007   \n",
       "3      -0.0085     0.0183     0.0224  ...  0.0008  0.0224 -0.0007  0.0147   \n",
       "4       0.0183     0.0224     0.0154  ...  0.0012 -0.0007  0.0147  0.0091   \n",
       "..         ...        ...        ...  ...     ...     ...     ...     ...   \n",
       "724     0.0487     0.0071     0.0506  ...     NaN  0.0132 -0.0096 -0.0214   \n",
       "725     0.0071     0.0506     0.0283  ...     NaN -0.0096 -0.0214  0.0118   \n",
       "726     0.0506     0.0283        NaN  ...     NaN -0.0214  0.0118     NaN   \n",
       "727     0.0283        NaN        NaN  ...     NaN  0.0118     NaN     NaN   \n",
       "728        NaN        NaN        NaN  ...     NaN     NaN     NaN     NaN   \n",
       "\n",
       "     CMA_4L  CMA_5L  CMA_6L  CMA_7L  CMA_8L  CMA_9L  \n",
       "0    0.0224 -0.0007  0.0147  0.0091  0.0322 -0.0108  \n",
       "1   -0.0007  0.0147  0.0091  0.0322 -0.0108  0.0017  \n",
       "2    0.0147  0.0091  0.0322 -0.0108  0.0017 -0.0017  \n",
       "3    0.0091  0.0322 -0.0108  0.0017 -0.0017  0.0191  \n",
       "4    0.0322 -0.0108  0.0017 -0.0017  0.0191  0.0035  \n",
       "..      ...     ...     ...     ...     ...     ...  \n",
       "724  0.0118     NaN     NaN     NaN     NaN     NaN  \n",
       "725     NaN     NaN     NaN     NaN     NaN     NaN  \n",
       "726     NaN     NaN     NaN     NaN     NaN     NaN  \n",
       "727     NaN     NaN     NaN     NaN     NaN     NaN  \n",
       "728     NaN     NaN     NaN     NaN     NaN     NaN  \n",
       "\n",
       "[729 rows x 52 columns]"
      ]
     },
     "execution_count": 12,
     "metadata": {},
     "output_type": "execute_result"
    }
   ],
   "source": [
    "ff5"
   ]
  },
  {
   "cell_type": "code",
   "execution_count": 13,
   "metadata": {},
   "outputs": [],
   "source": [
    "factors = ff5.rename(columns={'date_ff_factors': 'Date'})\n",
    "factors_0 = pd.merge(mon_rets, factors, on='Date', how='left')\n",
    "factors_0 = factors_0.dropna()\n",
    "\n",
    "Y = (factors_0[tickers[0]] - factors_0['RF'])\n",
    "X = factors_0.drop(\n",
    "    columns=['RF', tickers[0]]).set_index('Date')\n",
    "\n",
    "# 'Mkt-RF', 'SMB', 'HML', 'RMW', 'CMA'"
   ]
  },
  {
   "cell_type": "code",
   "execution_count": 14,
   "metadata": {},
   "outputs": [
    {
     "data": {
      "text/html": [
       "<div>\n",
       "<style scoped>\n",
       "    .dataframe tbody tr th:only-of-type {\n",
       "        vertical-align: middle;\n",
       "    }\n",
       "\n",
       "    .dataframe tbody tr th {\n",
       "        vertical-align: top;\n",
       "    }\n",
       "\n",
       "    .dataframe thead th {\n",
       "        text-align: right;\n",
       "    }\n",
       "</style>\n",
       "<table border=\"1\" class=\"dataframe\">\n",
       "  <thead>\n",
       "    <tr style=\"text-align: right;\">\n",
       "      <th></th>\n",
       "      <th>Mkt-RF</th>\n",
       "      <th>SMB</th>\n",
       "      <th>HML</th>\n",
       "      <th>RMW</th>\n",
       "      <th>CMA</th>\n",
       "      <th>Mkt-RF_1L</th>\n",
       "      <th>Mkt-RF_2L</th>\n",
       "      <th>Mkt-RF_3L</th>\n",
       "      <th>Mkt-RF_4L</th>\n",
       "      <th>Mkt-RF_5L</th>\n",
       "      <th>...</th>\n",
       "      <th>RMW_9L</th>\n",
       "      <th>CMA_1L</th>\n",
       "      <th>CMA_2L</th>\n",
       "      <th>CMA_3L</th>\n",
       "      <th>CMA_4L</th>\n",
       "      <th>CMA_5L</th>\n",
       "      <th>CMA_6L</th>\n",
       "      <th>CMA_7L</th>\n",
       "      <th>CMA_8L</th>\n",
       "      <th>CMA_9L</th>\n",
       "    </tr>\n",
       "    <tr>\n",
       "      <th>Date</th>\n",
       "      <th></th>\n",
       "      <th></th>\n",
       "      <th></th>\n",
       "      <th></th>\n",
       "      <th></th>\n",
       "      <th></th>\n",
       "      <th></th>\n",
       "      <th></th>\n",
       "      <th></th>\n",
       "      <th></th>\n",
       "      <th></th>\n",
       "      <th></th>\n",
       "      <th></th>\n",
       "      <th></th>\n",
       "      <th></th>\n",
       "      <th></th>\n",
       "      <th></th>\n",
       "      <th></th>\n",
       "      <th></th>\n",
       "      <th></th>\n",
       "      <th></th>\n",
       "    </tr>\n",
       "  </thead>\n",
       "  <tbody>\n",
       "    <tr>\n",
       "      <th>2010-02-28</th>\n",
       "      <td>0.0340</td>\n",
       "      <td>0.0151</td>\n",
       "      <td>0.0323</td>\n",
       "      <td>-0.0027</td>\n",
       "      <td>0.0143</td>\n",
       "      <td>0.0631</td>\n",
       "      <td>0.0200</td>\n",
       "      <td>-0.0789</td>\n",
       "      <td>-0.0557</td>\n",
       "      <td>0.0693</td>\n",
       "      <td>...</td>\n",
       "      <td>0.0045</td>\n",
       "      <td>0.0169</td>\n",
       "      <td>0.0172</td>\n",
       "      <td>-0.0021</td>\n",
       "      <td>-0.0155</td>\n",
       "      <td>0.0201</td>\n",
       "      <td>-0.0159</td>\n",
       "      <td>0.0038</td>\n",
       "      <td>-0.0026</td>\n",
       "      <td>0.0159</td>\n",
       "    </tr>\n",
       "    <tr>\n",
       "      <th>2010-03-31</th>\n",
       "      <td>0.0631</td>\n",
       "      <td>0.0185</td>\n",
       "      <td>0.0221</td>\n",
       "      <td>-0.0065</td>\n",
       "      <td>0.0169</td>\n",
       "      <td>0.0200</td>\n",
       "      <td>-0.0789</td>\n",
       "      <td>-0.0557</td>\n",
       "      <td>0.0693</td>\n",
       "      <td>-0.0477</td>\n",
       "      <td>...</td>\n",
       "      <td>-0.0344</td>\n",
       "      <td>0.0172</td>\n",
       "      <td>-0.0021</td>\n",
       "      <td>-0.0155</td>\n",
       "      <td>0.0201</td>\n",
       "      <td>-0.0159</td>\n",
       "      <td>0.0038</td>\n",
       "      <td>-0.0026</td>\n",
       "      <td>0.0159</td>\n",
       "      <td>0.0316</td>\n",
       "    </tr>\n",
       "    <tr>\n",
       "      <th>2010-04-30</th>\n",
       "      <td>0.0200</td>\n",
       "      <td>0.0498</td>\n",
       "      <td>0.0289</td>\n",
       "      <td>0.0069</td>\n",
       "      <td>0.0172</td>\n",
       "      <td>-0.0789</td>\n",
       "      <td>-0.0557</td>\n",
       "      <td>0.0693</td>\n",
       "      <td>-0.0477</td>\n",
       "      <td>0.0954</td>\n",
       "      <td>...</td>\n",
       "      <td>-0.0076</td>\n",
       "      <td>-0.0021</td>\n",
       "      <td>-0.0155</td>\n",
       "      <td>0.0201</td>\n",
       "      <td>-0.0159</td>\n",
       "      <td>0.0038</td>\n",
       "      <td>-0.0026</td>\n",
       "      <td>0.0159</td>\n",
       "      <td>0.0316</td>\n",
       "      <td>0.0083</td>\n",
       "    </tr>\n",
       "    <tr>\n",
       "      <th>2010-05-31</th>\n",
       "      <td>-0.0789</td>\n",
       "      <td>0.0004</td>\n",
       "      <td>-0.0244</td>\n",
       "      <td>0.0130</td>\n",
       "      <td>-0.0021</td>\n",
       "      <td>-0.0557</td>\n",
       "      <td>0.0693</td>\n",
       "      <td>-0.0477</td>\n",
       "      <td>0.0954</td>\n",
       "      <td>0.0388</td>\n",
       "      <td>...</td>\n",
       "      <td>-0.0194</td>\n",
       "      <td>-0.0155</td>\n",
       "      <td>0.0201</td>\n",
       "      <td>-0.0159</td>\n",
       "      <td>0.0038</td>\n",
       "      <td>-0.0026</td>\n",
       "      <td>0.0159</td>\n",
       "      <td>0.0316</td>\n",
       "      <td>0.0083</td>\n",
       "      <td>0.0088</td>\n",
       "    </tr>\n",
       "    <tr>\n",
       "      <th>2010-06-30</th>\n",
       "      <td>-0.0557</td>\n",
       "      <td>-0.0247</td>\n",
       "      <td>-0.0470</td>\n",
       "      <td>-0.0016</td>\n",
       "      <td>-0.0155</td>\n",
       "      <td>0.0693</td>\n",
       "      <td>-0.0477</td>\n",
       "      <td>0.0954</td>\n",
       "      <td>0.0388</td>\n",
       "      <td>0.0060</td>\n",
       "      <td>...</td>\n",
       "      <td>0.0176</td>\n",
       "      <td>0.0201</td>\n",
       "      <td>-0.0159</td>\n",
       "      <td>0.0038</td>\n",
       "      <td>-0.0026</td>\n",
       "      <td>0.0159</td>\n",
       "      <td>0.0316</td>\n",
       "      <td>0.0083</td>\n",
       "      <td>0.0088</td>\n",
       "      <td>-0.0003</td>\n",
       "    </tr>\n",
       "    <tr>\n",
       "      <th>...</th>\n",
       "      <td>...</td>\n",
       "      <td>...</td>\n",
       "      <td>...</td>\n",
       "      <td>...</td>\n",
       "      <td>...</td>\n",
       "      <td>...</td>\n",
       "      <td>...</td>\n",
       "      <td>...</td>\n",
       "      <td>...</td>\n",
       "      <td>...</td>\n",
       "      <td>...</td>\n",
       "      <td>...</td>\n",
       "      <td>...</td>\n",
       "      <td>...</td>\n",
       "      <td>...</td>\n",
       "      <td>...</td>\n",
       "      <td>...</td>\n",
       "      <td>...</td>\n",
       "      <td>...</td>\n",
       "      <td>...</td>\n",
       "      <td>...</td>\n",
       "    </tr>\n",
       "    <tr>\n",
       "      <th>2023-02-28</th>\n",
       "      <td>-0.0258</td>\n",
       "      <td>0.0066</td>\n",
       "      <td>-0.0081</td>\n",
       "      <td>0.0101</td>\n",
       "      <td>-0.0133</td>\n",
       "      <td>0.0251</td>\n",
       "      <td>0.0061</td>\n",
       "      <td>0.0035</td>\n",
       "      <td>0.0646</td>\n",
       "      <td>0.0321</td>\n",
       "      <td>...</td>\n",
       "      <td>-0.0391</td>\n",
       "      <td>-0.0237</td>\n",
       "      <td>0.0286</td>\n",
       "      <td>-0.0722</td>\n",
       "      <td>-0.0162</td>\n",
       "      <td>0.0057</td>\n",
       "      <td>-0.0237</td>\n",
       "      <td>-0.0083</td>\n",
       "      <td>-0.0065</td>\n",
       "      <td>-0.0100</td>\n",
       "    </tr>\n",
       "    <tr>\n",
       "      <th>2023-03-31</th>\n",
       "      <td>0.0251</td>\n",
       "      <td>-0.0694</td>\n",
       "      <td>-0.0885</td>\n",
       "      <td>0.0224</td>\n",
       "      <td>-0.0237</td>\n",
       "      <td>0.0061</td>\n",
       "      <td>0.0035</td>\n",
       "      <td>0.0646</td>\n",
       "      <td>0.0321</td>\n",
       "      <td>-0.0239</td>\n",
       "      <td>...</td>\n",
       "      <td>-0.0307</td>\n",
       "      <td>0.0286</td>\n",
       "      <td>-0.0722</td>\n",
       "      <td>-0.0162</td>\n",
       "      <td>0.0057</td>\n",
       "      <td>-0.0237</td>\n",
       "      <td>-0.0083</td>\n",
       "      <td>-0.0065</td>\n",
       "      <td>-0.0100</td>\n",
       "      <td>0.0132</td>\n",
       "    </tr>\n",
       "    <tr>\n",
       "      <th>2023-04-30</th>\n",
       "      <td>0.0061</td>\n",
       "      <td>-0.0256</td>\n",
       "      <td>-0.0004</td>\n",
       "      <td>0.0242</td>\n",
       "      <td>0.0286</td>\n",
       "      <td>0.0035</td>\n",
       "      <td>0.0646</td>\n",
       "      <td>0.0321</td>\n",
       "      <td>-0.0239</td>\n",
       "      <td>-0.0524</td>\n",
       "      <td>...</td>\n",
       "      <td>0.0069</td>\n",
       "      <td>-0.0722</td>\n",
       "      <td>-0.0162</td>\n",
       "      <td>0.0057</td>\n",
       "      <td>-0.0237</td>\n",
       "      <td>-0.0083</td>\n",
       "      <td>-0.0065</td>\n",
       "      <td>-0.0100</td>\n",
       "      <td>0.0132</td>\n",
       "      <td>-0.0096</td>\n",
       "    </tr>\n",
       "    <tr>\n",
       "      <th>2023-05-31</th>\n",
       "      <td>0.0035</td>\n",
       "      <td>-0.0038</td>\n",
       "      <td>-0.0772</td>\n",
       "      <td>-0.0181</td>\n",
       "      <td>-0.0722</td>\n",
       "      <td>0.0646</td>\n",
       "      <td>0.0321</td>\n",
       "      <td>-0.0239</td>\n",
       "      <td>-0.0524</td>\n",
       "      <td>-0.0319</td>\n",
       "      <td>...</td>\n",
       "      <td>-0.0199</td>\n",
       "      <td>-0.0162</td>\n",
       "      <td>0.0057</td>\n",
       "      <td>-0.0237</td>\n",
       "      <td>-0.0083</td>\n",
       "      <td>-0.0065</td>\n",
       "      <td>-0.0100</td>\n",
       "      <td>0.0132</td>\n",
       "      <td>-0.0096</td>\n",
       "      <td>-0.0214</td>\n",
       "    </tr>\n",
       "    <tr>\n",
       "      <th>2023-06-30</th>\n",
       "      <td>0.0646</td>\n",
       "      <td>0.0134</td>\n",
       "      <td>-0.0026</td>\n",
       "      <td>0.0218</td>\n",
       "      <td>-0.0162</td>\n",
       "      <td>0.0321</td>\n",
       "      <td>-0.0239</td>\n",
       "      <td>-0.0524</td>\n",
       "      <td>-0.0319</td>\n",
       "      <td>0.0884</td>\n",
       "      <td>...</td>\n",
       "      <td>0.0148</td>\n",
       "      <td>0.0057</td>\n",
       "      <td>-0.0237</td>\n",
       "      <td>-0.0083</td>\n",
       "      <td>-0.0065</td>\n",
       "      <td>-0.0100</td>\n",
       "      <td>0.0132</td>\n",
       "      <td>-0.0096</td>\n",
       "      <td>-0.0214</td>\n",
       "      <td>0.0118</td>\n",
       "    </tr>\n",
       "  </tbody>\n",
       "</table>\n",
       "<p>161 rows × 50 columns</p>\n",
       "</div>"
      ],
      "text/plain": [
       "            Mkt-RF     SMB     HML     RMW     CMA  Mkt-RF_1L  Mkt-RF_2L  \\\n",
       "Date                                                                       \n",
       "2010-02-28  0.0340  0.0151  0.0323 -0.0027  0.0143     0.0631     0.0200   \n",
       "2010-03-31  0.0631  0.0185  0.0221 -0.0065  0.0169     0.0200    -0.0789   \n",
       "2010-04-30  0.0200  0.0498  0.0289  0.0069  0.0172    -0.0789    -0.0557   \n",
       "2010-05-31 -0.0789  0.0004 -0.0244  0.0130 -0.0021    -0.0557     0.0693   \n",
       "2010-06-30 -0.0557 -0.0247 -0.0470 -0.0016 -0.0155     0.0693    -0.0477   \n",
       "...            ...     ...     ...     ...     ...        ...        ...   \n",
       "2023-02-28 -0.0258  0.0066 -0.0081  0.0101 -0.0133     0.0251     0.0061   \n",
       "2023-03-31  0.0251 -0.0694 -0.0885  0.0224 -0.0237     0.0061     0.0035   \n",
       "2023-04-30  0.0061 -0.0256 -0.0004  0.0242  0.0286     0.0035     0.0646   \n",
       "2023-05-31  0.0035 -0.0038 -0.0772 -0.0181 -0.0722     0.0646     0.0321   \n",
       "2023-06-30  0.0646  0.0134 -0.0026  0.0218 -0.0162     0.0321    -0.0239   \n",
       "\n",
       "            Mkt-RF_3L  Mkt-RF_4L  Mkt-RF_5L  ...  RMW_9L  CMA_1L  CMA_2L  \\\n",
       "Date                                         ...                           \n",
       "2010-02-28    -0.0789    -0.0557     0.0693  ...  0.0045  0.0169  0.0172   \n",
       "2010-03-31    -0.0557     0.0693    -0.0477  ... -0.0344  0.0172 -0.0021   \n",
       "2010-04-30     0.0693    -0.0477     0.0954  ... -0.0076 -0.0021 -0.0155   \n",
       "2010-05-31    -0.0477     0.0954     0.0388  ... -0.0194 -0.0155  0.0201   \n",
       "2010-06-30     0.0954     0.0388     0.0060  ...  0.0176  0.0201 -0.0159   \n",
       "...               ...        ...        ...  ...     ...     ...     ...   \n",
       "2023-02-28     0.0035     0.0646     0.0321  ... -0.0391 -0.0237  0.0286   \n",
       "2023-03-31     0.0646     0.0321    -0.0239  ... -0.0307  0.0286 -0.0722   \n",
       "2023-04-30     0.0321    -0.0239    -0.0524  ...  0.0069 -0.0722 -0.0162   \n",
       "2023-05-31    -0.0239    -0.0524    -0.0319  ... -0.0199 -0.0162  0.0057   \n",
       "2023-06-30    -0.0524    -0.0319     0.0884  ...  0.0148  0.0057 -0.0237   \n",
       "\n",
       "            CMA_3L  CMA_4L  CMA_5L  CMA_6L  CMA_7L  CMA_8L  CMA_9L  \n",
       "Date                                                                \n",
       "2010-02-28 -0.0021 -0.0155  0.0201 -0.0159  0.0038 -0.0026  0.0159  \n",
       "2010-03-31 -0.0155  0.0201 -0.0159  0.0038 -0.0026  0.0159  0.0316  \n",
       "2010-04-30  0.0201 -0.0159  0.0038 -0.0026  0.0159  0.0316  0.0083  \n",
       "2010-05-31 -0.0159  0.0038 -0.0026  0.0159  0.0316  0.0083  0.0088  \n",
       "2010-06-30  0.0038 -0.0026  0.0159  0.0316  0.0083  0.0088 -0.0003  \n",
       "...            ...     ...     ...     ...     ...     ...     ...  \n",
       "2023-02-28 -0.0722 -0.0162  0.0057 -0.0237 -0.0083 -0.0065 -0.0100  \n",
       "2023-03-31 -0.0162  0.0057 -0.0237 -0.0083 -0.0065 -0.0100  0.0132  \n",
       "2023-04-30  0.0057 -0.0237 -0.0083 -0.0065 -0.0100  0.0132 -0.0096  \n",
       "2023-05-31 -0.0237 -0.0083 -0.0065 -0.0100  0.0132 -0.0096 -0.0214  \n",
       "2023-06-30 -0.0083 -0.0065 -0.0100  0.0132 -0.0096 -0.0214  0.0118  \n",
       "\n",
       "[161 rows x 50 columns]"
      ]
     },
     "execution_count": 14,
     "metadata": {},
     "output_type": "execute_result"
    }
   ],
   "source": [
    "X"
   ]
  },
  {
   "cell_type": "code",
   "execution_count": 15,
   "metadata": {},
   "outputs": [],
   "source": [
    "X_train, X_test, y_train, y_test = train_test_split(\n",
    "    X, Y, test_size=0.2, shuffle=False)"
   ]
  },
  {
   "cell_type": "code",
   "execution_count": 16,
   "metadata": {},
   "outputs": [
    {
     "data": {
      "text/html": [
       "<div>\n",
       "<style scoped>\n",
       "    .dataframe tbody tr th:only-of-type {\n",
       "        vertical-align: middle;\n",
       "    }\n",
       "\n",
       "    .dataframe tbody tr th {\n",
       "        vertical-align: top;\n",
       "    }\n",
       "\n",
       "    .dataframe thead th {\n",
       "        text-align: right;\n",
       "    }\n",
       "</style>\n",
       "<table border=\"1\" class=\"dataframe\">\n",
       "  <thead>\n",
       "    <tr style=\"text-align: right;\">\n",
       "      <th></th>\n",
       "      <th>Mkt-RF</th>\n",
       "      <th>SMB</th>\n",
       "      <th>HML</th>\n",
       "      <th>RMW</th>\n",
       "      <th>CMA</th>\n",
       "      <th>Mkt-RF_1L</th>\n",
       "      <th>Mkt-RF_2L</th>\n",
       "      <th>Mkt-RF_3L</th>\n",
       "      <th>Mkt-RF_4L</th>\n",
       "      <th>Mkt-RF_5L</th>\n",
       "      <th>...</th>\n",
       "      <th>RMW_9L</th>\n",
       "      <th>CMA_1L</th>\n",
       "      <th>CMA_2L</th>\n",
       "      <th>CMA_3L</th>\n",
       "      <th>CMA_4L</th>\n",
       "      <th>CMA_5L</th>\n",
       "      <th>CMA_6L</th>\n",
       "      <th>CMA_7L</th>\n",
       "      <th>CMA_8L</th>\n",
       "      <th>CMA_9L</th>\n",
       "    </tr>\n",
       "    <tr>\n",
       "      <th>Date</th>\n",
       "      <th></th>\n",
       "      <th></th>\n",
       "      <th></th>\n",
       "      <th></th>\n",
       "      <th></th>\n",
       "      <th></th>\n",
       "      <th></th>\n",
       "      <th></th>\n",
       "      <th></th>\n",
       "      <th></th>\n",
       "      <th></th>\n",
       "      <th></th>\n",
       "      <th></th>\n",
       "      <th></th>\n",
       "      <th></th>\n",
       "      <th></th>\n",
       "      <th></th>\n",
       "      <th></th>\n",
       "      <th></th>\n",
       "      <th></th>\n",
       "      <th></th>\n",
       "    </tr>\n",
       "  </thead>\n",
       "  <tbody>\n",
       "    <tr>\n",
       "      <th>2010-02-28</th>\n",
       "      <td>0.0340</td>\n",
       "      <td>0.0151</td>\n",
       "      <td>0.0323</td>\n",
       "      <td>-0.0027</td>\n",
       "      <td>0.0143</td>\n",
       "      <td>0.0631</td>\n",
       "      <td>0.0200</td>\n",
       "      <td>-0.0789</td>\n",
       "      <td>-0.0557</td>\n",
       "      <td>0.0693</td>\n",
       "      <td>...</td>\n",
       "      <td>0.0045</td>\n",
       "      <td>0.0169</td>\n",
       "      <td>0.0172</td>\n",
       "      <td>-0.0021</td>\n",
       "      <td>-0.0155</td>\n",
       "      <td>0.0201</td>\n",
       "      <td>-0.0159</td>\n",
       "      <td>0.0038</td>\n",
       "      <td>-0.0026</td>\n",
       "      <td>0.0159</td>\n",
       "    </tr>\n",
       "    <tr>\n",
       "      <th>2010-03-31</th>\n",
       "      <td>0.0631</td>\n",
       "      <td>0.0185</td>\n",
       "      <td>0.0221</td>\n",
       "      <td>-0.0065</td>\n",
       "      <td>0.0169</td>\n",
       "      <td>0.0200</td>\n",
       "      <td>-0.0789</td>\n",
       "      <td>-0.0557</td>\n",
       "      <td>0.0693</td>\n",
       "      <td>-0.0477</td>\n",
       "      <td>...</td>\n",
       "      <td>-0.0344</td>\n",
       "      <td>0.0172</td>\n",
       "      <td>-0.0021</td>\n",
       "      <td>-0.0155</td>\n",
       "      <td>0.0201</td>\n",
       "      <td>-0.0159</td>\n",
       "      <td>0.0038</td>\n",
       "      <td>-0.0026</td>\n",
       "      <td>0.0159</td>\n",
       "      <td>0.0316</td>\n",
       "    </tr>\n",
       "    <tr>\n",
       "      <th>2010-04-30</th>\n",
       "      <td>0.0200</td>\n",
       "      <td>0.0498</td>\n",
       "      <td>0.0289</td>\n",
       "      <td>0.0069</td>\n",
       "      <td>0.0172</td>\n",
       "      <td>-0.0789</td>\n",
       "      <td>-0.0557</td>\n",
       "      <td>0.0693</td>\n",
       "      <td>-0.0477</td>\n",
       "      <td>0.0954</td>\n",
       "      <td>...</td>\n",
       "      <td>-0.0076</td>\n",
       "      <td>-0.0021</td>\n",
       "      <td>-0.0155</td>\n",
       "      <td>0.0201</td>\n",
       "      <td>-0.0159</td>\n",
       "      <td>0.0038</td>\n",
       "      <td>-0.0026</td>\n",
       "      <td>0.0159</td>\n",
       "      <td>0.0316</td>\n",
       "      <td>0.0083</td>\n",
       "    </tr>\n",
       "    <tr>\n",
       "      <th>2010-05-31</th>\n",
       "      <td>-0.0789</td>\n",
       "      <td>0.0004</td>\n",
       "      <td>-0.0244</td>\n",
       "      <td>0.0130</td>\n",
       "      <td>-0.0021</td>\n",
       "      <td>-0.0557</td>\n",
       "      <td>0.0693</td>\n",
       "      <td>-0.0477</td>\n",
       "      <td>0.0954</td>\n",
       "      <td>0.0388</td>\n",
       "      <td>...</td>\n",
       "      <td>-0.0194</td>\n",
       "      <td>-0.0155</td>\n",
       "      <td>0.0201</td>\n",
       "      <td>-0.0159</td>\n",
       "      <td>0.0038</td>\n",
       "      <td>-0.0026</td>\n",
       "      <td>0.0159</td>\n",
       "      <td>0.0316</td>\n",
       "      <td>0.0083</td>\n",
       "      <td>0.0088</td>\n",
       "    </tr>\n",
       "    <tr>\n",
       "      <th>2010-06-30</th>\n",
       "      <td>-0.0557</td>\n",
       "      <td>-0.0247</td>\n",
       "      <td>-0.0470</td>\n",
       "      <td>-0.0016</td>\n",
       "      <td>-0.0155</td>\n",
       "      <td>0.0693</td>\n",
       "      <td>-0.0477</td>\n",
       "      <td>0.0954</td>\n",
       "      <td>0.0388</td>\n",
       "      <td>0.0060</td>\n",
       "      <td>...</td>\n",
       "      <td>0.0176</td>\n",
       "      <td>0.0201</td>\n",
       "      <td>-0.0159</td>\n",
       "      <td>0.0038</td>\n",
       "      <td>-0.0026</td>\n",
       "      <td>0.0159</td>\n",
       "      <td>0.0316</td>\n",
       "      <td>0.0083</td>\n",
       "      <td>0.0088</td>\n",
       "      <td>-0.0003</td>\n",
       "    </tr>\n",
       "  </tbody>\n",
       "</table>\n",
       "<p>5 rows × 50 columns</p>\n",
       "</div>"
      ],
      "text/plain": [
       "            Mkt-RF     SMB     HML     RMW     CMA  Mkt-RF_1L  Mkt-RF_2L  \\\n",
       "Date                                                                       \n",
       "2010-02-28  0.0340  0.0151  0.0323 -0.0027  0.0143     0.0631     0.0200   \n",
       "2010-03-31  0.0631  0.0185  0.0221 -0.0065  0.0169     0.0200    -0.0789   \n",
       "2010-04-30  0.0200  0.0498  0.0289  0.0069  0.0172    -0.0789    -0.0557   \n",
       "2010-05-31 -0.0789  0.0004 -0.0244  0.0130 -0.0021    -0.0557     0.0693   \n",
       "2010-06-30 -0.0557 -0.0247 -0.0470 -0.0016 -0.0155     0.0693    -0.0477   \n",
       "\n",
       "            Mkt-RF_3L  Mkt-RF_4L  Mkt-RF_5L  ...  RMW_9L  CMA_1L  CMA_2L  \\\n",
       "Date                                         ...                           \n",
       "2010-02-28    -0.0789    -0.0557     0.0693  ...  0.0045  0.0169  0.0172   \n",
       "2010-03-31    -0.0557     0.0693    -0.0477  ... -0.0344  0.0172 -0.0021   \n",
       "2010-04-30     0.0693    -0.0477     0.0954  ... -0.0076 -0.0021 -0.0155   \n",
       "2010-05-31    -0.0477     0.0954     0.0388  ... -0.0194 -0.0155  0.0201   \n",
       "2010-06-30     0.0954     0.0388     0.0060  ...  0.0176  0.0201 -0.0159   \n",
       "\n",
       "            CMA_3L  CMA_4L  CMA_5L  CMA_6L  CMA_7L  CMA_8L  CMA_9L  \n",
       "Date                                                                \n",
       "2010-02-28 -0.0021 -0.0155  0.0201 -0.0159  0.0038 -0.0026  0.0159  \n",
       "2010-03-31 -0.0155  0.0201 -0.0159  0.0038 -0.0026  0.0159  0.0316  \n",
       "2010-04-30  0.0201 -0.0159  0.0038 -0.0026  0.0159  0.0316  0.0083  \n",
       "2010-05-31 -0.0159  0.0038 -0.0026  0.0159  0.0316  0.0083  0.0088  \n",
       "2010-06-30  0.0038 -0.0026  0.0159  0.0316  0.0083  0.0088 -0.0003  \n",
       "\n",
       "[5 rows x 50 columns]"
      ]
     },
     "execution_count": 16,
     "metadata": {},
     "output_type": "execute_result"
    }
   ],
   "source": [
    "X_train.head()"
   ]
  },
  {
   "cell_type": "code",
   "execution_count": 17,
   "metadata": {},
   "outputs": [
    {
     "data": {
      "text/plain": [
       "(161, 50)"
      ]
     },
     "execution_count": 17,
     "metadata": {},
     "output_type": "execute_result"
    }
   ],
   "source": [
    "X.shape"
   ]
  },
  {
   "cell_type": "code",
   "execution_count": 18,
   "metadata": {},
   "outputs": [],
   "source": [
    "# selected_features = ['Mkt-RF', 'RMW', 'CMA']\n",
    "# selected_features = ['CMA_8L', 'SMB_7L', 'CMA_6L']\n",
    "\n",
    "selected_features = list(X.columns)\n",
    "# selected_features.remove('date_ff_factors')\n",
    "# selected_features.remove('RF')\n",
    "                     \n",
    "                  # 'HML_8L', 'HML_4L', 'RMW_9L', 'RMW_5L', 'SMB_1L']\n",
    "                  \n",
    "                  \n",
    "# selected_features = ['SMB_5L',\n",
    "#                      'HML_7L',\n",
    "#                      'RMW_5L',\n",
    "#                      'HML_2L',\n",
    "#                      'CMA_9L',\n",
    "#                      'HML_1L',\n",
    "#                      'CMA_6L',\n",
    "#                      'HML_4L',\n",
    "#                      'CMA_8L',\n",
    "#                      'RMW_6L',\n",
    "#                      'SMB_6L',\n",
    "#                     #  'RMW',\n",
    "#                      'SMB_2L',\n",
    "#                     #  'CMA',\n",
    "#                     #  'Mkt-RF'\n",
    "#                      ]\n"
   ]
  },
  {
   "cell_type": "code",
   "execution_count": 19,
   "metadata": {},
   "outputs": [
    {
     "data": {
      "text/plain": [
       "['Mkt-RF',\n",
       " 'SMB',\n",
       " 'HML',\n",
       " 'RMW',\n",
       " 'CMA',\n",
       " 'Mkt-RF_1L',\n",
       " 'Mkt-RF_2L',\n",
       " 'Mkt-RF_3L',\n",
       " 'Mkt-RF_4L',\n",
       " 'Mkt-RF_5L',\n",
       " 'Mkt-RF_6L',\n",
       " 'Mkt-RF_7L',\n",
       " 'Mkt-RF_8L',\n",
       " 'Mkt-RF_9L',\n",
       " 'SMB_1L',\n",
       " 'SMB_2L',\n",
       " 'SMB_3L',\n",
       " 'SMB_4L',\n",
       " 'SMB_5L',\n",
       " 'SMB_6L',\n",
       " 'SMB_7L',\n",
       " 'SMB_8L',\n",
       " 'SMB_9L',\n",
       " 'HML_1L',\n",
       " 'HML_2L',\n",
       " 'HML_3L',\n",
       " 'HML_4L',\n",
       " 'HML_5L',\n",
       " 'HML_6L',\n",
       " 'HML_7L',\n",
       " 'HML_8L',\n",
       " 'HML_9L',\n",
       " 'RMW_1L',\n",
       " 'RMW_2L',\n",
       " 'RMW_3L',\n",
       " 'RMW_4L',\n",
       " 'RMW_5L',\n",
       " 'RMW_6L',\n",
       " 'RMW_7L',\n",
       " 'RMW_8L',\n",
       " 'RMW_9L',\n",
       " 'CMA_1L',\n",
       " 'CMA_2L',\n",
       " 'CMA_3L',\n",
       " 'CMA_4L',\n",
       " 'CMA_5L',\n",
       " 'CMA_6L',\n",
       " 'CMA_7L',\n",
       " 'CMA_8L',\n",
       " 'CMA_9L']"
      ]
     },
     "execution_count": 19,
     "metadata": {},
     "output_type": "execute_result"
    }
   ],
   "source": [
    "selected_features"
   ]
  },
  {
   "cell_type": "code",
   "execution_count": 20,
   "metadata": {},
   "outputs": [
    {
     "data": {
      "text/html": [
       "<div>\n",
       "<style scoped>\n",
       "    .dataframe tbody tr th:only-of-type {\n",
       "        vertical-align: middle;\n",
       "    }\n",
       "\n",
       "    .dataframe tbody tr th {\n",
       "        vertical-align: top;\n",
       "    }\n",
       "\n",
       "    .dataframe thead th {\n",
       "        text-align: right;\n",
       "    }\n",
       "</style>\n",
       "<table border=\"1\" class=\"dataframe\">\n",
       "  <thead>\n",
       "    <tr style=\"text-align: right;\">\n",
       "      <th></th>\n",
       "      <th>Mkt-RF</th>\n",
       "      <th>SMB</th>\n",
       "      <th>HML</th>\n",
       "      <th>RMW</th>\n",
       "      <th>CMA</th>\n",
       "      <th>Mkt-RF_1L</th>\n",
       "      <th>Mkt-RF_2L</th>\n",
       "      <th>Mkt-RF_3L</th>\n",
       "      <th>Mkt-RF_4L</th>\n",
       "      <th>Mkt-RF_5L</th>\n",
       "      <th>...</th>\n",
       "      <th>RMW_9L</th>\n",
       "      <th>CMA_1L</th>\n",
       "      <th>CMA_2L</th>\n",
       "      <th>CMA_3L</th>\n",
       "      <th>CMA_4L</th>\n",
       "      <th>CMA_5L</th>\n",
       "      <th>CMA_6L</th>\n",
       "      <th>CMA_7L</th>\n",
       "      <th>CMA_8L</th>\n",
       "      <th>CMA_9L</th>\n",
       "    </tr>\n",
       "    <tr>\n",
       "      <th>Date</th>\n",
       "      <th></th>\n",
       "      <th></th>\n",
       "      <th></th>\n",
       "      <th></th>\n",
       "      <th></th>\n",
       "      <th></th>\n",
       "      <th></th>\n",
       "      <th></th>\n",
       "      <th></th>\n",
       "      <th></th>\n",
       "      <th></th>\n",
       "      <th></th>\n",
       "      <th></th>\n",
       "      <th></th>\n",
       "      <th></th>\n",
       "      <th></th>\n",
       "      <th></th>\n",
       "      <th></th>\n",
       "      <th></th>\n",
       "      <th></th>\n",
       "      <th></th>\n",
       "    </tr>\n",
       "  </thead>\n",
       "  <tbody>\n",
       "    <tr>\n",
       "      <th>2010-02-28</th>\n",
       "      <td>0.0340</td>\n",
       "      <td>0.0151</td>\n",
       "      <td>0.0323</td>\n",
       "      <td>-0.0027</td>\n",
       "      <td>0.0143</td>\n",
       "      <td>0.0631</td>\n",
       "      <td>0.0200</td>\n",
       "      <td>-0.0789</td>\n",
       "      <td>-0.0557</td>\n",
       "      <td>0.0693</td>\n",
       "      <td>...</td>\n",
       "      <td>0.0045</td>\n",
       "      <td>0.0169</td>\n",
       "      <td>0.0172</td>\n",
       "      <td>-0.0021</td>\n",
       "      <td>-0.0155</td>\n",
       "      <td>0.0201</td>\n",
       "      <td>-0.0159</td>\n",
       "      <td>0.0038</td>\n",
       "      <td>-0.0026</td>\n",
       "      <td>0.0159</td>\n",
       "    </tr>\n",
       "    <tr>\n",
       "      <th>2010-03-31</th>\n",
       "      <td>0.0631</td>\n",
       "      <td>0.0185</td>\n",
       "      <td>0.0221</td>\n",
       "      <td>-0.0065</td>\n",
       "      <td>0.0169</td>\n",
       "      <td>0.0200</td>\n",
       "      <td>-0.0789</td>\n",
       "      <td>-0.0557</td>\n",
       "      <td>0.0693</td>\n",
       "      <td>-0.0477</td>\n",
       "      <td>...</td>\n",
       "      <td>-0.0344</td>\n",
       "      <td>0.0172</td>\n",
       "      <td>-0.0021</td>\n",
       "      <td>-0.0155</td>\n",
       "      <td>0.0201</td>\n",
       "      <td>-0.0159</td>\n",
       "      <td>0.0038</td>\n",
       "      <td>-0.0026</td>\n",
       "      <td>0.0159</td>\n",
       "      <td>0.0316</td>\n",
       "    </tr>\n",
       "    <tr>\n",
       "      <th>2010-04-30</th>\n",
       "      <td>0.0200</td>\n",
       "      <td>0.0498</td>\n",
       "      <td>0.0289</td>\n",
       "      <td>0.0069</td>\n",
       "      <td>0.0172</td>\n",
       "      <td>-0.0789</td>\n",
       "      <td>-0.0557</td>\n",
       "      <td>0.0693</td>\n",
       "      <td>-0.0477</td>\n",
       "      <td>0.0954</td>\n",
       "      <td>...</td>\n",
       "      <td>-0.0076</td>\n",
       "      <td>-0.0021</td>\n",
       "      <td>-0.0155</td>\n",
       "      <td>0.0201</td>\n",
       "      <td>-0.0159</td>\n",
       "      <td>0.0038</td>\n",
       "      <td>-0.0026</td>\n",
       "      <td>0.0159</td>\n",
       "      <td>0.0316</td>\n",
       "      <td>0.0083</td>\n",
       "    </tr>\n",
       "    <tr>\n",
       "      <th>2010-05-31</th>\n",
       "      <td>-0.0789</td>\n",
       "      <td>0.0004</td>\n",
       "      <td>-0.0244</td>\n",
       "      <td>0.0130</td>\n",
       "      <td>-0.0021</td>\n",
       "      <td>-0.0557</td>\n",
       "      <td>0.0693</td>\n",
       "      <td>-0.0477</td>\n",
       "      <td>0.0954</td>\n",
       "      <td>0.0388</td>\n",
       "      <td>...</td>\n",
       "      <td>-0.0194</td>\n",
       "      <td>-0.0155</td>\n",
       "      <td>0.0201</td>\n",
       "      <td>-0.0159</td>\n",
       "      <td>0.0038</td>\n",
       "      <td>-0.0026</td>\n",
       "      <td>0.0159</td>\n",
       "      <td>0.0316</td>\n",
       "      <td>0.0083</td>\n",
       "      <td>0.0088</td>\n",
       "    </tr>\n",
       "    <tr>\n",
       "      <th>2010-06-30</th>\n",
       "      <td>-0.0557</td>\n",
       "      <td>-0.0247</td>\n",
       "      <td>-0.0470</td>\n",
       "      <td>-0.0016</td>\n",
       "      <td>-0.0155</td>\n",
       "      <td>0.0693</td>\n",
       "      <td>-0.0477</td>\n",
       "      <td>0.0954</td>\n",
       "      <td>0.0388</td>\n",
       "      <td>0.0060</td>\n",
       "      <td>...</td>\n",
       "      <td>0.0176</td>\n",
       "      <td>0.0201</td>\n",
       "      <td>-0.0159</td>\n",
       "      <td>0.0038</td>\n",
       "      <td>-0.0026</td>\n",
       "      <td>0.0159</td>\n",
       "      <td>0.0316</td>\n",
       "      <td>0.0083</td>\n",
       "      <td>0.0088</td>\n",
       "      <td>-0.0003</td>\n",
       "    </tr>\n",
       "  </tbody>\n",
       "</table>\n",
       "<p>5 rows × 50 columns</p>\n",
       "</div>"
      ],
      "text/plain": [
       "            Mkt-RF     SMB     HML     RMW     CMA  Mkt-RF_1L  Mkt-RF_2L  \\\n",
       "Date                                                                       \n",
       "2010-02-28  0.0340  0.0151  0.0323 -0.0027  0.0143     0.0631     0.0200   \n",
       "2010-03-31  0.0631  0.0185  0.0221 -0.0065  0.0169     0.0200    -0.0789   \n",
       "2010-04-30  0.0200  0.0498  0.0289  0.0069  0.0172    -0.0789    -0.0557   \n",
       "2010-05-31 -0.0789  0.0004 -0.0244  0.0130 -0.0021    -0.0557     0.0693   \n",
       "2010-06-30 -0.0557 -0.0247 -0.0470 -0.0016 -0.0155     0.0693    -0.0477   \n",
       "\n",
       "            Mkt-RF_3L  Mkt-RF_4L  Mkt-RF_5L  ...  RMW_9L  CMA_1L  CMA_2L  \\\n",
       "Date                                         ...                           \n",
       "2010-02-28    -0.0789    -0.0557     0.0693  ...  0.0045  0.0169  0.0172   \n",
       "2010-03-31    -0.0557     0.0693    -0.0477  ... -0.0344  0.0172 -0.0021   \n",
       "2010-04-30     0.0693    -0.0477     0.0954  ... -0.0076 -0.0021 -0.0155   \n",
       "2010-05-31    -0.0477     0.0954     0.0388  ... -0.0194 -0.0155  0.0201   \n",
       "2010-06-30     0.0954     0.0388     0.0060  ...  0.0176  0.0201 -0.0159   \n",
       "\n",
       "            CMA_3L  CMA_4L  CMA_5L  CMA_6L  CMA_7L  CMA_8L  CMA_9L  \n",
       "Date                                                                \n",
       "2010-02-28 -0.0021 -0.0155  0.0201 -0.0159  0.0038 -0.0026  0.0159  \n",
       "2010-03-31 -0.0155  0.0201 -0.0159  0.0038 -0.0026  0.0159  0.0316  \n",
       "2010-04-30  0.0201 -0.0159  0.0038 -0.0026  0.0159  0.0316  0.0083  \n",
       "2010-05-31 -0.0159  0.0038 -0.0026  0.0159  0.0316  0.0083  0.0088  \n",
       "2010-06-30  0.0038 -0.0026  0.0159  0.0316  0.0083  0.0088 -0.0003  \n",
       "\n",
       "[5 rows x 50 columns]"
      ]
     },
     "execution_count": 20,
     "metadata": {},
     "output_type": "execute_result"
    }
   ],
   "source": [
    "X[selected_features].head()"
   ]
  },
  {
   "cell_type": "code",
   "execution_count": 21,
   "metadata": {},
   "outputs": [],
   "source": [
    "def objective(trial):\n",
    "\n",
    "    params = {\n",
    "        'learning_rate': trial.suggest_float('learning_rate', 0.01, 1, log=True),\n",
    "        'num_leaves': trial.suggest_int('num_leaves', 10, 100),\n",
    "        'n_estimators': trial.suggest_int('n_estimators', 10, 300),\n",
    "        'max_depth': trial.suggest_int('max_depth', 1, 100),\n",
    "        'min_data_in_leaf': trial.suggest_int('min_data_in_leaf', 10, 100),\n",
    "        'feature_fraction': trial.suggest_float('feature_fraction', 0.1, 1.0),\n",
    "        'subsample': trial.suggest_float('subsample', 0.1, 1.0),\n",
    "        'lambda_l1': trial.suggest_float('lambda_l1', 0, 100),\n",
    "        'lambda_l2': trial.suggest_float('lambda_l2', 0, 100),\n",
    "        # 'importance_type': 'split',\n",
    "        'importance_type': trial.suggest_categorical('importance_type', ['split', 'gain']),\n",
    "\n",
    "        'n_jobs': 12,\n",
    "        'random_state': 42\n",
    "    }\n",
    "\n",
    "    regr = LGBMRegressor(**params)\n",
    "    regr.fit(X_train.loc[:, selected_features], y_train)\n",
    "    preds = regr.predict(X_test.loc[:, selected_features])\n",
    "    # mse = mean_squared_error(y_test, preds)\n",
    "    # return mse\n",
    "    return r2_score(y_test, preds)"
   ]
  },
  {
   "cell_type": "code",
   "execution_count": null,
   "metadata": {},
   "outputs": [],
   "source": [
    "study = optuna.create_study(direction='maximize')\n",
    "study.optimize(objective, n_trials=200)"
   ]
  },
  {
   "cell_type": "code",
   "execution_count": 23,
   "metadata": {},
   "outputs": [
    {
     "data": {
      "text/plain": [
       "{'learning_rate': 0.12636447630621464,\n",
       " 'num_leaves': 36,\n",
       " 'n_estimators': 221,\n",
       " 'max_depth': 11,\n",
       " 'min_data_in_leaf': 21,\n",
       " 'feature_fraction': 0.8372899170976521,\n",
       " 'subsample': 0.6799585778368694,\n",
       " 'lambda_l1': 0.022174793423824293,\n",
       " 'lambda_l2': 34.96800090951773,\n",
       " 'importance_type': 'gain'}"
      ]
     },
     "execution_count": 23,
     "metadata": {},
     "output_type": "execute_result"
    }
   ],
   "source": [
    "best_params = study.best_params\n",
    "best_params"
   ]
  },
  {
   "cell_type": "code",
   "execution_count": null,
   "metadata": {},
   "outputs": [],
   "source": [
    "model_gbm = LGBMRegressor(**best_params)\n",
    "model_gbm.fit(X=X_train.loc[:, selected_features], y=y_train)\n",
    "preds = model_gbm.predict(X_test.loc[:, selected_features])\n",
    "\n",
    "cv_score_r2 = cross_val_score(model_gbm, X.loc[:, selected_features], Y, cv=5, scoring='r2')\n",
    "cv_score_mse = cross_val_score(\n",
    "    model_gbm, X.loc[:, selected_features], Y, cv=5, scoring='neg_mean_squared_error')"
   ]
  },
  {
   "cell_type": "code",
   "execution_count": 25,
   "metadata": {},
   "outputs": [
    {
     "data": {
      "text/plain": [
       "<Figure size 1000x600 with 0 Axes>"
      ]
     },
     "metadata": {},
     "output_type": "display_data"
    },
    {
     "data": {
      "image/png": "[encoded data removed]",
      "text/plain": [
       "<Figure size 640x480 with 1 Axes>"
      ]
     },
     "metadata": {},
     "output_type": "display_data"
    }
   ],
   "source": [
    "import pandas as pd\n",
    "import matplotlib.pyplot as plt\n",
    "\n",
    "# Plotting\n",
    "plt.figure(figsize=(10, 6))  # Adjust the figure size as needed\n",
    "pd.DataFrame({'Predictions': preds, 'Actual Values': y_test}\n",
    "             ).plot(kind='line', legend=True)\n",
    "plt.title('Predictions vs Test values')\n",
    "plt.ylabel('Return')\n",
    "plt.show()"
   ]
  },
  {
   "cell_type": "code",
   "execution_count": 26,
   "metadata": {},
   "outputs": [
    {
     "data": {
      "text/plain": [
       "0.19064670251423568"
      ]
     },
     "execution_count": 26,
     "metadata": {},
     "output_type": "execute_result"
    }
   ],
   "source": [
    "cv_score_r2.mean() # -> mean r^2"
   ]
  },
  {
   "cell_type": "code",
   "execution_count": 27,
   "metadata": {},
   "outputs": [
    {
     "data": {
      "text/plain": [
       "0.0047397661439243155"
      ]
     },
     "execution_count": 27,
     "metadata": {},
     "output_type": "execute_result"
    }
   ],
   "source": [
    "np.abs(cv_score_mse.mean()) # -> mean mse"
   ]
  },
  {
   "cell_type": "code",
   "execution_count": 28,
   "metadata": {},
   "outputs": [
    {
     "data": {
      "text/plain": [
       "0.540024468990685"
      ]
     },
     "execution_count": 28,
     "metadata": {},
     "output_type": "execute_result"
    }
   ],
   "source": [
    "r2_score(y_test, preds) # remove later"
   ]
  },
  {
   "cell_type": "markdown",
   "metadata": {},
   "source": [
    "#### Find top 25 features"
   ]
  },
  {
   "cell_type": "code",
   "execution_count": 29,
   "metadata": {},
   "outputs": [
    {
     "data": {
      "image/png": "[encoded data removed]",
      "text/plain": [
       "<Figure size 640x480 with 1 Axes>"
      ]
     },
     "metadata": {},
     "output_type": "display_data"
    },
    {
     "data": {
      "image/png": "[encoded data removed]",
      "text/plain": [
       "<Figure size 640x480 with 1 Axes>"
      ]
     },
     "metadata": {},
     "output_type": "display_data"
    }
   ],
   "source": [
    "# fig = plt.plot(figsize=(15, 20))\n",
    "\n",
    "top25 = 25\n",
    "\n",
    "plot_importance(\n",
    "    model_gbm,\n",
    "    importance_type='split',\n",
    "    max_num_features=min(top25, len(X.columns)),\n",
    "    title=\"Feature importance by split\",\n",
    ")\n",
    "\n",
    "plot_importance(\n",
    "    model_gbm,\n",
    "    importance_type='gain',\n",
    "    max_num_features=min(top25, len(X.columns)),\n",
    "    title=\"Feature importance by gain\",\n",
    ")\n",
    "\n",
    "plt.show()"
   ]
  },
  {
   "cell_type": "code",
   "execution_count": 30,
   "metadata": {},
   "outputs": [],
   "source": [
    "top15features_indexes = model_gbm.feature_importances_.argsort()[-15:]\n",
    "top15features_stable = list(pd.Series(selected_features)[\n",
    "                            top15features_indexes].values)"
   ]
  },
  {
   "cell_type": "code",
   "execution_count": 31,
   "metadata": {},
   "outputs": [
    {
     "data": {
      "text/plain": [
       "['CMA_4L',\n",
       " 'HML_3L',\n",
       " 'HML_6L',\n",
       " 'RMW_6L',\n",
       " 'HML_7L',\n",
       " 'CMA_9L',\n",
       " 'CMA_6L',\n",
       " 'SMB_2L',\n",
       " 'HML_4L',\n",
       " 'SMB_6L',\n",
       " 'CMA_8L',\n",
       " 'Mkt-RF_2L',\n",
       " 'RMW',\n",
       " 'CMA',\n",
       " 'Mkt-RF']"
      ]
     },
     "execution_count": 31,
     "metadata": {},
     "output_type": "execute_result"
    }
   ],
   "source": [
    "top15features_stable"
   ]
  },
  {
   "cell_type": "markdown",
   "metadata": {},
   "source": [
    "#### Compare to Lasso Regression\n",
    "\n",
    "Обучать Lasso regression я буду на тех же фичах, что отобрал бустинг."
   ]
  },
  {
   "cell_type": "code",
   "execution_count": 32,
   "metadata": {},
   "outputs": [
    {
     "name": "stdout",
     "output_type": "stream",
     "text": [
      "Lasso fit done in 0.023s\n",
      "Lasso r^2 on test data : 0.660\n"
     ]
    }
   ],
   "source": [
    "from time import time\n",
    "from sklearn.linear_model import LassoCV\n",
    "from sklearn.feature_selection import SelectFromModel\n",
    "from sklearn.ensemble import RandomForestRegressor\n",
    "from sklearn.metrics import r2_score\n",
    "\n",
    "# .loc[:, top15features_stable]\n",
    "\n",
    "t0 = time()\n",
    "lasso_cv = LassoCV(max_iter=1000, cv=5).fit(\n",
    "    X_train, y_train)\n",
    "print(f\"Lasso fit done in {(time() - t0):.3f}s\")\n",
    "\n",
    "y_pred_lasso = lasso_cv.predict(X_test)\n",
    "r2_score_lasso = r2_score(y_test, y_pred_lasso)\n",
    "print(f\"Lasso r^2 on test data : {r2_score_lasso:.3f}\")"
   ]
  },
  {
   "cell_type": "code",
   "execution_count": 33,
   "metadata": {},
   "outputs": [],
   "source": [
    "sfm = SelectFromModel(lasso_cv, prefit=True)\n",
    "X_train_selected = sfm.transform(X_train.values)\n",
    "X_test_selected = sfm.transform(X_test.values)"
   ]
  },
  {
   "cell_type": "code",
   "execution_count": 34,
   "metadata": {},
   "outputs": [
    {
     "name": "stdout",
     "output_type": "stream",
     "text": [
      "Random forest r^2 on test data : 0.660\n"
     ]
    }
   ],
   "source": [
    "model = RandomForestRegressor(n_estimators=100, random_state=42)\n",
    "model.fit(X_train_selected, y_train)\n",
    "y_pred_rf = model.predict(X_test_selected)\n",
    "r2_score_rf = r2_score(y_test, y_pred_lasso)\n",
    "print(f\"Random forest r^2 on test data : {r2_score_rf:.3f}\")"
   ]
  },
  {
   "cell_type": "markdown",
   "metadata": {},
   "source": [
    "Lasso $R^2$ > boosting $R^2$"
   ]
  },
  {
   "cell_type": "code",
   "execution_count": 35,
   "metadata": {},
   "outputs": [],
   "source": [
    "from sklearn.feature_selection import RFE\n",
    "from sklearn.svm import SVR\n",
    "\n",
    "estimator = SVR(kernel=\"linear\")\n",
    "selector = RFE(estimator, n_features_to_select=5, step=1)\n",
    "selector = selector.fit(X, Y)\n",
    "X_train_selected = selector.transform(X_train)\n",
    "X_test_selected = selector.transform(X_test)"
   ]
  },
  {
   "cell_type": "code",
   "execution_count": 36,
   "metadata": {},
   "outputs": [
    {
     "name": "stdout",
     "output_type": "stream",
     "text": [
      "ARD fit done in 0.001s\n",
      "ARD r^2 on test data : 0.742\n"
     ]
    }
   ],
   "source": [
    "from sklearn.linear_model import ARDRegression\n",
    "\n",
    "t0 = time()\n",
    "ard = ARDRegression().fit(X_train_selected, y_train)\n",
    "print(f\"ARD fit done in {(time() - t0):.3f}s\")\n",
    "\n",
    "y_pred_ard = ard.predict(X_test_selected)\n",
    "r2_score_ard = r2_score(y_test, y_pred_ard)\n",
    "print(f\"ARD r^2 on test data : {r2_score_ard:.3f}\")"
   ]
  },
  {
   "cell_type": "markdown",
   "metadata": {},
   "source": [
    "$\\Rightarrow$ best score!"
   ]
  },
  {
   "cell_type": "code",
   "execution_count": 37,
   "metadata": {},
   "outputs": [],
   "source": [
    "'''\n",
    "Create as model\n",
    "'''\n",
    "\n",
    "\n",
    "def objective_ardregr(trial):\n",
    "    params = {\n",
    "        'n_features_to_select': trial.suggest_int('n_features_to_select', 1, 30),\n",
    "        'step': trial.suggest_int('step', 1, 10),\n",
    "    }\n",
    "\n",
    "    regr = RFEARDRegression(**params)\n",
    "    regr.fit(X_train, y_train)\n",
    "    preds = regr.predict(X_test)\n",
    "    return r2_score(y_test, preds)\n",
    "\n",
    "\n",
    "class RFEARDRegression:\n",
    "    def __init__(self, n_features_to_select=5, step=1):\n",
    "        self.n_features_to_select = n_features_to_select\n",
    "        self.step = step\n",
    "        self.estimator = SVR(kernel=\"linear\")\n",
    "        self.selector = RFE(\n",
    "            self.estimator, n_features_to_select=self.n_features_to_select, step=self.step)\n",
    "        self.ard = ARDRegression()\n",
    "\n",
    "    def fit(self, X_train, y_train):\n",
    "        X_train_selected = self.selector.fit_transform(X_train, y_train)\n",
    "        self.ard.fit(X_train_selected, y_train)\n",
    "\n",
    "    def predict(self, X_test):\n",
    "        X_selected = self.selector.transform(X_test)\n",
    "        return self.ard.predict(X_selected)"
   ]
  },
  {
   "cell_type": "markdown",
   "metadata": {},
   "source": [
    "#### Compare to 5-factor Fama-French model"
   ]
  },
  {
   "cell_type": "code",
   "execution_count": 38,
   "metadata": {},
   "outputs": [],
   "source": [
    "'''\n",
    "Fama-French 5-Factor Model\n",
    "\n",
    "Factors loaded from: https://mba.tuck.dartmouth.edu/pages/faculty/ken.french/data_library.html#Research\n",
    "'''\n",
    "\n",
    "import numpy as np\n",
    "import pandas as pd\n",
    "import matplotlib.pyplot as plt\n",
    "import statsmodels.formula.api as smf\n",
    "import statsmodels.api as sm\n",
    "import getFamaFrenchFactors as gff\n",
    "\n",
    "\n",
    "class FamaFrench5Factor:\n",
    "    def __init__(self, _df) -> None:\n",
    "        self.factor_names = ['Mkt-RF', 'SMB', 'HML', 'RMW', 'CMA']\n",
    "        self.factors = pd.DataFrame(gff.famaFrench5Factor(frequency='m'))\n",
    "        self.factors = self.factors.rename(columns={'date_ff_factors': 'Date'})\n",
    "        self.df = _df\n",
    "\n",
    "    def fit(self, _ticker, show_info=False):\n",
    "        data = self._concat_stock_with_factors(_ticker)\n",
    "        Y = data[_ticker] - data['RF']  # substract the risk free rate\n",
    "        X = data[self.factor_names]\n",
    "\n",
    "        # build model\n",
    "        self.model = sm.OLS(Y, sm.tools.add_constant(X))\n",
    "        result = self.model.fit()\n",
    "\n",
    "        if show_info:\n",
    "            print(result.summary())\n",
    "            avr = self.factors.drop('Date', axis=1).apply(np.mean)\n",
    "            Int, Mkt, SMB, HML, RMW, CMA = result.params\n",
    "            exp_returns = Mkt*avr['Mkt-RF'] + SMB*avr['SMB'] + \\\n",
    "                HML*avr['HML'] + RMW*avr['RMW'] + CMA*avr['CMA']\n",
    "            e_rets = exp_returns - data['RF'].mean()\n",
    "            print(f'The expected monthly return for {_ticker} is:', e_rets)\n",
    "            print(f'The expected anual return for {_ticker} is:', ((\n",
    "                1 + e_rets) ** 12) - 1)\n",
    "\n",
    "        return result\n",
    "\n",
    "    def predict(self, X) -> np.array:\n",
    "        # Ensure X has the same columns as the factors used in the model\n",
    "        if not set(X.columns).issubset(set(self.factors.columns)):\n",
    "            raise ValueError(\n",
    "                \"Input DataFrame must contain the same columns as the factors used in the model.\")\n",
    "\n",
    "        # Add a constant term to the input DataFrame\n",
    "        X = sm.tools.add_constant(X)\n",
    "\n",
    "        # Use the fitted model to predict the returns\n",
    "        predictions = self.model.predict(X)\n",
    "\n",
    "        return predictions\n",
    "\n",
    "    def _concat_stock_with_factors(self, _ticker):\n",
    "        mon = pd.DataFrame(self.df[_ticker]).resample('ME').last()\n",
    "        mon_rets = mon.pct_change().dropna()\n",
    "        data = pd.merge(mon_rets, self.factors, on='Date', how='left')\n",
    "        data = data.set_index('Date')\n",
    "        data = data.dropna()\n",
    "        return data\n",
    "\n",
    "    def get_params(self):\n",
    "        return self.model.fit().params\n",
    "\n",
    "    def factors_plot(self, _ticker) -> None:\n",
    "        data = self._concat_stock_with_factors(_ticker)\n",
    "\n",
    "        # Plot Fama-French factors\n",
    "        plt.figure(figsize=(20, 10))\n",
    "        fig3, axs = plt.subplots(1, 5)\n",
    "        axs[0].plot(data['Mkt-RF'].rolling(3).mean(), linewidth=2.5)\n",
    "        axs[0].plot(data[_ticker])\n",
    "        axs[0].set_title('Stock compared to market returns')\n",
    "        axs[1].plot(data['SMB'].rolling(3).mean(), linewidth=2.5)\n",
    "        axs[1].plot(data[_ticker])\n",
    "        axs[1].set_title('Stock compared to small company returns')\n",
    "        axs[2].plot(data['HML'].rolling(3).mean(), linewidth=2.5)\n",
    "        axs[2].plot(data[_ticker])\n",
    "        axs[2].set_title('Stock compared to value stocks index')\n",
    "        axs[3].plot(data['RMW'].rolling(3).mean(), linewidth=2.5)\n",
    "        axs[3].plot(data[_ticker])\n",
    "        axs[3].set_title('Stock compared to return on equity')\n",
    "        axs[4].plot(data['CMA'].rolling(3).mean(), linewidth=2.5)\n",
    "        axs[4].plot(data[_ticker])\n",
    "        axs[4].set_title('Stock compared to investments')\n",
    "        fig3.suptitle('Factors plot', fontsize=18)\n",
    "\n",
    "        # Calculate correlations\n",
    "        cor = data.corr()\n",
    "\n",
    "        # Use.iloc[] to access values by their integer location\n",
    "        print(f'{_ticker} correlation with market index:',\n",
    "              cor['Mkt-RF'].iloc[0])\n",
    "        print(f'{_ticker} correlation with small-company portfolio index:',\n",
    "              cor['SMB'].iloc[0])\n",
    "        print(f'{_ticker} correlation with value stocks index:',\n",
    "              cor['HML'].iloc[0])\n",
    "        print(f'{_ticker} correlation with return on equity index:',\n",
    "              cor['RMW'].iloc[0])\n",
    "        print(f'{_ticker} correlation with investments:',\n",
    "              cor['HML'].iloc[0])"
   ]
  },
  {
   "cell_type": "code",
   "execution_count": 39,
   "metadata": {},
   "outputs": [
    {
     "name": "stdout",
     "output_type": "stream",
     "text": [
      "                            OLS Regression Results                            \n",
      "==============================================================================\n",
      "Dep. Variable:                      y   R-squared:                       0.468\n",
      "Model:                            OLS   Adj. R-squared:                  0.452\n",
      "Method:                 Least Squares   F-statistic:                     28.88\n",
      "Date:                Mon, 20 May 2024   Prob (F-statistic):           6.06e-21\n",
      "Time:                        04:37:49   Log-Likelihood:                 245.29\n",
      "No. Observations:                 170   AIC:                            -478.6\n",
      "Df Residuals:                     164   BIC:                            -459.8\n",
      "Df Model:                           5                                         \n",
      "Covariance Type:            nonrobust                                         \n",
      "==============================================================================\n",
      "                 coef    std err          t      P>|t|      [0.025      0.975]\n",
      "------------------------------------------------------------------------------\n",
      "const          0.0069      0.005      1.461      0.146      -0.002       0.016\n",
      "Mkt-RF         1.1555      0.111     10.416      0.000       0.936       1.375\n",
      "SMB           -0.0645      0.210     -0.308      0.759      -0.478       0.349\n",
      "HML           -0.5181      0.192     -2.698      0.008      -0.897      -0.139\n",
      "RMW            0.7560      0.255      2.965      0.003       0.252       1.260\n",
      "CMA           -0.1688      0.290     -0.583      0.561      -0.741       0.403\n",
      "==============================================================================\n",
      "Omnibus:                        6.356   Durbin-Watson:                   1.812\n",
      "Prob(Omnibus):                  0.042   Jarque-Bera (JB):                7.243\n",
      "Skew:                          -0.285   Prob(JB):                       0.0267\n",
      "Kurtosis:                       3.836   Cond. No.                         73.1\n",
      "==============================================================================\n",
      "\n",
      "Notes:\n",
      "[1] Standard Errors assume that the covariance matrix of the errors is correctly specified.\n",
      "The expected monthly return for AAPL is: 0.005953642744115091\n",
      "The expected anual return for AAPL is: 0.07383019474431252\n"
     ]
    },
    {
     "data": {
      "text/plain": [
       "<statsmodels.regression.linear_model.RegressionResultsWrapper at 0x2cc087410>"
      ]
     },
     "execution_count": 39,
     "metadata": {},
     "output_type": "execute_result"
    }
   ],
   "source": [
    "ff5_model = FamaFrench5Factor(df)\n",
    "ff5_model.fit(tickers[0], True)"
   ]
  },
  {
   "cell_type": "markdown",
   "metadata": {},
   "source": [
    "$R^2$ = 0.2194460492122819 (on cross-validation, boosting)\n",
    "\n",
    "$R^2$ = 0.468 (for 5-factor Fama-French)"
   ]
  },
  {
   "cell_type": "code",
   "execution_count": null,
   "metadata": {},
   "outputs": [],
   "source": []
  },
  {
   "cell_type": "markdown",
   "metadata": {},
   "source": [
    "### Исследуем feature importance на случайной подвыборке из акций"
   ]
  },
  {
   "cell_type": "code",
   "execution_count": 40,
   "metadata": {},
   "outputs": [],
   "source": [
    "def get_XY(ticker):\n",
    "\tmon = pd.DataFrame(df[ticker]).resample('ME').last()\n",
    "\tmon_rets = mon.pct_change().dropna()\n",
    "\tfactors = ff5.rename(columns={'date_ff_factors': 'Date'})\n",
    "\tfactors_0 = pd.merge(mon_rets, factors, on='Date', how='left')\n",
    "\tfactors_0 = factors_0.dropna()\n",
    "\tY = (factors_0[ticker] - factors_0['RF'])\n",
    "\tX = factors_0.drop(\n",
    "\t\t\t\t\t\t\tcolumns=['RF', ticker]).set_index('Date')\n",
    "\treturn train_test_split(\n",
    "            X, Y, test_size=0.2, shuffle=False)"
   ]
  },
  {
   "cell_type": "code",
   "execution_count": 41,
   "metadata": {},
   "outputs": [],
   "source": [
    "import matplotlib.pyplot as plt\n",
    "\n",
    "\n",
    "def plot_feature_importance_custom(features_dict, top_count: int = None):\n",
    "\tplt.figure(figsize=(10, 12))\n",
    "\tsorted_features_dict = sorted(\n",
    "\t\t\tfeatures_dict.items(), key=lambda item: item[1], reverse=False)\n",
    "\n",
    "\tselected_features = [x[0] for x in sorted_features_dict]\n",
    "\tres_vector = [x[1] for x in sorted_features_dict]\n",
    " \n",
    "\tif top_count is not None:\n",
    "\t\tselected_features = selected_features[-top_count:]\n",
    "\t\tres_vector = res_vector[-top_count:]\n",
    "\n",
    "\tplt.barh(selected_features, res_vector, color='skyblue')\n",
    "\t# plt.barh(selected_features, res_vector, color='skyblue')\n",
    "\n",
    "\t# Настройка осей и добавление заголовков\n",
    "\tplt.xlabel('Важность признака')\n",
    "\tplt.ylabel('Название признака')\n",
    "\tplt.title('Гистограмма важности признаков')\n",
    "\n",
    "\t# Отображение графика\n",
    "\tplt.show()"
   ]
  },
  {
   "cell_type": "code",
   "execution_count": 42,
   "metadata": {},
   "outputs": [],
   "source": [
    "N_stocks = 25\n",
    "random_tickers = np.random.choice(df.columns, size=N_stocks)"
   ]
  },
  {
   "cell_type": "code",
   "execution_count": 43,
   "metadata": {},
   "outputs": [],
   "source": [
    "def objective_random_boosting(trial):\n",
    "\n",
    "    params = {\n",
    "        'learning_rate': trial.suggest_float('learning_rate', 0.01, 1, log=True),\n",
    "        'num_leaves': trial.suggest_int('num_leaves', 10, 100),\n",
    "        'n_estimators': trial.suggest_int('n_estimators', 10, 300),\n",
    "        'max_depth': trial.suggest_int('max_depth', 1, 100),\n",
    "        'min_data_in_leaf': trial.suggest_int('min_data_in_leaf', 10, 100),\n",
    "        'feature_fraction': trial.suggest_float('feature_fraction', 0.1, 1.0),\n",
    "        'subsample': trial.suggest_float('subsample', 0.1, 1.0),\n",
    "        'lambda_l1': trial.suggest_float('lambda_l1', 0, 100),\n",
    "        'lambda_l2': trial.suggest_float('lambda_l2', 0, 100),\n",
    "        # 'importance_type': 'split',\n",
    "        'importance_type': trial.suggest_categorical('importance_type', ['split', 'gain']),\n",
    "\n",
    "        'n_jobs': 12,\n",
    "        'random_state': 42\n",
    "    }\n",
    "\n",
    "    regr = LGBMRegressor(**params)\n",
    "    regr.fit(X_train, y_train)\n",
    "    preds = regr.predict(X_test)\n",
    "    # mse = mean_squared_error(y_test, preds)\n",
    "    # return mse\n",
    "    return r2_score(y_test, preds)"
   ]
  },
  {
   "cell_type": "code",
   "execution_count": null,
   "metadata": {},
   "outputs": [],
   "source": [
    "scores_dict = {}\n",
    "top_features_dict = {}\n",
    "\n",
    "\n",
    "for ticker in random_tickers:\n",
    "\tmon = pd.DataFrame(df[ticker]).resample('ME').last()\n",
    "\tmon_rets = mon.pct_change().dropna()\n",
    "\tfactors = ff5.rename(columns={'date_ff_factors': 'Date'})\n",
    "\tfactors_0 = pd.merge(mon_rets, factors, on='Date', how='left')\n",
    "\tfactors_0 = factors_0.dropna()\n",
    "\tY = (factors_0[ticker] - factors_0['RF'])\n",
    "\tX = factors_0.drop(\n",
    "\t\t\t\t\t\tcolumns=['RF', ticker]).set_index('Date')\n",
    "\tX_train, X_test, y_train, y_test = train_test_split(\n",
    "\t\t\t\t\t\tX, Y, test_size=0.2, shuffle=False)\n",
    "\tstudy = optuna.create_study(direction='maximize')\n",
    "\tstudy.optimize(objective, n_trials=200)\n",
    "\tbest_params = study.best_params\n",
    "\tmodel_gbm = LGBMRegressor(**best_params)\n",
    "\tmodel_gbm.fit(X=X_train, y=y_train)\n",
    "\tpreds = model_gbm.predict(X_test)\n",
    "\n",
    "\tcv_score_r2 = cross_val_score(\n",
    "\t\tmodel_gbm, X, Y, cv=5, scoring='r2')\n",
    "\tcv_score_mse = cross_val_score(\n",
    "\t\t\tmodel_gbm, X, Y, cv=5, scoring='neg_mean_squared_error')\n",
    "\tscores_dict[ticker] = [cv_score_r2.mean(), np.abs(cv_score_mse.mean())]\n",
    "\n",
    "\ttop15features_indexes = model_gbm.feature_importances_.argsort()[-15:]\n",
    "\ttop15features_stable = list(pd.Series(selected_features)[top15features_indexes].values)\n",
    "\ttop_features_dict[ticker] = top15features_stable\n",
    "\t"
   ]
  },
  {
   "cell_type": "markdown",
   "metadata": {},
   "source": [
    "#### Using 5-factor Fama-French"
   ]
  },
  {
   "cell_type": "code",
   "execution_count": null,
   "metadata": {},
   "outputs": [],
   "source": [
    "scores_dict_fama_french = {}\n",
    "ff5_model = FamaFrench5Factor(df)\n",
    "\n",
    "for ticker in random_tickers:\n",
    "  scores_dict_fama_french[ticker] = ff5_model.fit(ticker).rsquared"
   ]
  },
  {
   "cell_type": "markdown",
   "metadata": {},
   "source": [
    "#### Using RFEARDRegression"
   ]
  },
  {
   "cell_type": "code",
   "execution_count": null,
   "metadata": {},
   "outputs": [],
   "source": [
    "scores_dict_rfeard_regression = {}\n",
    "\n",
    "for ticker in random_tickers:\n",
    "  mon = pd.DataFrame(df[ticker]).resample('ME').last()\n",
    "  mon_rets = mon.pct_change().dropna()\n",
    "  factors = ff5.rename(columns={'date_ff_factors': 'Date'})\n",
    "  factors_0 = pd.merge(mon_rets, factors, on='Date', how='left')\n",
    "  factors_0 = factors_0.dropna()\n",
    "  Y = (factors_0[ticker] - factors_0['RF'])\n",
    "  X = factors_0.drop(\n",
    "            columns=['RF', ticker]).set_index('Date')\n",
    "  X_train, X_test, y_train, y_test = train_test_split(\n",
    "            X, Y, test_size=0.2, shuffle=False)\n",
    "  \n",
    "  study = optuna.create_study(direction='maximize')\n",
    "  study.optimize(objective_ardregr, n_trials=100)\n",
    "  rfeard_regression = RFEARDRegression(**study.best_params)\n",
    "  rfeard_regression.fit(X_train, y_train)\n",
    "  y_preds = rfeard_regression.predict(X_test)\n",
    "  scores_dict_rfeard_regression[ticker] = r2_score(y_test, y_preds)"
   ]
  },
  {
   "cell_type": "markdown",
   "metadata": {},
   "source": [
    "#### Using Lasso"
   ]
  },
  {
   "cell_type": "code",
   "execution_count": null,
   "metadata": {},
   "outputs": [],
   "source": [
    "from sklearn.linear_model import LassoCV\n",
    "from sklearn.metrics import r2_score\n",
    "\n",
    "scores_dict_lasso = {}\n",
    "feature_selection_lasso_dict = {}\n",
    "\n",
    "# .loc[:, top15features_stable]\n",
    "for ticker in random_tickers:\n",
    "    mon = pd.DataFrame(df[ticker]).resample('ME').last()\n",
    "    mon_rets = mon.pct_change().dropna()\n",
    "    factors = ff5.rename(columns={'date_ff_factors': 'Date'})\n",
    "    factors_0 = pd.merge(mon_rets, factors, on='Date', how='left')\n",
    "    factors_0 = factors_0.dropna()\n",
    "    Y = (factors_0[ticker] - factors_0['RF'])\n",
    "    X = factors_0.drop(\n",
    "                columns=['RF', ticker]).set_index('Date')\n",
    "    X_train, X_test, y_train, y_test = train_test_split(\n",
    "                X, Y, test_size=0.2, shuffle=False)\n",
    "    \n",
    "    # lasso\n",
    "    lasso_cv = LassoCV(max_iter=10000, cv=5).fit(\n",
    "        X_train, y_train)\n",
    "    y_pred_lasso = lasso_cv.predict(X_test)\n",
    "    scores_dict_lasso[ticker] = r2_score(y_test, y_pred_lasso)\n",
    "    \n",
    "    # Select features based on Lasso coefficients\n",
    "    # Adjust the threshold as needed\n",
    "    selected_features = X.columns[(np.abs(lasso_cv.coef_) > 0.01)]\n",
    "\n",
    "    # Store selected features for each ticker\n",
    "    feature_selection_lasso_dict[ticker] = selected_features.tolist()"
   ]
  },
  {
   "cell_type": "code",
   "execution_count": null,
   "metadata": {},
   "outputs": [
    {
     "data": {
      "image/png": "[encoded data removed]",
      "text/plain": [
       "<Figure size 1000x1200 with 1 Axes>"
      ]
     },
     "metadata": {},
     "output_type": "display_data"
    }
   ],
   "source": [
    "from collections import Counter\n",
    "\n",
    "lasso_important_features = []\n",
    "\n",
    "for k, imp in feature_selection_lasso_dict.items():\n",
    "  lasso_important_features += imp\n",
    "  \n",
    "plot_feature_importance_custom(dict(Counter(lasso_important_features)), 15)"
   ]
  },
  {
   "cell_type": "markdown",
   "metadata": {},
   "source": [
    "#### Using Elastic Net"
   ]
  },
  {
   "cell_type": "code",
   "execution_count": null,
   "metadata": {},
   "outputs": [],
   "source": [
    "from sklearn.linear_model import ElasticNetCV\n",
    "from sklearn.metrics import r2_score\n",
    "\n",
    "scores_dict_elastic_net = {}\n",
    "\n",
    "# .loc[:, top15features_stable]\n",
    "for ticker in random_tickers:\n",
    "    mon = pd.DataFrame(df[ticker]).resample('ME').last()\n",
    "    mon_rets = mon.pct_change().dropna()\n",
    "    factors = ff5.rename(columns={'date_ff_factors': 'Date'})\n",
    "    factors_0 = pd.merge(mon_rets, factors, on='Date', how='left')\n",
    "    factors_0 = factors_0.dropna()\n",
    "    Y = (factors_0[ticker] - factors_0['RF'])\n",
    "    X = factors_0.drop(\n",
    "        columns=['RF', ticker]).set_index('Date')\n",
    "    X_train, X_test, y_train, y_test = train_test_split(\n",
    "        X, Y, test_size=0.2, shuffle=False)\n",
    "\n",
    "    # lasso\n",
    "    elastic_cv = ElasticNetCV(max_iter=10000, cv=5).fit(\n",
    "        X_train, y_train)\n",
    "    y_pred_lasso = lasso_cv.predict(X_test)\n",
    "    scores_dict_elastic_net[ticker] = r2_score(y_test, y_pred_lasso)"
   ]
  },
  {
   "cell_type": "code",
   "execution_count": null,
   "metadata": {},
   "outputs": [
    {
     "data": {
      "application/vnd.plotly.v1+json": {
       "config": {
        "plotlyServerURL": "https://plot.ly"
       },
       "data": [
        {
         "mode": "lines+markers",
         "name": "Boosting",
         "type": "scatter",
         "x": [
          0,
          1.0416666666666667,
          2.0833333333333335,
          3.125,
          4.166666666666667,
          5.208333333333334,
          6.25,
          7.291666666666667,
          8.333333333333334,
          9.375,
          10.416666666666668,
          11.458333333333334,
          12.5,
          13.541666666666668,
          14.583333333333334,
          15.625000000000002,
          16.666666666666668,
          17.708333333333336,
          18.75,
          19.791666666666668,
          20.833333333333336,
          21.875,
          22.916666666666668,
          23.958333333333336,
          25
         ],
         "y": [
          0.0012336774209882994,
          0.21924769780234632,
          0.2533579567901211,
          0.39946435839945027,
          -0.016764892825398947,
          -0.014506773798835448,
          -0.2806999585602487,
          0.21615781044488375,
          -0.5188482388614725,
          0.03901776132263821,
          -0.31414967691105317,
          0.1616428623692631,
          -0.04907268506280467,
          0.2186505172303903,
          0.22601331794311053,
          0.03813444826039229,
          0.22002020340913003,
          0.33579582025888244,
          0.11846355204331369,
          0.14928893263943677,
          0.17047536082712095,
          0.06326505674112218,
          0.30792183231521586,
          0.08309894147061872,
          0.2108504450860446
         ]
        },
        {
         "mode": "lines+markers",
         "name": "Fama-French",
         "type": "scatter",
         "x": [
          0,
          1.0416666666666667,
          2.0833333333333335,
          3.125,
          4.166666666666667,
          5.208333333333334,
          6.25,
          7.291666666666667,
          8.333333333333334,
          9.375,
          10.416666666666668,
          11.458333333333334,
          12.5,
          13.541666666666668,
          14.583333333333334,
          15.625000000000002,
          16.666666666666668,
          17.708333333333336,
          18.75,
          19.791666666666668,
          20.833333333333336,
          21.875,
          22.916666666666668,
          23.958333333333336,
          25
         ],
         "y": [
          0.22385202470979448,
          0.3927682117558573,
          0.3857791617138513,
          0.6803592448172326,
          0.17856334820496,
          0.4302171785759067,
          0.5187814828003173,
          0.46433336132862946,
          0.4798733275006357,
          0.37403777631831914,
          0.32969070303623005,
          0.47242369342846746,
          0.21083004649812487,
          0.45910325700990007,
          0.7232325722446116,
          0.23362641286733998,
          0.5384063313514517,
          0.6026002142901228,
          0.31169448105585307,
          0.38719868485968656,
          0.6089604361291332,
          0.5551461652903862,
          0.6293377789930468,
          0.5170431972222138,
          0.7618234965094263
         ]
        },
        {
         "mode": "lines+markers",
         "name": "ARD Regression",
         "type": "scatter",
         "x": [
          0,
          1.0416666666666667,
          2.0833333333333335,
          3.125,
          4.166666666666667,
          5.208333333333334,
          6.25,
          7.291666666666667,
          8.333333333333334,
          9.375,
          10.416666666666668,
          11.458333333333334,
          12.5,
          13.541666666666668,
          14.583333333333334,
          15.625000000000002,
          16.666666666666668,
          17.708333333333336,
          18.75,
          19.791666666666668,
          20.833333333333336,
          21.875,
          22.916666666666668,
          23.958333333333336,
          25
         ],
         "y": [
          0.25388833896964635,
          0.5317172609547247,
          0.39674355174626197,
          0.7156653242114921,
          0.06633217561239169,
          0.27240297892565846,
          0.44944311872480336,
          0.16092810575863514,
          0.432327724137873,
          0.5062162532720645,
          0.1777987300880256,
          0.5051749569918504,
          0.06610569478316197,
          0.5885431840757439,
          0.44526165616715563,
          0.00672574140744997,
          0.5172022650705195,
          0.5383247270882106,
          0.3633447690039068,
          0.5065298513297265,
          0.6809538297378703,
          0.7061085552517941,
          0.43039958108167775,
          0.6030437888538317,
          0.5860937698423242
         ]
        },
        {
         "mode": "lines+markers",
         "name": "Lasso",
         "type": "scatter",
         "x": [
          0,
          1.0416666666666667,
          2.0833333333333335,
          3.125,
          4.166666666666667,
          5.208333333333334,
          6.25,
          7.291666666666667,
          8.333333333333334,
          9.375,
          10.416666666666668,
          11.458333333333334,
          12.5,
          13.541666666666668,
          14.583333333333334,
          15.625000000000002,
          16.666666666666668,
          17.708333333333336,
          18.75,
          19.791666666666668,
          20.833333333333336,
          21.875,
          22.916666666666668,
          23.958333333333336,
          25
         ],
         "y": [
          0.12500818602545738,
          0.5683854543419222,
          0.39082618520451007,
          0.6683560663414309,
          0.03898279663665094,
          0.23713272403613772,
          0.3384268805102858,
          0.4259912365462114,
          0.3813590216428796,
          0.31610981567833163,
          -0.3271099826024988,
          0.4345704148813826,
          0.07941014741893415,
          0.5426456242183135,
          0.403352367114174,
          0.08691413060688502,
          0.43030710387893434,
          0.46649165933769454,
          0.05703895094601619,
          0.4330858227181097,
          0.5442635589923921,
          0.5767537094396379,
          0.2891859480704083,
          0.510305801524195,
          0.4936098408821704
         ]
        },
        {
         "mode": "lines+markers",
         "name": "Elastic Net",
         "type": "scatter",
         "x": [
          0,
          1.0416666666666667,
          2.0833333333333335,
          3.125,
          4.166666666666667,
          5.208333333333334,
          6.25,
          7.291666666666667,
          8.333333333333334,
          9.375,
          10.416666666666668,
          11.458333333333334,
          12.5,
          13.541666666666668,
          14.583333333333334,
          15.625000000000002,
          16.666666666666668,
          17.708333333333336,
          18.75,
          19.791666666666668,
          20.833333333333336,
          21.875,
          22.916666666666668,
          23.958333333333336,
          25
         ],
         "y": [
          0.17066115665714277,
          -0.0960212712063615,
          -0.1884904515204071,
          0.43126793594922397,
          -0.6934395887949767,
          -0.21197198611727397,
          0.37727302302168175,
          -0.7513654423550515,
          0.4177837942342454,
          0.04311565413762297,
          0.4119549260119616,
          0.2383306474448339,
          -0.02909913844539469,
          0.3237480299862485,
          0.3275492130832297,
          -0.4311372610659796,
          0.45870035465956793,
          0.17324527510107002,
          0.058487730481671885,
          0.17256418243472338,
          0.6379588463757329,
          0.2049295100264823,
          0.547743391208856,
          0.6114229002292673,
          0.4936098408821704
         ]
        },
        {
         "mode": "text",
         "showlegend": false,
         "text": [
          "EG",
          "VRSN",
          "ZTS",
          "AME",
          "NEE",
          "MDLZ",
          "DVN",
          "PEP",
          "F",
          "NVDA",
          "APA",
          "CRL",
          "MCK",
          "TER",
          "TFC",
          "HAS",
          "EOG",
          "ROK",
          "FTNT",
          "STE",
          "IVZ",
          "INTU",
          "SNA",
          "AIG",
          "FITB"
         ],
         "textposition": "top center",
         "type": "scatter",
         "x": [
          0,
          1,
          2,
          3,
          4,
          5,
          6,
          7,
          8,
          9,
          10,
          11,
          12,
          13,
          14,
          15,
          16,
          17,
          18,
          19,
          20,
          21,
          22,
          23,
          25
         ],
         "y": [
          0.0012336774209882994,
          0.21924769780234632,
          0.2533579567901211,
          0.39946435839945027,
          -0.016764892825398947,
          -0.014506773798835448,
          -0.2806999585602487,
          0.21615781044488375,
          -0.5188482388614725,
          0.03901776132263821,
          -0.31414967691105317,
          0.1616428623692631,
          -0.04907268506280467,
          0.2186505172303903,
          0.22601331794311053,
          0.03813444826039229,
          0.22002020340913003,
          0.33579582025888244,
          0.11846355204331369,
          0.14928893263943677,
          0.17047536082712095,
          0.06326505674112218,
          0.30792183231521586,
          0.08309894147061872,
          0.2108504450860446,
          0.22385202470979448,
          0.3927682117558573,
          0.3857791617138513,
          0.6803592448172326,
          0.17856334820496,
          0.4302171785759067,
          0.5187814828003173,
          0.46433336132862946,
          0.4798733275006357,
          0.37403777631831914,
          0.32969070303623005,
          0.47242369342846746,
          0.21083004649812487,
          0.45910325700990007,
          0.7232325722446116,
          0.23362641286733998,
          0.5384063313514517,
          0.6026002142901228,
          0.31169448105585307,
          0.38719868485968656,
          0.6089604361291332,
          0.5551461652903862,
          0.6293377789930468,
          0.5170431972222138,
          0.7618234965094263,
          0.25388833896964635,
          0.5317172609547247,
          0.39674355174626197,
          0.7156653242114921,
          0.06633217561239169,
          0.27240297892565846,
          0.44944311872480336,
          0.16092810575863514,
          0.432327724137873,
          0.5062162532720645,
          0.1777987300880256,
          0.5051749569918504,
          0.06610569478316197,
          0.5885431840757439,
          0.44526165616715563,
          0.00672574140744997,
          0.5172022650705195,
          0.5383247270882106,
          0.3633447690039068,
          0.5065298513297265,
          0.6809538297378703,
          0.7061085552517941,
          0.43039958108167775,
          0.6030437888538317,
          0.5860937698423242,
          0.12500818602545738,
          0.5683854543419222,
          0.39082618520451007,
          0.6683560663414309,
          0.03898279663665094,
          0.23713272403613772,
          0.3384268805102858,
          0.4259912365462114,
          0.3813590216428796,
          0.31610981567833163,
          -0.3271099826024988,
          0.4345704148813826,
          0.07941014741893415,
          0.5426456242183135,
          0.403352367114174,
          0.08691413060688502,
          0.43030710387893434,
          0.46649165933769454,
          0.05703895094601619,
          0.4330858227181097,
          0.5442635589923921,
          0.5767537094396379,
          0.2891859480704083,
          0.510305801524195,
          0.4936098408821704,
          0.17066115665714277,
          -0.0960212712063615,
          -0.1884904515204071,
          0.43126793594922397,
          -0.6934395887949767,
          -0.21197198611727397,
          0.37727302302168175,
          -0.7513654423550515,
          0.4177837942342454,
          0.04311565413762297,
          0.4119549260119616,
          0.2383306474448339,
          -0.02909913844539469,
          0.3237480299862485,
          0.3275492130832297,
          -0.4311372610659796,
          0.45870035465956793,
          0.17324527510107002,
          0.058487730481671885,
          0.17256418243472338,
          0.6379588463757329,
          0.2049295100264823,
          0.547743391208856,
          0.6114229002292673,
          0.4936098408821704
         ]
        }
       ],
       "layout": {
        "legend": {
         "title": {
          "text": "Model"
         }
        },
        "template": {
         "data": {
          "bar": [
           {
            "error_x": {
             "color": "#2a3f5f"
            },
            "error_y": {
             "color": "#2a3f5f"
            },
            "marker": {
             "line": {
              "color": "#E5ECF6",
              "width": 0.5
             },
             "pattern": {
              "fillmode": "overlay",
              "size": 10,
              "solidity": 0.2
             }
            },
            "type": "bar"
           }
          ],
          "barpolar": [
           {
            "marker": {
             "line": {
              "color": "#E5ECF6",
              "width": 0.5
             },
             "pattern": {
              "fillmode": "overlay",
              "size": 10,
              "solidity": 0.2
             }
            },
            "type": "barpolar"
           }
          ],
          "carpet": [
           {
            "aaxis": {
             "endlinecolor": "#2a3f5f",
             "gridcolor": "white",
             "linecolor": "white",
             "minorgridcolor": "white",
             "startlinecolor": "#2a3f5f"
            },
            "baxis": {
             "endlinecolor": "#2a3f5f",
             "gridcolor": "white",
             "linecolor": "white",
             "minorgridcolor": "white",
             "startlinecolor": "#2a3f5f"
            },
            "type": "carpet"
           }
          ],
          "choropleth": [
           {
            "colorbar": {
             "outlinewidth": 0,
             "ticks": ""
            },
            "type": "choropleth"
           }
          ],
          "contour": [
           {
            "colorbar": {
             "outlinewidth": 0,
             "ticks": ""
            },
            "colorscale": [
             [
              0,
              "#0d0887"
             ],
             [
              0.1111111111111111,
              "#46039f"
             ],
             [
              0.2222222222222222,
              "#7201a8"
             ],
             [
              0.3333333333333333,
              "#9c179e"
             ],
             [
              0.4444444444444444,
              "#bd3786"
             ],
             [
              0.5555555555555556,
              "#d8576b"
             ],
             [
              0.6666666666666666,
              "#ed7953"
             ],
             [
              0.7777777777777778,
              "#fb9f3a"
             ],
             [
              0.8888888888888888,
              "#fdca26"
             ],
             [
              1,
              "#f0f921"
             ]
            ],
            "type": "contour"
           }
          ],
          "contourcarpet": [
           {
            "colorbar": {
             "outlinewidth": 0,
             "ticks": ""
            },
            "type": "contourcarpet"
           }
          ],
          "heatmap": [
           {
            "colorbar": {
             "outlinewidth": 0,
             "ticks": ""
            },
            "colorscale": [
             [
              0,
              "#0d0887"
             ],
             [
              0.1111111111111111,
              "#46039f"
             ],
             [
              0.2222222222222222,
              "#7201a8"
             ],
             [
              0.3333333333333333,
              "#9c179e"
             ],
             [
              0.4444444444444444,
              "#bd3786"
             ],
             [
              0.5555555555555556,
              "#d8576b"
             ],
             [
              0.6666666666666666,
              "#ed7953"
             ],
             [
              0.7777777777777778,
              "#fb9f3a"
             ],
             [
              0.8888888888888888,
              "#fdca26"
             ],
             [
              1,
              "#f0f921"
             ]
            ],
            "type": "heatmap"
           }
          ],
          "heatmapgl": [
           {
            "colorbar": {
             "outlinewidth": 0,
             "ticks": ""
            },
            "colorscale": [
             [
              0,
              "#0d0887"
             ],
             [
              0.1111111111111111,
              "#46039f"
             ],
             [
              0.2222222222222222,
              "#7201a8"
             ],
             [
              0.3333333333333333,
              "#9c179e"
             ],
             [
              0.4444444444444444,
              "#bd3786"
             ],
             [
              0.5555555555555556,
              "#d8576b"
             ],
             [
              0.6666666666666666,
              "#ed7953"
             ],
             [
              0.7777777777777778,
              "#fb9f3a"
             ],
             [
              0.8888888888888888,
              "#fdca26"
             ],
             [
              1,
              "#f0f921"
             ]
            ],
            "type": "heatmapgl"
           }
          ],
          "histogram": [
           {
            "marker": {
             "pattern": {
              "fillmode": "overlay",
              "size": 10,
              "solidity": 0.2
             }
            },
            "type": "histogram"
           }
          ],
          "histogram2d": [
           {
            "colorbar": {
             "outlinewidth": 0,
             "ticks": ""
            },
            "colorscale": [
             [
              0,
              "#0d0887"
             ],
             [
              0.1111111111111111,
              "#46039f"
             ],
             [
              0.2222222222222222,
              "#7201a8"
             ],
             [
              0.3333333333333333,
              "#9c179e"
             ],
             [
              0.4444444444444444,
              "#bd3786"
             ],
             [
              0.5555555555555556,
              "#d8576b"
             ],
             [
              0.6666666666666666,
              "#ed7953"
             ],
             [
              0.7777777777777778,
              "#fb9f3a"
             ],
             [
              0.8888888888888888,
              "#fdca26"
             ],
             [
              1,
              "#f0f921"
             ]
            ],
            "type": "histogram2d"
           }
          ],
          "histogram2dcontour": [
           {
            "colorbar": {
             "outlinewidth": 0,
             "ticks": ""
            },
            "colorscale": [
             [
              0,
              "#0d0887"
             ],
             [
              0.1111111111111111,
              "#46039f"
             ],
             [
              0.2222222222222222,
              "#7201a8"
             ],
             [
              0.3333333333333333,
              "#9c179e"
             ],
             [
              0.4444444444444444,
              "#bd3786"
             ],
             [
              0.5555555555555556,
              "#d8576b"
             ],
             [
              0.6666666666666666,
              "#ed7953"
             ],
             [
              0.7777777777777778,
              "#fb9f3a"
             ],
             [
              0.8888888888888888,
              "#fdca26"
             ],
             [
              1,
              "#f0f921"
             ]
            ],
            "type": "histogram2dcontour"
           }
          ],
          "mesh3d": [
           {
            "colorbar": {
             "outlinewidth": 0,
             "ticks": ""
            },
            "type": "mesh3d"
           }
          ],
          "parcoords": [
           {
            "line": {
             "colorbar": {
              "outlinewidth": 0,
              "ticks": ""
             }
            },
            "type": "parcoords"
           }
          ],
          "pie": [
           {
            "automargin": true,
            "type": "pie"
           }
          ],
          "scatter": [
           {
            "fillpattern": {
             "fillmode": "overlay",
             "size": 10,
             "solidity": 0.2
            },
            "type": "scatter"
           }
          ],
          "scatter3d": [
           {
            "line": {
             "colorbar": {
              "outlinewidth": 0,
              "ticks": ""
             }
            },
            "marker": {
             "colorbar": {
              "outlinewidth": 0,
              "ticks": ""
             }
            },
            "type": "scatter3d"
           }
          ],
          "scattercarpet": [
           {
            "marker": {
             "colorbar": {
              "outlinewidth": 0,
              "ticks": ""
             }
            },
            "type": "scattercarpet"
           }
          ],
          "scattergeo": [
           {
            "marker": {
             "colorbar": {
              "outlinewidth": 0,
              "ticks": ""
             }
            },
            "type": "scattergeo"
           }
          ],
          "scattergl": [
           {
            "marker": {
             "colorbar": {
              "outlinewidth": 0,
              "ticks": ""
             }
            },
            "type": "scattergl"
           }
          ],
          "scattermapbox": [
           {
            "marker": {
             "colorbar": {
              "outlinewidth": 0,
              "ticks": ""
             }
            },
            "type": "scattermapbox"
           }
          ],
          "scatterpolar": [
           {
            "marker": {
             "colorbar": {
              "outlinewidth": 0,
              "ticks": ""
             }
            },
            "type": "scatterpolar"
           }
          ],
          "scatterpolargl": [
           {
            "marker": {
             "colorbar": {
              "outlinewidth": 0,
              "ticks": ""
             }
            },
            "type": "scatterpolargl"
           }
          ],
          "scatterternary": [
           {
            "marker": {
             "colorbar": {
              "outlinewidth": 0,
              "ticks": ""
             }
            },
            "type": "scatterternary"
           }
          ],
          "surface": [
           {
            "colorbar": {
             "outlinewidth": 0,
             "ticks": ""
            },
            "colorscale": [
             [
              0,
              "#0d0887"
             ],
             [
              0.1111111111111111,
              "#46039f"
             ],
             [
              0.2222222222222222,
              "#7201a8"
             ],
             [
              0.3333333333333333,
              "#9c179e"
             ],
             [
              0.4444444444444444,
              "#bd3786"
             ],
             [
              0.5555555555555556,
              "#d8576b"
             ],
             [
              0.6666666666666666,
              "#ed7953"
             ],
             [
              0.7777777777777778,
              "#fb9f3a"
             ],
             [
              0.8888888888888888,
              "#fdca26"
             ],
             [
              1,
              "#f0f921"
             ]
            ],
            "type": "surface"
           }
          ],
          "table": [
           {
            "cells": {
             "fill": {
              "color": "#EBF0F8"
             },
             "line": {
              "color": "white"
             }
            },
            "header": {
             "fill": {
              "color": "#C8D4E3"
             },
             "line": {
              "color": "white"
             }
            },
            "type": "table"
           }
          ]
         },
         "layout": {
          "annotationdefaults": {
           "arrowcolor": "#2a3f5f",
           "arrowhead": 0,
           "arrowwidth": 1
          },
          "autotypenumbers": "strict",
          "coloraxis": {
           "colorbar": {
            "outlinewidth": 0,
            "ticks": ""
           }
          },
          "colorscale": {
           "diverging": [
            [
             0,
             "#8e0152"
            ],
            [
             0.1,
             "#c51b7d"
            ],
            [
             0.2,
             "#de77ae"
            ],
            [
             0.3,
             "#f1b6da"
            ],
            [
             0.4,
             "#fde0ef"
            ],
            [
             0.5,
             "#f7f7f7"
            ],
            [
             0.6,
             "#e6f5d0"
            ],
            [
             0.7,
             "#b8e186"
            ],
            [
             0.8,
             "#7fbc41"
            ],
            [
             0.9,
             "#4d9221"
            ],
            [
             1,
             "#276419"
            ]
           ],
           "sequential": [
            [
             0,
             "#0d0887"
            ],
            [
             0.1111111111111111,
             "#46039f"
            ],
            [
             0.2222222222222222,
             "#7201a8"
            ],
            [
             0.3333333333333333,
             "#9c179e"
            ],
            [
             0.4444444444444444,
             "#bd3786"
            ],
            [
             0.5555555555555556,
             "#d8576b"
            ],
            [
             0.6666666666666666,
             "#ed7953"
            ],
            [
             0.7777777777777778,
             "#fb9f3a"
            ],
            [
             0.8888888888888888,
             "#fdca26"
            ],
            [
             1,
             "#f0f921"
            ]
           ],
           "sequentialminus": [
            [
             0,
             "#0d0887"
            ],
            [
             0.1111111111111111,
             "#46039f"
            ],
            [
             0.2222222222222222,
             "#7201a8"
            ],
            [
             0.3333333333333333,
             "#9c179e"
            ],
            [
             0.4444444444444444,
             "#bd3786"
            ],
            [
             0.5555555555555556,
             "#d8576b"
            ],
            [
             0.6666666666666666,
             "#ed7953"
            ],
            [
             0.7777777777777778,
             "#fb9f3a"
            ],
            [
             0.8888888888888888,
             "#fdca26"
            ],
            [
             1,
             "#f0f921"
            ]
           ]
          },
          "colorway": [
           "#636efa",
           "#EF553B",
           "#00cc96",
           "#ab63fa",
           "#FFA15A",
           "#19d3f3",
           "#FF6692",
           "#B6E880",
           "#FF97FF",
           "#FECB52"
          ],
          "font": {
           "color": "#2a3f5f"
          },
          "geo": {
           "bgcolor": "white",
           "lakecolor": "white",
           "landcolor": "#E5ECF6",
           "showlakes": true,
           "showland": true,
           "subunitcolor": "white"
          },
          "hoverlabel": {
           "align": "left"
          },
          "hovermode": "closest",
          "mapbox": {
           "style": "light"
          },
          "paper_bgcolor": "white",
          "plot_bgcolor": "#E5ECF6",
          "polar": {
           "angularaxis": {
            "gridcolor": "white",
            "linecolor": "white",
            "ticks": ""
           },
           "bgcolor": "#E5ECF6",
           "radialaxis": {
            "gridcolor": "white",
            "linecolor": "white",
            "ticks": ""
           }
          },
          "scene": {
           "xaxis": {
            "backgroundcolor": "#E5ECF6",
            "gridcolor": "white",
            "gridwidth": 2,
            "linecolor": "white",
            "showbackground": true,
            "ticks": "",
            "zerolinecolor": "white"
           },
           "yaxis": {
            "backgroundcolor": "#E5ECF6",
            "gridcolor": "white",
            "gridwidth": 2,
            "linecolor": "white",
            "showbackground": true,
            "ticks": "",
            "zerolinecolor": "white"
           },
           "zaxis": {
            "backgroundcolor": "#E5ECF6",
            "gridcolor": "white",
            "gridwidth": 2,
            "linecolor": "white",
            "showbackground": true,
            "ticks": "",
            "zerolinecolor": "white"
           }
          },
          "shapedefaults": {
           "line": {
            "color": "#2a3f5f"
           }
          },
          "ternary": {
           "aaxis": {
            "gridcolor": "white",
            "linecolor": "white",
            "ticks": ""
           },
           "baxis": {
            "gridcolor": "white",
            "linecolor": "white",
            "ticks": ""
           },
           "bgcolor": "#E5ECF6",
           "caxis": {
            "gridcolor": "white",
            "linecolor": "white",
            "ticks": ""
           }
          },
          "title": {
           "x": 0.05
          },
          "xaxis": {
           "automargin": true,
           "gridcolor": "white",
           "linecolor": "white",
           "ticks": "",
           "title": {
            "standoff": 15
           },
           "zerolinecolor": "white",
           "zerolinewidth": 2
          },
          "yaxis": {
           "automargin": true,
           "gridcolor": "white",
           "linecolor": "white",
           "ticks": "",
           "title": {
            "standoff": 15
           },
           "zerolinecolor": "white",
           "zerolinewidth": 2
          }
         }
        },
        "title": {
         "text": "Models scores"
        },
        "yaxis": {
         "title": {
          "text": "r2_score"
         }
        }
       }
      }
     },
     "metadata": {},
     "output_type": "display_data"
    }
   ],
   "source": [
    "import plotly.graph_objects as go\n",
    "\n",
    "# Массивы данных\n",
    "x1 = np.linspace(0, N_stocks, N_stocks)\n",
    "y1 = [x[0] for x in scores_dict.values()]\n",
    "x2 = np.linspace(0, N_stocks, N_stocks)\n",
    "y2 = list(scores_dict_fama_french.values())\n",
    "x3 = np.linspace(0, N_stocks, N_stocks)\n",
    "y3 = list(scores_dict_rfeard_regression.values())\n",
    "x4 = np.linspace(0, N_stocks, N_stocks)\n",
    "y4 = list(scores_dict_lasso.values())\n",
    "labels = list(scores_dict_fama_french.keys())\n",
    "\n",
    "x5 = np.linspace(0, N_stocks, N_stocks)\n",
    "y5 = list(scores_dict_elastic_net.values())\n",
    "\n",
    "# Создание объектов линий\n",
    "line1 = go.Scatter(x=x1, y=y1, mode='lines+markers', name='Boosting')\n",
    "line2 = go.Scatter(x=x2, y=y2, mode='lines+markers', name='Fama-French')\n",
    "line3 = go.Scatter(x=x3, y=y3, mode='lines+markers', name='ARD Regression')\n",
    "line4 = go.Scatter(x=x4, y=y4, mode='lines+markers', name='Lasso')\n",
    "line5 = go.Scatter(x=x5, y=y5, mode='lines+markers', name='Elastic Net')\n",
    "\n",
    "# Создание объекта трассировки с подписями\n",
    "trace = go.Scatter(x=(x1 + x2 + x3 + x4 + x5) // 5, y=y1 + y2 + y3 + y4 + y5, text=labels,\n",
    "                   mode='text', textposition='top center', showlegend=False)\n",
    "\n",
    "# Создание фигуры и добавление трассировок\n",
    "fig = go.Figure(data=[line1, line2, line3, line4, line5, trace])\n",
    "\n",
    "# Настройка отображения графика\n",
    "fig.update_layout(title='Models scores',\n",
    "                  yaxis_title='r2_score',\n",
    "                  legend_title='Model')\n",
    "\n",
    "# Отображение графика\n",
    "fig.show()"
   ]
  },
  {
   "cell_type": "markdown",
   "metadata": {},
   "source": [
    "### Сгенерированный feature selection для нескольких оптимальных наборов параметров бустинга. \n",
    "\n",
    "Применяется для анализа инвариантности важности признаков."
   ]
  },
  {
   "cell_type": "code",
   "execution_count": null,
   "metadata": {},
   "outputs": [],
   "source": [
    "selected_features = list(X.columns)\n",
    "\n",
    "res = []\n",
    "\n",
    "for ticker, fi in top_features_dict.items():\n",
    "  mat = np.zeros((15, 50))\n",
    "  for i, f in enumerate(selected_features):\n",
    "    if f in fi:\n",
    "      mat[fi.index(f) - 1][i] += 1\n",
    "    \n",
    "  res.append(mat)\n",
    "\t"
   ]
  },
  {
   "cell_type": "code",
   "execution_count": null,
   "metadata": {},
   "outputs": [],
   "source": [
    "res_mat = np.zeros((15, 50))\n",
    "res_vector = []\n",
    "\n",
    "for mat in res:\n",
    "  res_mat += mat\n",
    "  \n",
    "# for row in res_mat:\n",
    "#   mx, mx_i = 0, 0\n",
    "#   for i in range(len(row)):\n",
    "#     if row[i] > mx:\n",
    "#       mx = row[i]\n",
    "#       mx_i = i\n",
    "#   res_vector.append([mx_i, mx])\n",
    "\n",
    "res_vector = np.zeros(50)\n",
    "\n",
    "for j in range(15):\n",
    "  for i in range(50):\n",
    "    res_vector[i] += res_mat[j][i]"
   ]
  },
  {
   "cell_type": "code",
   "execution_count": null,
   "metadata": {},
   "outputs": [
    {
     "data": {
      "image/png": "[encoded data removed]",
      "text/plain": [
       "<Figure size 1000x1200 with 1 Axes>"
      ]
     },
     "metadata": {},
     "output_type": "display_data"
    }
   ],
   "source": [
    "plot_feature_importance_custom(dict(zip(selected_features, res_vector)))"
   ]
  }
 ],
 "metadata": {
  "kernelspec": {
   "display_name": "env",
   "language": "python",
   "name": "python3"
  },
  "language_info": {
   "codemirror_mode": {
    "name": "ipython",
    "version": 3
   },
   "file_extension": ".py",
   "mimetype": "text/x-python",
   "name": "python",
   "nbconvert_exporter": "python",
   "pygments_lexer": "ipython3",
   "version": "3.11.7"
  }
 },
 "nbformat": 4,
 "nbformat_minor": 2
}
