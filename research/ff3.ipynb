{
 "cells": [
  {
   "cell_type": "code",
   "execution_count": 6,
   "metadata": {},
   "outputs": [],
   "source": [
    "import numpy as np\n",
    "import pandas as pd\n",
    "import matplotlib.pyplot as plt\n",
    "import seaborn as sns"
   ]
  },
  {
   "cell_type": "code",
   "execution_count": 7,
   "metadata": {},
   "outputs": [],
   "source": [
    "import scipy.stats as stats\n",
    "import statsmodels.api as sm\n",
    "from statsmodels.stats.outliers_influence import variance_inflation_factor"
   ]
  },
  {
   "cell_type": "markdown",
   "metadata": {},
   "source": [
    "Построим модели Фамы-Френча на S&P 500 stocks датасете."
   ]
  },
  {
   "cell_type": "markdown",
   "metadata": {},
   "source": [
    "### Датасет `sp500_companies.csv`"
   ]
  },
  {
   "cell_type": "markdown",
   "metadata": {},
   "source": [
    "Подробнее о колонках:\n",
    "\n",
    "- Currentprice - текущая рыночная стоимость акции компании. Это значение отражает текущую рыночную стоимость акций компании на бирже. Оно может варьироваться в зависимости от спроса и предложения на рынке, а также от финансовой деятельности компании.\n",
    "\n",
    "- Marketcap - рыночная стоимость компании. Это общая стоимость всех акций компании, умноженная на текущую рыночную стоимость одной акции. Рыночная стоимость компании является важным показателем, поскольку она отражает общее влияние компании на рынке.\n",
    "\n",
    "- Ebitda - прибыль до вычета процентов, налогов, амортизации и амортизации (Earnings Before Interest, Taxes, Depreciation, and Amortization). EBITDA представляет собой чистую прибыль компании до учета всех налогов и амортизации. Этот показатель часто используется для оценки финансового здоровья компании, поскольку он позволяет сравнивать прибыль компаний, работающих в разных отраслях и странах.\n",
    "\n",
    "- Revenuegrowth - рост доходов. Этот показатель отражает изменение доходов компании за определенный период времени. Показывает, насколько быстро растет доход компании, что может быть полезно для оценки ее роста и стабильности.\n",
    "Weight - вес акции в индексе. Этот показатель отражает долю рыночной стоимости акции в общей рыночной стоимости всех акций в индексе. Он помогает инвесторов понять, насколько значительным является вклад конкретной компании в индекс."
   ]
  },
  {
   "cell_type": "code",
   "execution_count": 8,
   "metadata": {},
   "outputs": [
    {
     "data": {
      "text/html": [
       "<div>\n",
       "<style scoped>\n",
       "    .dataframe tbody tr th:only-of-type {\n",
       "        vertical-align: middle;\n",
       "    }\n",
       "\n",
       "    .dataframe tbody tr th {\n",
       "        vertical-align: top;\n",
       "    }\n",
       "\n",
       "    .dataframe thead th {\n",
       "        text-align: right;\n",
       "    }\n",
       "</style>\n",
       "<table border=\"1\" class=\"dataframe\">\n",
       "  <thead>\n",
       "    <tr style=\"text-align: right;\">\n",
       "      <th></th>\n",
       "      <th>Exchange</th>\n",
       "      <th>Symbol</th>\n",
       "      <th>Shortname</th>\n",
       "      <th>Longname</th>\n",
       "      <th>Sector</th>\n",
       "      <th>Industry</th>\n",
       "      <th>Currentprice</th>\n",
       "      <th>Marketcap</th>\n",
       "      <th>Ebitda</th>\n",
       "      <th>Revenuegrowth</th>\n",
       "      <th>City</th>\n",
       "      <th>State</th>\n",
       "      <th>Country</th>\n",
       "      <th>Fulltimeemployees</th>\n",
       "      <th>Longbusinesssummary</th>\n",
       "      <th>Weight</th>\n",
       "    </tr>\n",
       "  </thead>\n",
       "  <tbody>\n",
       "    <tr>\n",
       "      <th>0</th>\n",
       "      <td>NMS</td>\n",
       "      <td>MSFT</td>\n",
       "      <td>Microsoft Corporation</td>\n",
       "      <td>Microsoft Corporation</td>\n",
       "      <td>Technology</td>\n",
       "      <td>Software - Infrastructure</td>\n",
       "      <td>410.54</td>\n",
       "      <td>3051260477440</td>\n",
       "      <td>1.251820e+11</td>\n",
       "      <td>0.170</td>\n",
       "      <td>Redmond</td>\n",
       "      <td>WA</td>\n",
       "      <td>United States</td>\n",
       "      <td>221000.0</td>\n",
       "      <td>Microsoft Corporation develops and supports so...</td>\n",
       "      <td>0.063024</td>\n",
       "    </tr>\n",
       "    <tr>\n",
       "      <th>1</th>\n",
       "      <td>NMS</td>\n",
       "      <td>AAPL</td>\n",
       "      <td>Apple Inc.</td>\n",
       "      <td>Apple Inc.</td>\n",
       "      <td>Technology</td>\n",
       "      <td>Consumer Electronics</td>\n",
       "      <td>182.74</td>\n",
       "      <td>2802153422848</td>\n",
       "      <td>1.296290e+11</td>\n",
       "      <td>-0.043</td>\n",
       "      <td>Cupertino</td>\n",
       "      <td>CA</td>\n",
       "      <td>United States</td>\n",
       "      <td>150000.0</td>\n",
       "      <td>Apple Inc. designs, manufactures, and markets ...</td>\n",
       "      <td>0.057879</td>\n",
       "    </tr>\n",
       "    <tr>\n",
       "      <th>2</th>\n",
       "      <td>NMS</td>\n",
       "      <td>NVDA</td>\n",
       "      <td>NVIDIA Corporation</td>\n",
       "      <td>NVIDIA Corporation</td>\n",
       "      <td>Technology</td>\n",
       "      <td>Semiconductors</td>\n",
       "      <td>904.12</td>\n",
       "      <td>2260299939840</td>\n",
       "      <td>3.448000e+10</td>\n",
       "      <td>2.653</td>\n",
       "      <td>Santa Clara</td>\n",
       "      <td>CA</td>\n",
       "      <td>United States</td>\n",
       "      <td>29600.0</td>\n",
       "      <td>NVIDIA Corporation provides graphics and compu...</td>\n",
       "      <td>0.046687</td>\n",
       "    </tr>\n",
       "    <tr>\n",
       "      <th>3</th>\n",
       "      <td>NMS</td>\n",
       "      <td>GOOG</td>\n",
       "      <td>Alphabet Inc.</td>\n",
       "      <td>Alphabet Inc.</td>\n",
       "      <td>Communication Services</td>\n",
       "      <td>Internet Content &amp; Information</td>\n",
       "      <td>171.16</td>\n",
       "      <td>2103659069440</td>\n",
       "      <td>1.097230e+11</td>\n",
       "      <td>0.154</td>\n",
       "      <td>Mountain View</td>\n",
       "      <td>CA</td>\n",
       "      <td>United States</td>\n",
       "      <td>180895.0</td>\n",
       "      <td>Alphabet Inc. offers various products and plat...</td>\n",
       "      <td>0.043451</td>\n",
       "    </tr>\n",
       "    <tr>\n",
       "      <th>4</th>\n",
       "      <td>NMS</td>\n",
       "      <td>GOOGL</td>\n",
       "      <td>Alphabet Inc.</td>\n",
       "      <td>Alphabet Inc.</td>\n",
       "      <td>Communication Services</td>\n",
       "      <td>Internet Content &amp; Information</td>\n",
       "      <td>169.38</td>\n",
       "      <td>2102801858560</td>\n",
       "      <td>1.097230e+11</td>\n",
       "      <td>0.154</td>\n",
       "      <td>Mountain View</td>\n",
       "      <td>CA</td>\n",
       "      <td>United States</td>\n",
       "      <td>180895.0</td>\n",
       "      <td>Alphabet Inc. offers various products and plat...</td>\n",
       "      <td>0.043434</td>\n",
       "    </tr>\n",
       "  </tbody>\n",
       "</table>\n",
       "</div>"
      ],
      "text/plain": [
       "  Exchange Symbol              Shortname               Longname  \\\n",
       "0      NMS   MSFT  Microsoft Corporation  Microsoft Corporation   \n",
       "1      NMS   AAPL             Apple Inc.             Apple Inc.   \n",
       "2      NMS   NVDA     NVIDIA Corporation     NVIDIA Corporation   \n",
       "3      NMS   GOOG          Alphabet Inc.          Alphabet Inc.   \n",
       "4      NMS  GOOGL          Alphabet Inc.          Alphabet Inc.   \n",
       "\n",
       "                   Sector                        Industry  Currentprice  \\\n",
       "0              Technology       Software - Infrastructure        410.54   \n",
       "1              Technology            Consumer Electronics        182.74   \n",
       "2              Technology                  Semiconductors        904.12   \n",
       "3  Communication Services  Internet Content & Information        171.16   \n",
       "4  Communication Services  Internet Content & Information        169.38   \n",
       "\n",
       "       Marketcap        Ebitda  Revenuegrowth           City State  \\\n",
       "0  3051260477440  1.251820e+11          0.170        Redmond    WA   \n",
       "1  2802153422848  1.296290e+11         -0.043      Cupertino    CA   \n",
       "2  2260299939840  3.448000e+10          2.653    Santa Clara    CA   \n",
       "3  2103659069440  1.097230e+11          0.154  Mountain View    CA   \n",
       "4  2102801858560  1.097230e+11          0.154  Mountain View    CA   \n",
       "\n",
       "         Country  Fulltimeemployees  \\\n",
       "0  United States           221000.0   \n",
       "1  United States           150000.0   \n",
       "2  United States            29600.0   \n",
       "3  United States           180895.0   \n",
       "4  United States           180895.0   \n",
       "\n",
       "                                 Longbusinesssummary    Weight  \n",
       "0  Microsoft Corporation develops and supports so...  0.063024  \n",
       "1  Apple Inc. designs, manufactures, and markets ...  0.057879  \n",
       "2  NVIDIA Corporation provides graphics and compu...  0.046687  \n",
       "3  Alphabet Inc. offers various products and plat...  0.043451  \n",
       "4  Alphabet Inc. offers various products and plat...  0.043434  "
      ]
     },
     "execution_count": 8,
     "metadata": {},
     "output_type": "execute_result"
    }
   ],
   "source": [
    "companies_df = pd.read_csv('../data/market_data/sp500/sp500_companies.csv')\n",
    "companies_df.head()"
   ]
  },
  {
   "cell_type": "markdown",
   "metadata": {},
   "source": [
    "### Датасет `sp500_index.csv`"
   ]
  },
  {
   "cell_type": "code",
   "execution_count": 9,
   "metadata": {},
   "outputs": [
    {
     "data": {
      "text/html": [
       "<div>\n",
       "<style scoped>\n",
       "    .dataframe tbody tr th:only-of-type {\n",
       "        vertical-align: middle;\n",
       "    }\n",
       "\n",
       "    .dataframe tbody tr th {\n",
       "        vertical-align: top;\n",
       "    }\n",
       "\n",
       "    .dataframe thead th {\n",
       "        text-align: right;\n",
       "    }\n",
       "</style>\n",
       "<table border=\"1\" class=\"dataframe\">\n",
       "  <thead>\n",
       "    <tr style=\"text-align: right;\">\n",
       "      <th></th>\n",
       "      <th>S&amp;P500</th>\n",
       "    </tr>\n",
       "    <tr>\n",
       "      <th>Date</th>\n",
       "      <th></th>\n",
       "    </tr>\n",
       "  </thead>\n",
       "  <tbody>\n",
       "    <tr>\n",
       "      <th>2014-04-30</th>\n",
       "      <td>1883.95</td>\n",
       "    </tr>\n",
       "    <tr>\n",
       "      <th>2014-05-01</th>\n",
       "      <td>1883.68</td>\n",
       "    </tr>\n",
       "    <tr>\n",
       "      <th>2014-05-02</th>\n",
       "      <td>1881.14</td>\n",
       "    </tr>\n",
       "    <tr>\n",
       "      <th>2014-05-05</th>\n",
       "      <td>1884.66</td>\n",
       "    </tr>\n",
       "    <tr>\n",
       "      <th>2014-05-06</th>\n",
       "      <td>1867.72</td>\n",
       "    </tr>\n",
       "  </tbody>\n",
       "</table>\n",
       "</div>"
      ],
      "text/plain": [
       "             S&P500\n",
       "Date               \n",
       "2014-04-30  1883.95\n",
       "2014-05-01  1883.68\n",
       "2014-05-02  1881.14\n",
       "2014-05-05  1884.66\n",
       "2014-05-06  1867.72"
      ]
     },
     "execution_count": 9,
     "metadata": {},
     "output_type": "execute_result"
    }
   ],
   "source": [
    "index_df = pd.read_csv(\n",
    "    '../data/market_data/sp500/sp500_index.csv').set_index('Date')\n",
    "index_df.head()"
   ]
  },
  {
   "cell_type": "markdown",
   "metadata": {},
   "source": [
    "### Датасет `sp500_stocks.csv`"
   ]
  },
  {
   "cell_type": "code",
   "execution_count": 10,
   "metadata": {},
   "outputs": [
    {
     "data": {
      "text/html": [
       "<div>\n",
       "<style scoped>\n",
       "    .dataframe tbody tr th:only-of-type {\n",
       "        vertical-align: middle;\n",
       "    }\n",
       "\n",
       "    .dataframe tbody tr th {\n",
       "        vertical-align: top;\n",
       "    }\n",
       "\n",
       "    .dataframe thead th {\n",
       "        text-align: right;\n",
       "    }\n",
       "</style>\n",
       "<table border=\"1\" class=\"dataframe\">\n",
       "  <thead>\n",
       "    <tr style=\"text-align: right;\">\n",
       "      <th></th>\n",
       "      <th>Date</th>\n",
       "      <th>Symbol</th>\n",
       "      <th>Adj Close</th>\n",
       "      <th>Close</th>\n",
       "      <th>High</th>\n",
       "      <th>Low</th>\n",
       "      <th>Open</th>\n",
       "      <th>Volume</th>\n",
       "    </tr>\n",
       "  </thead>\n",
       "  <tbody>\n",
       "    <tr>\n",
       "      <th>0</th>\n",
       "      <td>2010-01-04</td>\n",
       "      <td>MMM</td>\n",
       "      <td>40.835037</td>\n",
       "      <td>69.414719</td>\n",
       "      <td>69.774246</td>\n",
       "      <td>69.122070</td>\n",
       "      <td>69.473244</td>\n",
       "      <td>3640265.0</td>\n",
       "    </tr>\n",
       "    <tr>\n",
       "      <th>1</th>\n",
       "      <td>2010-01-05</td>\n",
       "      <td>MMM</td>\n",
       "      <td>40.579262</td>\n",
       "      <td>68.979935</td>\n",
       "      <td>69.590302</td>\n",
       "      <td>68.311035</td>\n",
       "      <td>69.230766</td>\n",
       "      <td>3405012.0</td>\n",
       "    </tr>\n",
       "    <tr>\n",
       "      <th>2</th>\n",
       "      <td>2010-01-06</td>\n",
       "      <td>MMM</td>\n",
       "      <td>41.154751</td>\n",
       "      <td>69.958191</td>\n",
       "      <td>70.735786</td>\n",
       "      <td>69.824417</td>\n",
       "      <td>70.133781</td>\n",
       "      <td>6301126.0</td>\n",
       "    </tr>\n",
       "    <tr>\n",
       "      <th>3</th>\n",
       "      <td>2010-01-07</td>\n",
       "      <td>MMM</td>\n",
       "      <td>41.184265</td>\n",
       "      <td>70.008362</td>\n",
       "      <td>70.033447</td>\n",
       "      <td>68.662209</td>\n",
       "      <td>69.665550</td>\n",
       "      <td>5346240.0</td>\n",
       "    </tr>\n",
       "    <tr>\n",
       "      <th>4</th>\n",
       "      <td>2010-01-08</td>\n",
       "      <td>MMM</td>\n",
       "      <td>41.474476</td>\n",
       "      <td>70.501671</td>\n",
       "      <td>70.501671</td>\n",
       "      <td>69.648827</td>\n",
       "      <td>69.974915</td>\n",
       "      <td>4073337.0</td>\n",
       "    </tr>\n",
       "  </tbody>\n",
       "</table>\n",
       "</div>"
      ],
      "text/plain": [
       "         Date Symbol  Adj Close      Close       High        Low       Open  \\\n",
       "0  2010-01-04    MMM  40.835037  69.414719  69.774246  69.122070  69.473244   \n",
       "1  2010-01-05    MMM  40.579262  68.979935  69.590302  68.311035  69.230766   \n",
       "2  2010-01-06    MMM  41.154751  69.958191  70.735786  69.824417  70.133781   \n",
       "3  2010-01-07    MMM  41.184265  70.008362  70.033447  68.662209  69.665550   \n",
       "4  2010-01-08    MMM  41.474476  70.501671  70.501671  69.648827  69.974915   \n",
       "\n",
       "      Volume  \n",
       "0  3640265.0  \n",
       "1  3405012.0  \n",
       "2  6301126.0  \n",
       "3  5346240.0  \n",
       "4  4073337.0  "
      ]
     },
     "execution_count": 10,
     "metadata": {},
     "output_type": "execute_result"
    }
   ],
   "source": [
    "stocks_df = pd.read_csv('../data/market_data/sp500/sp500_stocks.csv')\n",
    "stocks_df.head()"
   ]
  },
  {
   "cell_type": "code",
   "execution_count": 11,
   "metadata": {},
   "outputs": [
    {
     "data": {
      "text/html": [
       "<div>\n",
       "<style scoped>\n",
       "    .dataframe tbody tr th:only-of-type {\n",
       "        vertical-align: middle;\n",
       "    }\n",
       "\n",
       "    .dataframe tbody tr th {\n",
       "        vertical-align: top;\n",
       "    }\n",
       "\n",
       "    .dataframe thead th {\n",
       "        text-align: right;\n",
       "    }\n",
       "</style>\n",
       "<table border=\"1\" class=\"dataframe\">\n",
       "  <thead>\n",
       "    <tr style=\"text-align: right;\">\n",
       "      <th>Symbol</th>\n",
       "      <th>A</th>\n",
       "      <th>AAL</th>\n",
       "      <th>AAPL</th>\n",
       "      <th>ABBV</th>\n",
       "      <th>ABNB</th>\n",
       "      <th>ABT</th>\n",
       "      <th>ACGL</th>\n",
       "      <th>ACN</th>\n",
       "      <th>ADBE</th>\n",
       "      <th>ADI</th>\n",
       "      <th>...</th>\n",
       "      <th>WTW</th>\n",
       "      <th>WY</th>\n",
       "      <th>WYNN</th>\n",
       "      <th>XEL</th>\n",
       "      <th>XOM</th>\n",
       "      <th>XYL</th>\n",
       "      <th>YUM</th>\n",
       "      <th>ZBH</th>\n",
       "      <th>ZBRA</th>\n",
       "      <th>ZTS</th>\n",
       "    </tr>\n",
       "    <tr>\n",
       "      <th>Date</th>\n",
       "      <th></th>\n",
       "      <th></th>\n",
       "      <th></th>\n",
       "      <th></th>\n",
       "      <th></th>\n",
       "      <th></th>\n",
       "      <th></th>\n",
       "      <th></th>\n",
       "      <th></th>\n",
       "      <th></th>\n",
       "      <th></th>\n",
       "      <th></th>\n",
       "      <th></th>\n",
       "      <th></th>\n",
       "      <th></th>\n",
       "      <th></th>\n",
       "      <th></th>\n",
       "      <th></th>\n",
       "      <th></th>\n",
       "      <th></th>\n",
       "      <th></th>\n",
       "    </tr>\n",
       "  </thead>\n",
       "  <tbody>\n",
       "    <tr>\n",
       "      <th>2010-01-04</th>\n",
       "      <td>20.122227</td>\n",
       "      <td>4.496877</td>\n",
       "      <td>6.470741</td>\n",
       "      <td>NaN</td>\n",
       "      <td>NaN</td>\n",
       "      <td>18.952162</td>\n",
       "      <td>7.994444</td>\n",
       "      <td>32.212460</td>\n",
       "      <td>37.090000</td>\n",
       "      <td>23.694084</td>\n",
       "      <td>...</td>\n",
       "      <td>52.883579</td>\n",
       "      <td>9.905468</td>\n",
       "      <td>41.963718</td>\n",
       "      <td>12.918809</td>\n",
       "      <td>43.185623</td>\n",
       "      <td>NaN</td>\n",
       "      <td>19.158102</td>\n",
       "      <td>52.587051</td>\n",
       "      <td>28.670000</td>\n",
       "      <td>NaN</td>\n",
       "    </tr>\n",
       "    <tr>\n",
       "      <th>2010-01-05</th>\n",
       "      <td>19.903643</td>\n",
       "      <td>5.005957</td>\n",
       "      <td>6.481929</td>\n",
       "      <td>NaN</td>\n",
       "      <td>NaN</td>\n",
       "      <td>18.799042</td>\n",
       "      <td>7.967778</td>\n",
       "      <td>32.411549</td>\n",
       "      <td>37.700001</td>\n",
       "      <td>23.656675</td>\n",
       "      <td>...</td>\n",
       "      <td>52.765053</td>\n",
       "      <td>10.115747</td>\n",
       "      <td>44.515926</td>\n",
       "      <td>12.765595</td>\n",
       "      <td>43.354244</td>\n",
       "      <td>NaN</td>\n",
       "      <td>19.092571</td>\n",
       "      <td>54.251759</td>\n",
       "      <td>28.620001</td>\n",
       "      <td>NaN</td>\n",
       "    </tr>\n",
       "    <tr>\n",
       "      <th>2010-01-06</th>\n",
       "      <td>19.832930</td>\n",
       "      <td>4.798554</td>\n",
       "      <td>6.378825</td>\n",
       "      <td>NaN</td>\n",
       "      <td>NaN</td>\n",
       "      <td>18.903446</td>\n",
       "      <td>7.933333</td>\n",
       "      <td>32.756096</td>\n",
       "      <td>37.619999</td>\n",
       "      <td>23.611784</td>\n",
       "      <td>...</td>\n",
       "      <td>53.614498</td>\n",
       "      <td>10.003899</td>\n",
       "      <td>43.932011</td>\n",
       "      <td>12.790110</td>\n",
       "      <td>43.728970</td>\n",
       "      <td>NaN</td>\n",
       "      <td>18.956089</td>\n",
       "      <td>54.234219</td>\n",
       "      <td>28.400000</td>\n",
       "      <td>NaN</td>\n",
       "    </tr>\n",
       "    <tr>\n",
       "      <th>2010-01-07</th>\n",
       "      <td>19.807215</td>\n",
       "      <td>4.939964</td>\n",
       "      <td>6.367033</td>\n",
       "      <td>NaN</td>\n",
       "      <td>NaN</td>\n",
       "      <td>19.060045</td>\n",
       "      <td>7.886667</td>\n",
       "      <td>32.725471</td>\n",
       "      <td>36.889999</td>\n",
       "      <td>23.424749</td>\n",
       "      <td>...</td>\n",
       "      <td>53.456463</td>\n",
       "      <td>9.959157</td>\n",
       "      <td>44.870213</td>\n",
       "      <td>12.734954</td>\n",
       "      <td>43.591564</td>\n",
       "      <td>NaN</td>\n",
       "      <td>18.950626</td>\n",
       "      <td>55.478374</td>\n",
       "      <td>27.690001</td>\n",
       "      <td>NaN</td>\n",
       "    </tr>\n",
       "    <tr>\n",
       "      <th>2010-01-08</th>\n",
       "      <td>19.800785</td>\n",
       "      <td>4.845691</td>\n",
       "      <td>6.409364</td>\n",
       "      <td>NaN</td>\n",
       "      <td>NaN</td>\n",
       "      <td>19.157482</td>\n",
       "      <td>7.871111</td>\n",
       "      <td>32.595306</td>\n",
       "      <td>36.689999</td>\n",
       "      <td>23.559416</td>\n",
       "      <td>...</td>\n",
       "      <td>53.397202</td>\n",
       "      <td>9.867439</td>\n",
       "      <td>44.548744</td>\n",
       "      <td>12.741086</td>\n",
       "      <td>43.416687</td>\n",
       "      <td>NaN</td>\n",
       "      <td>18.956089</td>\n",
       "      <td>54.313072</td>\n",
       "      <td>27.600000</td>\n",
       "      <td>NaN</td>\n",
       "    </tr>\n",
       "  </tbody>\n",
       "</table>\n",
       "<p>5 rows × 503 columns</p>\n",
       "</div>"
      ],
      "text/plain": [
       "Symbol              A       AAL      AAPL  ABBV  ABNB        ABT      ACGL  \\\n",
       "Date                                                                         \n",
       "2010-01-04  20.122227  4.496877  6.470741   NaN   NaN  18.952162  7.994444   \n",
       "2010-01-05  19.903643  5.005957  6.481929   NaN   NaN  18.799042  7.967778   \n",
       "2010-01-06  19.832930  4.798554  6.378825   NaN   NaN  18.903446  7.933333   \n",
       "2010-01-07  19.807215  4.939964  6.367033   NaN   NaN  19.060045  7.886667   \n",
       "2010-01-08  19.800785  4.845691  6.409364   NaN   NaN  19.157482  7.871111   \n",
       "\n",
       "Symbol            ACN       ADBE        ADI  ...        WTW         WY  \\\n",
       "Date                                         ...                         \n",
       "2010-01-04  32.212460  37.090000  23.694084  ...  52.883579   9.905468   \n",
       "2010-01-05  32.411549  37.700001  23.656675  ...  52.765053  10.115747   \n",
       "2010-01-06  32.756096  37.619999  23.611784  ...  53.614498  10.003899   \n",
       "2010-01-07  32.725471  36.889999  23.424749  ...  53.456463   9.959157   \n",
       "2010-01-08  32.595306  36.689999  23.559416  ...  53.397202   9.867439   \n",
       "\n",
       "Symbol           WYNN        XEL        XOM  XYL        YUM        ZBH  \\\n",
       "Date                                                                     \n",
       "2010-01-04  41.963718  12.918809  43.185623  NaN  19.158102  52.587051   \n",
       "2010-01-05  44.515926  12.765595  43.354244  NaN  19.092571  54.251759   \n",
       "2010-01-06  43.932011  12.790110  43.728970  NaN  18.956089  54.234219   \n",
       "2010-01-07  44.870213  12.734954  43.591564  NaN  18.950626  55.478374   \n",
       "2010-01-08  44.548744  12.741086  43.416687  NaN  18.956089  54.313072   \n",
       "\n",
       "Symbol           ZBRA  ZTS  \n",
       "Date                        \n",
       "2010-01-04  28.670000  NaN  \n",
       "2010-01-05  28.620001  NaN  \n",
       "2010-01-06  28.400000  NaN  \n",
       "2010-01-07  27.690001  NaN  \n",
       "2010-01-08  27.600000  NaN  \n",
       "\n",
       "[5 rows x 503 columns]"
      ]
     },
     "execution_count": 11,
     "metadata": {},
     "output_type": "execute_result"
    }
   ],
   "source": [
    "# свернем таблицу для простоты использования\n",
    "\n",
    "pivoted_stocks_df = stocks_df.pivot(\n",
    "    index='Date', columns='Symbol', values='Adj Close')\n",
    "\n",
    "pivoted_stocks_df.head()"
   ]
  },
  {
   "cell_type": "markdown",
   "metadata": {},
   "source": [
    "## Про модель"
   ]
  },
  {
   "cell_type": "markdown",
   "metadata": {},
   "source": [
    "#### Модель CAMP"
   ]
  },
  {
   "cell_type": "markdown",
   "metadata": {},
   "source": [
    "$E(R_p) - RF = \\beta_p (E(R_M) - RF)$"
   ]
  },
  {
   "cell_type": "markdown",
   "metadata": {},
   "source": [
    "#### Модель Фамы Френча"
   ]
  },
  {
   "cell_type": "markdown",
   "metadata": {},
   "source": [
    "$r = \\alpha + r_f + \\beta (r_m - r_f) + \\gamma \\cdot SMB + \\phi \\cdot HML + \\xi_i$"
   ]
  },
  {
   "cell_type": "markdown",
   "metadata": {},
   "source": [
    "$r - r_f = \\alpha + \\beta (r_m - r_f) + \\gamma \\cdot SMB + \\phi \\cdot HML + \\xi_i$"
   ]
  },
  {
   "cell_type": "markdown",
   "metadata": {},
   "source": [
    "## HML и SMB\n",
    "\n",
    "Найдем HML и SMB для трехфакторной модели Фамы-Френча. "
   ]
  },
  {
   "cell_type": "markdown",
   "metadata": {},
   "source": [
    "Трехфакторная модель Фамы-Френча использует эти данные для расчета следующих фичей:\n",
    "\n",
    "Моментум (Momentum): Изменение цены закрытия по сравнению с предыдущим днем.\n",
    "Тренд (Trend): Изменение цены закрытия по сравнению с ценой открытия.\n",
    "Торговый объем (Volume): Изменение объема торгов по сравнению с предыдущим днем.\n",
    "Для расчета этих фичей, вы можете использовать следующие формулы:\n",
    "\n",
    "- Моментум: Momentum = Close[t] - Close[t-1]\n",
    "- Тренд: Trend = Close[t] - Open[t]\n",
    "- Торговый объем: Volume = Volume[t] - Volume[t-1], где t обозначает текущий день, а t-1 - предыдущий день.\n",
    "\n",
    "Пример расчета для первого дня данных:\n",
    "\n",
    "Моментум: Momentum = 69.473244 - 69.414719 = 0.058525\n",
    "Тренд: Trend = 69.473244 - 69.122070 = 0.351174\n",
    "Торговый объем: Volume = 3640265.0 - 0 (поскольку это первый день) = 3640265.0"
   ]
  },
  {
   "cell_type": "markdown",
   "metadata": {},
   "source": [
    "$HML_t = \\frac{r_t (SV_t ) - r_t (SG_t )}{2} + \\frac{r_t (BV_t ) - r_t (BG_t )}{2}$"
   ]
  },
  {
   "cell_type": "markdown",
   "metadata": {},
   "source": [
    "$SMB_t = \\frac{r_t (SG_t ) - r_t (BG_t )}{3} + \\frac{r_t (SN_t )-r_t (BN_t )}{3} + \\frac{r_t (SV_t )-r_t (BV_t )}{3}$"
   ]
  },
  {
   "cell_type": "markdown",
   "metadata": {},
   "source": [
    "Ссылка на источник, как считать: https://mba.tuck.dartmouth.edu/pages/faculty/ken.french/Data_Library/f-f_factors.html"
   ]
  },
  {
   "cell_type": "markdown",
   "metadata": {},
   "source": [
    "Чтобы рассчитать P/B (Price to Book) ratio для компаний, представленных в вашем списке, нам нужно знать два ключевых показателя: текущую рыночную стоимость (Market Cap) и бухгалтерскую стоимость активов (Book Value). В списке указаны текущие рыночные стоимости (Market Cap), но бухгалтерская стоимость активов не представлена напрямую. Однако, мы можем использовать EBITDA (Earnings Before Interest, Taxes, Depreciation, and Amortization) как приближение к бухгалтерской стоимости активов, так как EBITDA представляет собой чистую прибыль компании до учета процентов, налогов, амортизации и амортизации.\n",
    "\n",
    "P/B ratio рассчитывается по формуле:\n",
    "\n",
    "$\\text{P/B Ratio} = \\frac{\\text{Market Cap}}{\\text{Book Value}}$\n",
    "\n",
    "Мы можем использовать EBITDA как приближение к Book Value, так как EBITDA является частью бухгалтерской стоимости активов.\n",
    "\n",
    "$\\Rightarrow \\text{P/B Ratio} = \\frac{\\text{Market Cap}}{\\text{Ebitda}}$"
   ]
  },
  {
   "cell_type": "code",
   "execution_count": 12,
   "metadata": {},
   "outputs": [],
   "source": [
    "companies_df['pb_ratio'] = companies_df['Marketcap'] / companies_df['Ebitda']"
   ]
  },
  {
   "cell_type": "code",
   "execution_count": 13,
   "metadata": {},
   "outputs": [
    {
     "data": {
      "text/html": [
       "<div>\n",
       "<style scoped>\n",
       "    .dataframe tbody tr th:only-of-type {\n",
       "        vertical-align: middle;\n",
       "    }\n",
       "\n",
       "    .dataframe tbody tr th {\n",
       "        vertical-align: top;\n",
       "    }\n",
       "\n",
       "    .dataframe thead th {\n",
       "        text-align: right;\n",
       "    }\n",
       "</style>\n",
       "<table border=\"1\" class=\"dataframe\">\n",
       "  <thead>\n",
       "    <tr style=\"text-align: right;\">\n",
       "      <th></th>\n",
       "      <th>Symbol</th>\n",
       "      <th>size</th>\n",
       "      <th>value</th>\n",
       "    </tr>\n",
       "  </thead>\n",
       "  <tbody>\n",
       "    <tr>\n",
       "      <th>0</th>\n",
       "      <td>MSFT</td>\n",
       "      <td>big</td>\n",
       "      <td>high</td>\n",
       "    </tr>\n",
       "    <tr>\n",
       "      <th>1</th>\n",
       "      <td>AAPL</td>\n",
       "      <td>big</td>\n",
       "      <td>high</td>\n",
       "    </tr>\n",
       "    <tr>\n",
       "      <th>2</th>\n",
       "      <td>NVDA</td>\n",
       "      <td>big</td>\n",
       "      <td>high</td>\n",
       "    </tr>\n",
       "    <tr>\n",
       "      <th>3</th>\n",
       "      <td>GOOG</td>\n",
       "      <td>big</td>\n",
       "      <td>mid</td>\n",
       "    </tr>\n",
       "    <tr>\n",
       "      <th>4</th>\n",
       "      <td>GOOGL</td>\n",
       "      <td>big</td>\n",
       "      <td>mid</td>\n",
       "    </tr>\n",
       "    <tr>\n",
       "      <th>5</th>\n",
       "      <td>AMZN</td>\n",
       "      <td>big</td>\n",
       "      <td>mid</td>\n",
       "    </tr>\n",
       "    <tr>\n",
       "      <th>6</th>\n",
       "      <td>META</td>\n",
       "      <td>big</td>\n",
       "      <td>mid</td>\n",
       "    </tr>\n",
       "    <tr>\n",
       "      <th>7</th>\n",
       "      <td>BRK-B</td>\n",
       "      <td>big</td>\n",
       "      <td>mid</td>\n",
       "    </tr>\n",
       "    <tr>\n",
       "      <th>8</th>\n",
       "      <td>LLY</td>\n",
       "      <td>big</td>\n",
       "      <td>high</td>\n",
       "    </tr>\n",
       "    <tr>\n",
       "      <th>9</th>\n",
       "      <td>AVGO</td>\n",
       "      <td>big</td>\n",
       "      <td>high</td>\n",
       "    </tr>\n",
       "  </tbody>\n",
       "</table>\n",
       "</div>"
      ],
      "text/plain": [
       "  Symbol size value\n",
       "0   MSFT  big  high\n",
       "1   AAPL  big  high\n",
       "2   NVDA  big  high\n",
       "3   GOOG  big   mid\n",
       "4  GOOGL  big   mid\n",
       "5   AMZN  big   mid\n",
       "6   META  big   mid\n",
       "7  BRK-B  big   mid\n",
       "8    LLY  big  high\n",
       "9   AVGO  big  high"
      ]
     },
     "execution_count": 13,
     "metadata": {},
     "output_type": "execute_result"
    }
   ],
   "source": [
    "category_threshold = 0.20  # Sets the Lower and Upper percentile cut-off.\n",
    "cats = pd.DataFrame(companies_df['Symbol'])  # creates a category dataframe\n",
    "\n",
    "# pb_ratio = market_cap / assets_book_value\n",
    "\n",
    "for i in range(len(companies_df)):  # for each stock\n",
    "    # Categorizes stocks as Small, Mid, and Big Market Capitalization\n",
    "    if companies_df.iloc[i, :]['Marketcap'] < companies_df['Marketcap'].quantile(category_threshold):\n",
    "        cats.at[i, 'size'] = 'small'\n",
    "    elif companies_df.iloc[i, :]['Marketcap'] > companies_df['Marketcap'].quantile(1-category_threshold):\n",
    "        cats.at[i, 'size'] = 'big'\n",
    "    else:\n",
    "        cats.at[i, 'size'] = 'mid'\n",
    "\n",
    "    # Categorizes stocks as Low, Mid, and High Book-to-Market Ratio\n",
    "    if companies_df.iloc[i, :]['pb_ratio'] < companies_df.pb_ratio.quantile(category_threshold):\n",
    "        cats.at[i, 'value'] = 'low'\n",
    "    elif companies_df.iloc[i, :]['pb_ratio'] > companies_df.pb_ratio.quantile(1-category_threshold):\n",
    "        cats.at[i, 'value'] = 'high'\n",
    "    else:\n",
    "        cats.at[i, 'value'] = 'mid'\n",
    "cats.head(10)  # so viewers can have a look"
   ]
  },
  {
   "cell_type": "code",
   "execution_count": 14,
   "metadata": {},
   "outputs": [
    {
     "data": {
      "text/html": [
       "<div>\n",
       "<style scoped>\n",
       "    .dataframe tbody tr th:only-of-type {\n",
       "        vertical-align: middle;\n",
       "    }\n",
       "\n",
       "    .dataframe tbody tr th {\n",
       "        vertical-align: top;\n",
       "    }\n",
       "\n",
       "    .dataframe thead th {\n",
       "        text-align: right;\n",
       "    }\n",
       "</style>\n",
       "<table border=\"1\" class=\"dataframe\">\n",
       "  <thead>\n",
       "    <tr style=\"text-align: right;\">\n",
       "      <th></th>\n",
       "      <th>SMB</th>\n",
       "      <th>HML</th>\n",
       "    </tr>\n",
       "    <tr>\n",
       "      <th>Date</th>\n",
       "      <th></th>\n",
       "      <th></th>\n",
       "    </tr>\n",
       "  </thead>\n",
       "  <tbody>\n",
       "    <tr>\n",
       "      <th>2010-01-04</th>\n",
       "      <td>-0.004178</td>\n",
       "      <td>0.007728</td>\n",
       "    </tr>\n",
       "    <tr>\n",
       "      <th>2010-01-05</th>\n",
       "      <td>-0.002665</td>\n",
       "      <td>-0.002293</td>\n",
       "    </tr>\n",
       "    <tr>\n",
       "      <th>2010-01-06</th>\n",
       "      <td>-0.002461</td>\n",
       "      <td>0.000388</td>\n",
       "    </tr>\n",
       "    <tr>\n",
       "      <th>2010-01-07</th>\n",
       "      <td>0.001203</td>\n",
       "      <td>-0.005240</td>\n",
       "    </tr>\n",
       "    <tr>\n",
       "      <th>2010-01-08</th>\n",
       "      <td>-0.001615</td>\n",
       "      <td>-0.000257</td>\n",
       "    </tr>\n",
       "    <tr>\n",
       "      <th>2010-01-11</th>\n",
       "      <td>-0.004067</td>\n",
       "      <td>0.003158</td>\n",
       "    </tr>\n",
       "    <tr>\n",
       "      <th>2010-01-12</th>\n",
       "      <td>-0.005248</td>\n",
       "      <td>-0.002119</td>\n",
       "    </tr>\n",
       "    <tr>\n",
       "      <th>2010-01-13</th>\n",
       "      <td>-0.000223</td>\n",
       "      <td>-0.000412</td>\n",
       "    </tr>\n",
       "    <tr>\n",
       "      <th>2010-01-14</th>\n",
       "      <td>0.000145</td>\n",
       "      <td>0.004696</td>\n",
       "    </tr>\n",
       "    <tr>\n",
       "      <th>2010-01-15</th>\n",
       "      <td>0.000093</td>\n",
       "      <td>-0.001617</td>\n",
       "    </tr>\n",
       "  </tbody>\n",
       "</table>\n",
       "</div>"
      ],
      "text/plain": [
       "                 SMB       HML\n",
       "Date                          \n",
       "2010-01-04 -0.004178  0.007728\n",
       "2010-01-05 -0.002665 -0.002293\n",
       "2010-01-06 -0.002461  0.000388\n",
       "2010-01-07  0.001203 -0.005240\n",
       "2010-01-08 -0.001615 -0.000257\n",
       "2010-01-11 -0.004067  0.003158\n",
       "2010-01-12 -0.005248 -0.002119\n",
       "2010-01-13 -0.000223 -0.000412\n",
       "2010-01-14  0.000145  0.004696\n",
       "2010-01-15  0.000093 -0.001617"
      ]
     },
     "execution_count": 14,
     "metadata": {},
     "output_type": "execute_result"
    }
   ],
   "source": [
    "# compute the SMB returns\n",
    "small = pivoted_stocks_df[cats[cats['size'] == 'small']\n",
    "               ['Symbol']].pct_change(-1).mean(axis=1)\n",
    "big = pivoted_stocks_df[cats[cats['size'] == 'big']\n",
    "                        ['Symbol']].pct_change(-1).mean(axis=1)\n",
    "# calculates the difference in the small returns and big returns\n",
    "SMB = pd.DataFrame(small-big, columns=['SMB'])\n",
    "\n",
    "# compute the HML returns\n",
    "low = pivoted_stocks_df[cats[cats['value'] == 'low']\n",
    "             ['Symbol']].pct_change(-1).mean(axis=1)\n",
    "high = pivoted_stocks_df[cats[cats['value'] == 'high']\n",
    "              ['Symbol']].pct_change(-1).mean(axis=1)\n",
    "# calculates the difference in the high returns and low returns\n",
    "HML = pd.DataFrame(high-low, columns=['HML'])\n",
    "\n",
    "# compute the market premium\n",
    "# risk_free_rate = (1+market_risk['IRX']/365)**365-1\n",
    "# market_premium = pd.DataFrame(\n",
    "#     market_risk['GSPC']-risk_free_rate, columns=['market_premium'])\n",
    "# market_risk\n",
    "\n",
    "# combine the 3 Fama-French factors\n",
    "factors = pd.concat([SMB, HML], axis=1)\n",
    "factors.head(10)  # so viewers can have a look"
   ]
  },
  {
   "cell_type": "code",
   "execution_count": 15,
   "metadata": {},
   "outputs": [
    {
     "data": {
      "text/plain": [
       "(3611, 2)"
      ]
     },
     "execution_count": 15,
     "metadata": {},
     "output_type": "execute_result"
    }
   ],
   "source": [
    "factors.shape"
   ]
  },
  {
   "cell_type": "markdown",
   "metadata": {},
   "source": [
    "Посчитаем доходность для индекса AAPL и подберем модель."
   ]
  },
  {
   "cell_type": "code",
   "execution_count": 16,
   "metadata": {},
   "outputs": [],
   "source": [
    "r_m = index_df['S&P500'].pct_change(-1)\n",
    "# r_m.iloc[0] = 1\n",
    "\n",
    "# r_f = pivoted_stocks_df['AAPL'] / pivoted_stocks_df['AAPL'].shift()\n",
    "# r_f.iloc[0] = 1"
   ]
  },
  {
   "cell_type": "code",
   "execution_count": 17,
   "metadata": {},
   "outputs": [],
   "source": [
    "risk_free_rate = r_m.mean()"
   ]
  },
  {
   "cell_type": "code",
   "execution_count": 18,
   "metadata": {},
   "outputs": [],
   "source": [
    "market_premium = r_m - risk_free_rate\n",
    "factors['market_premium'] = market_premium"
   ]
  },
  {
   "cell_type": "code",
   "execution_count": 19,
   "metadata": {},
   "outputs": [
    {
     "data": {
      "text/plain": [
       "(3611, 3)"
      ]
     },
     "execution_count": 19,
     "metadata": {},
     "output_type": "execute_result"
    }
   ],
   "source": [
    "factors.shape"
   ]
  },
  {
   "cell_type": "markdown",
   "metadata": {},
   "source": [
    "Построим регрессию 3-факторной модели Фамы-Френча"
   ]
  },
  {
   "cell_type": "code",
   "execution_count": 20,
   "metadata": {},
   "outputs": [],
   "source": [
    "def Fama_French_Metrics(symbol, factors, riskfree, sample):\n",
    "    returns = pivoted_stocks_df[symbol].pct_change(-1)\n",
    "    returns = pd.DataFrame(returns - riskfree)\n",
    "    returns = returns.rename(columns={symbol: symbol + ' Return Premium'})\n",
    "    returns = returns.dropna(axis=0)\n",
    "\n",
    "    # delete later\n",
    "    factors = factors.join(returns)\n",
    "    factors = sm.add_constant(factors).dropna(axis=0)\n",
    "    returns = factors[symbol + ' Return Premium']\n",
    "    factors = factors.drop(columns=[symbol + ' Return Premium'])\n",
    "    \n",
    "    model = sm.OLS(returns, factors).fit()\n",
    "\n",
    "    if model.pvalues.iloc[0] < 0.05:\n",
    "        # statistically signiciant at the 5% level (could be lower)\n",
    "        alpha = model.params.iloc[0]\n",
    "    else:\n",
    "        alpha = 0  # Inconclusive, not enough evidence to claim it is not zero.\n",
    "    if model.pvalues.iloc[1] < 0.05:\n",
    "        market_risk_beta = model.params.iloc[1]\n",
    "    else:\n",
    "        market_risk_beta = 0\n",
    "    if model.pvalues.iloc[2] < 0.05:\n",
    "        size_beta = model.params.iloc[2]\n",
    "    else:\n",
    "        size_beta = 0\n",
    "    if model.pvalues.iloc[3] < 0.05:\n",
    "        value_beta = model.params.iloc[3]\n",
    "    else:\n",
    "        value_beta = 0\n",
    "    r2 = model.rsquared_adj\n",
    "\n",
    "    if sample == True:\n",
    "        vif_data = pd.DataFrame()\n",
    "        vif_data['Variable'] = factors.columns\n",
    "        vif_data['VIF'] = [variance_inflation_factor(\n",
    "            factors.values, i) for i in range(factors.shape[1])]\n",
    "    else:\n",
    "        model = ''\n",
    "        vif_data = ''\n",
    "    return alpha, market_risk_beta, size_beta, value_beta, r2, model, vif_data"
   ]
  },
  {
   "cell_type": "code",
   "execution_count": 21,
   "metadata": {},
   "outputs": [
    {
     "name": "stdout",
     "output_type": "stream",
     "text": [
      "                             OLS Regression Results                            \n",
      "===============================================================================\n",
      "Dep. Variable:     AAPL Return Premium   R-squared:                       0.606\n",
      "Model:                             OLS   Adj. R-squared:                  0.606\n",
      "Method:                  Least Squares   F-statistic:                     1292.\n",
      "Date:                 Fri, 10 May 2024   Prob (F-statistic):               0.00\n",
      "Time:                         03:05:56   Log-Likelihood:                 7752.2\n",
      "No. Observations:                 2523   AIC:                        -1.550e+04\n",
      "Df Residuals:                     2519   BIC:                        -1.547e+04\n",
      "Df Model:                            3                                         \n",
      "Covariance Type:             nonrobust                                         \n",
      "==================================================================================\n",
      "                     coef    std err          t      P>|t|      [0.025      0.975]\n",
      "----------------------------------------------------------------------------------\n",
      "const          -9.691e-05      0.000     -0.432      0.666      -0.001       0.000\n",
      "SMB               -0.2634      0.054     -4.841      0.000      -0.370      -0.157\n",
      "HML                0.3214      0.031     10.413      0.000       0.261       0.382\n",
      "market_premium     1.1601      0.020     56.843      0.000       1.120       1.200\n",
      "==============================================================================\n",
      "Omnibus:                      302.287   Durbin-Watson:                   1.933\n",
      "Prob(Omnibus):                  0.000   Jarque-Bera (JB):             3048.594\n",
      "Skew:                          -0.064   Prob(JB):                         0.00\n",
      "Kurtosis:                       8.384   Cond. No.                         258.\n",
      "==============================================================================\n",
      "\n",
      "Notes:\n",
      "[1] Standard Errors assume that the covariance matrix of the errors is correctly specified.\n",
      "\n",
      "\n",
      "         Variable       VIF\n",
      "0           const  1.008953\n",
      "1             SMB  1.416033\n",
      "2             HML  1.447973\n",
      "3  market_premium  1.057807\n"
     ]
    }
   ],
   "source": [
    "# returns the results for each stock\n",
    "sample = Fama_French_Metrics('AAPL', factors, risk_free_rate, True)\n",
    "print(sample[5].summary())  # Sample OLS Regression\n",
    "print('\\n')\n",
    "print(sample[6])  # Sample OLS Regression"
   ]
  },
  {
   "cell_type": "markdown",
   "metadata": {},
   "source": [
    "Выводы:"
   ]
  },
  {
   "cell_type": "markdown",
   "metadata": {},
   "source": []
  },
  {
   "cell_type": "markdown",
   "metadata": {},
   "source": []
  },
  {
   "cell_type": "code",
   "execution_count": 22,
   "metadata": {},
   "outputs": [
    {
     "data": {
      "text/html": [
       "<div>\n",
       "<style scoped>\n",
       "    .dataframe tbody tr th:only-of-type {\n",
       "        vertical-align: middle;\n",
       "    }\n",
       "\n",
       "    .dataframe tbody tr th {\n",
       "        vertical-align: top;\n",
       "    }\n",
       "\n",
       "    .dataframe thead th {\n",
       "        text-align: right;\n",
       "    }\n",
       "</style>\n",
       "<table border=\"1\" class=\"dataframe\">\n",
       "  <thead>\n",
       "    <tr style=\"text-align: right;\">\n",
       "      <th></th>\n",
       "      <th>alpha</th>\n",
       "      <th>market_premium_beta</th>\n",
       "      <th>size_beta</th>\n",
       "      <th>value_beta</th>\n",
       "      <th>r-squared</th>\n",
       "      <th>size</th>\n",
       "      <th>value</th>\n",
       "    </tr>\n",
       "  </thead>\n",
       "  <tbody>\n",
       "    <tr>\n",
       "      <th>MSFT</th>\n",
       "      <td>0.0</td>\n",
       "      <td>-0.511559</td>\n",
       "      <td>0.348489</td>\n",
       "      <td>1.178243</td>\n",
       "      <td>0.717174</td>\n",
       "      <td>big</td>\n",
       "      <td>high</td>\n",
       "    </tr>\n",
       "    <tr>\n",
       "      <th>AAPL</th>\n",
       "      <td>0.0</td>\n",
       "      <td>-0.263399</td>\n",
       "      <td>0.321391</td>\n",
       "      <td>1.160119</td>\n",
       "      <td>0.605700</td>\n",
       "      <td>big</td>\n",
       "      <td>high</td>\n",
       "    </tr>\n",
       "    <tr>\n",
       "      <th>NVDA</th>\n",
       "      <td>0.0</td>\n",
       "      <td>0.000000</td>\n",
       "      <td>1.120189</td>\n",
       "      <td>1.561056</td>\n",
       "      <td>0.538202</td>\n",
       "      <td>big</td>\n",
       "      <td>high</td>\n",
       "    </tr>\n",
       "    <tr>\n",
       "      <th>GOOG</th>\n",
       "      <td>0.0</td>\n",
       "      <td>-0.347638</td>\n",
       "      <td>0.287441</td>\n",
       "      <td>1.113663</td>\n",
       "      <td>0.569345</td>\n",
       "      <td>big</td>\n",
       "      <td>mid</td>\n",
       "    </tr>\n",
       "    <tr>\n",
       "      <th>GOOGL</th>\n",
       "      <td>0.0</td>\n",
       "      <td>-0.353645</td>\n",
       "      <td>0.294404</td>\n",
       "      <td>1.117225</td>\n",
       "      <td>0.575654</td>\n",
       "      <td>big</td>\n",
       "      <td>mid</td>\n",
       "    </tr>\n",
       "    <tr>\n",
       "      <th>...</th>\n",
       "      <td>...</td>\n",
       "      <td>...</td>\n",
       "      <td>...</td>\n",
       "      <td>...</td>\n",
       "      <td>...</td>\n",
       "      <td>...</td>\n",
       "      <td>...</td>\n",
       "    </tr>\n",
       "    <tr>\n",
       "      <th>RHI</th>\n",
       "      <td>0.0</td>\n",
       "      <td>0.972324</td>\n",
       "      <td>0.000000</td>\n",
       "      <td>1.034383</td>\n",
       "      <td>0.444821</td>\n",
       "      <td>small</td>\n",
       "      <td>mid</td>\n",
       "    </tr>\n",
       "    <tr>\n",
       "      <th>ETSY</th>\n",
       "      <td>0.0</td>\n",
       "      <td>2.340311</td>\n",
       "      <td>1.666586</td>\n",
       "      <td>1.129560</td>\n",
       "      <td>0.298366</td>\n",
       "      <td>small</td>\n",
       "      <td>mid</td>\n",
       "    </tr>\n",
       "    <tr>\n",
       "      <th>CMA</th>\n",
       "      <td>0.0</td>\n",
       "      <td>1.413740</td>\n",
       "      <td>-0.630964</td>\n",
       "      <td>1.402701</td>\n",
       "      <td>0.510805</td>\n",
       "      <td>small</td>\n",
       "      <td>mid</td>\n",
       "    </tr>\n",
       "    <tr>\n",
       "      <th>NCLH</th>\n",
       "      <td>0.0</td>\n",
       "      <td>2.657887</td>\n",
       "      <td>-0.363217</td>\n",
       "      <td>1.749208</td>\n",
       "      <td>0.416877</td>\n",
       "      <td>small</td>\n",
       "      <td>low</td>\n",
       "    </tr>\n",
       "    <tr>\n",
       "      <th>IVZ</th>\n",
       "      <td>0.0</td>\n",
       "      <td>1.005399</td>\n",
       "      <td>-0.313081</td>\n",
       "      <td>1.529312</td>\n",
       "      <td>0.580299</td>\n",
       "      <td>small</td>\n",
       "      <td>mid</td>\n",
       "    </tr>\n",
       "  </tbody>\n",
       "</table>\n",
       "<p>503 rows × 7 columns</p>\n",
       "</div>"
      ],
      "text/plain": [
       "       alpha  market_premium_beta  size_beta  value_beta  r-squared   size  \\\n",
       "MSFT     0.0            -0.511559   0.348489    1.178243   0.717174    big   \n",
       "AAPL     0.0            -0.263399   0.321391    1.160119   0.605700    big   \n",
       "NVDA     0.0             0.000000   1.120189    1.561056   0.538202    big   \n",
       "GOOG     0.0            -0.347638   0.287441    1.113663   0.569345    big   \n",
       "GOOGL    0.0            -0.353645   0.294404    1.117225   0.575654    big   \n",
       "...      ...                  ...        ...         ...        ...    ...   \n",
       "RHI      0.0             0.972324   0.000000    1.034383   0.444821  small   \n",
       "ETSY     0.0             2.340311   1.666586    1.129560   0.298366  small   \n",
       "CMA      0.0             1.413740  -0.630964    1.402701   0.510805  small   \n",
       "NCLH     0.0             2.657887  -0.363217    1.749208   0.416877  small   \n",
       "IVZ      0.0             1.005399  -0.313081    1.529312   0.580299  small   \n",
       "\n",
       "      value  \n",
       "MSFT   high  \n",
       "AAPL   high  \n",
       "NVDA   high  \n",
       "GOOG    mid  \n",
       "GOOGL   mid  \n",
       "...     ...  \n",
       "RHI     mid  \n",
       "ETSY    mid  \n",
       "CMA     mid  \n",
       "NCLH    low  \n",
       "IVZ     mid  \n",
       "\n",
       "[503 rows x 7 columns]"
      ]
     },
     "execution_count": 22,
     "metadata": {},
     "output_type": "execute_result"
    }
   ],
   "source": [
    "ff_stats = []\n",
    "for stk in cats['Symbol']:\n",
    "    ols_stats = Fama_French_Metrics(stk, factors, risk_free_rate, False)\n",
    "    ff_stats.append([stk, ols_stats[0], ols_stats[1],\n",
    "                    ols_stats[2], ols_stats[3], ols_stats[4]])\n",
    "\n",
    "ff_stats = pd.DataFrame(ff_stats, columns=[\n",
    "                        'symbol', 'alpha', 'market_premium_beta', 'size_beta', 'value_beta', 'r-squared'])\n",
    "output = pd.concat([ff_stats.set_index('symbol'),\n",
    "                   cats.set_index('Symbol')], axis=1)\n",
    "output"
   ]
  },
  {
   "cell_type": "markdown",
   "metadata": {},
   "source": [
    "## Regression Output Charts"
   ]
  },
  {
   "cell_type": "markdown",
   "metadata": {},
   "source": [
    "#### Сравнение размеров\n",
    "\n",
    "Далее рассматриваются гистограммы акций мелких и крупных компаний, поэтому акции среднего размера исключаются из выборки. Можно заметить, что бета-распределения по размерам выглядят несколько иначе, поэтому далее можно найти t-критерий для независимых выборок, который проверяет равенство средних значений."
   ]
  },
  {
   "cell_type": "code",
   "execution_count": 23,
   "metadata": {},
   "outputs": [
    {
     "data": {
      "image/png": "[encoded data removed]",
      "text/plain": [
       "<Figure size 2000x500 with 3 Axes>"
      ]
     },
     "metadata": {},
     "output_type": "display_data"
    }
   ],
   "source": [
    "fig, axes = plt.subplots(1, 3, figsize=(20, 5))\n",
    "outsize = output[~(output['size'] == 'mid')]\n",
    "sns.histplot(x=outsize['market_premium_beta'], hue=outsize['size'], ax=axes[0])\n",
    "sns.histplot(x=outsize['size_beta'], hue=outsize['size'], ax=axes[1])\n",
    "sns.histplot(x=outsize['value_beta'], hue=outsize['size'], ax=axes[2])\n",
    "axes[0].set_title('Distributions of the Market Premium Beta')\n",
    "axes[1].set_title('Distributions of the Size Beta')\n",
    "axes[2].set_title('Distributions of the Value Beta')\n",
    "plt.show()"
   ]
  },
  {
   "cell_type": "markdown",
   "metadata": {},
   "source": [
    "#### Сравнение значений\n",
    "\n",
    "Ниже рассматриваются гистограммы акций стоимости и роста, поэтому акции средней стоимости исключаются из выборки. Можно заметить, что бета-распределения значений выглядят несколько иначе, поэтому далее можно найти t-тест для независимых выборок, которые проверяют равенство средних значений."
   ]
  },
  {
   "cell_type": "code",
   "execution_count": 24,
   "metadata": {},
   "outputs": [
    {
     "data": {
      "image/png": "[encoded data removed]",
      "text/plain": [
       "<Figure size 2000x500 with 3 Axes>"
      ]
     },
     "metadata": {},
     "output_type": "display_data"
    }
   ],
   "source": [
    "fig, axes = plt.subplots(1, 3, figsize=(20, 5))\n",
    "outvalue = output[~(output['value'] == 'mid')]\n",
    "sns.histplot(x=outvalue['market_premium_beta'],\n",
    "             hue=outvalue['value'], ax=axes[0])\n",
    "sns.histplot(x=outvalue['size_beta'], hue=outvalue['value'], ax=axes[1])\n",
    "sns.histplot(x=outvalue['value_beta'], hue=outvalue['value'], ax=axes[2])\n",
    "axes[0].set_title('Distributions of the Market Premium Beta')\n",
    "axes[1].set_title('Distributions of the Size Beta')\n",
    "axes[2].set_title('Distributions of the Value Beta')\n",
    "plt.show()"
   ]
  },
  {
   "cell_type": "markdown",
   "metadata": {},
   "source": [
    "#### Коэффициент детерминации сравнения\n",
    "\n",
    "Ниже рассматриваются гистограммы коэффициента детерминации между акциями мелких и крупных компаний, а также между акциями стоимости и акциями роста. Может быть трудно определить, одинаковы ли распределения, поэтому далее можно найти t-критерии для независимых выборок, которые проверяют равенство средних значений."
   ]
  },
  {
   "cell_type": "code",
   "execution_count": 25,
   "metadata": {},
   "outputs": [
    {
     "data": {
      "image/png": "[encoded data removed]",
      "text/plain": [
       "<Figure size 2000x500 with 2 Axes>"
      ]
     },
     "metadata": {},
     "output_type": "display_data"
    }
   ],
   "source": [
    "fig, axes = plt.subplots(1, 2, figsize=(20, 5))\n",
    "sns.histplot(x=outsize['r-squared'], hue=outsize['size'], ax=axes[0])\n",
    "sns.histplot(x=outvalue['r-squared'], hue=outvalue['value'], ax=axes[1])\n",
    "axes[0].set_title('Big and Small Coefficient of Determination Distributions')\n",
    "axes[1].set_title(\n",
    "    'Value and Growth Coefficient of Determination Distributions')\n",
    "plt.show()"
   ]
  },
  {
   "cell_type": "markdown",
   "metadata": {},
   "source": [
    "## T-tests"
   ]
  },
  {
   "cell_type": "markdown",
   "metadata": {},
   "source": [
    "#### T-Tests on Small vs. Big β<sub>SMB</sub> and High vs. Low β<sub>HML</sub>"
   ]
  },
  {
   "cell_type": "markdown",
   "metadata": {},
   "source": [
    "Можно наблюдать статистически значимую разницу между средними значениями R<sup>2</sup> акций крупных и мелких компаний. Разница в средних значениях R<sup>2</sup> акций стоимости и акций роста статистически значима на уровне значимости 10 %, но не на уровне значимости 5 %."
   ]
  },
  {
   "cell_type": "code",
   "execution_count": 26,
   "metadata": {},
   "outputs": [
    {
     "name": "stdout",
     "output_type": "stream",
     "text": [
      "T-test of size beta between small and large stocks\n",
      "P-value = 0.9725079801670418\n",
      "\n",
      "T-test of value beta between low and high price-to-book ratio\n",
      "P-value = 0.5467529226454231\n"
     ]
    }
   ],
   "source": [
    "print('T-test of size beta between small and large stocks')\n",
    "p_value = stats.ttest_ind(output[output['size'] == 'small']\n",
    "                          ['size_beta'], output[output['size'] == 'big']['size_beta'])[1]\n",
    "print('P-value = ' + str(p_value))\n",
    "print('\\nT-test of value beta between low and high price-to-book ratio')\n",
    "p_value = stats.ttest_ind(output[output['value'] == 'low']['value_beta'],\n",
    "                          output[output['value'] == 'high']['value_beta'])[1]\n",
    "print('P-value = ' + str(p_value))"
   ]
  },
  {
   "cell_type": "markdown",
   "metadata": {},
   "source": [
    "#### T-Tests on Small vs. Big R<sup>2</sup> and High vs. Low R<sup>2</sup>"
   ]
  },
  {
   "cell_type": "markdown",
   "metadata": {},
   "source": [
    "Можно наблюдать статистически значимую разницу между средними значениями R<sup>2</sup> акций крупных и мелких компаний. Разница в средних значениях R<sup>2</sup> акций стоимости и акций роста статистически значима на уровне значимости 10 %, но не на уровне значимости 5 %."
   ]
  },
  {
   "cell_type": "code",
   "execution_count": 27,
   "metadata": {},
   "outputs": [
    {
     "name": "stdout",
     "output_type": "stream",
     "text": [
      "T-test of R-squared between small and large stocks\n",
      "P-value = 1.2113783719097986e-05\n",
      "\n",
      "T-test of R-squared between growth and value stocks\n",
      "P-value = 2.0336247732574858e-05\n"
     ]
    }
   ],
   "source": [
    "print('T-test of R-squared between small and large stocks')\n",
    "p_value = stats.ttest_ind(output[output['size'] == 'small']\n",
    "                          ['r-squared'], output[output['size'] == 'big']['r-squared'])[1]\n",
    "print('P-value = ' + str(p_value))\n",
    "print('\\nT-test of R-squared between growth and value stocks')\n",
    "p_value = stats.ttest_ind(output[output['value'] == 'low']['r-squared'],\n",
    "                          output[output['value'] == 'high']['r-squared'])[1]\n",
    "print('P-value = ' + str(p_value))"
   ]
  },
  {
   "cell_type": "markdown",
   "metadata": {},
   "source": [
    "## Conclusion"
   ]
  },
  {
   "cell_type": "markdown",
   "metadata": {},
   "source": []
  },
  {
   "cell_type": "code",
   "execution_count": 28,
   "metadata": {},
   "outputs": [],
   "source": [
    "factors.to_csv('../data/sp500_preprocess.csv')"
   ]
  }
 ],
 "metadata": {
  "kernelspec": {
   "display_name": "Python 3",
   "language": "python",
   "name": "python3"
  },
  "language_info": {
   "codemirror_mode": {
    "name": "ipython",
    "version": 3
   },
   "file_extension": ".py",
   "mimetype": "text/x-python",
   "name": "python",
   "nbconvert_exporter": "python",
   "pygments_lexer": "ipython3",
   "version": "3.11.7"
  }
 },
 "nbformat": 4,
 "nbformat_minor": 2
}
